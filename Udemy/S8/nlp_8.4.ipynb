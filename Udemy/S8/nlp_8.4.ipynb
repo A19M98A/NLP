{
 "cells": [
  {
   "cell_type": "code",
   "execution_count": 1,
   "metadata": {},
   "outputs": [],
   "source": [
    "import numpy as np"
   ]
  },
  {
   "cell_type": "code",
   "execution_count": 2,
   "metadata": {},
   "outputs": [],
   "source": [
    "from sklearn.datasets import load_iris"
   ]
  },
  {
   "cell_type": "code",
   "execution_count": 3,
   "metadata": {},
   "outputs": [],
   "source": [
    "iris = load_iris()"
   ]
  },
  {
   "cell_type": "code",
   "execution_count": 4,
   "metadata": {},
   "outputs": [
    {
     "data": {
      "text/plain": [
       "sklearn.utils.Bunch"
      ]
     },
     "execution_count": 4,
     "metadata": {},
     "output_type": "execute_result"
    }
   ],
   "source": [
    "type(iris)"
   ]
  },
  {
   "cell_type": "code",
   "execution_count": 5,
   "metadata": {},
   "outputs": [
    {
     "name": "stdout",
     "output_type": "stream",
     "text": [
      ".. _iris_dataset:\n",
      "\n",
      "Iris plants dataset\n",
      "--------------------\n",
      "\n",
      "**Data Set Characteristics:**\n",
      "\n",
      "    :Number of Instances: 150 (50 in each of three classes)\n",
      "    :Number of Attributes: 4 numeric, predictive attributes and the class\n",
      "    :Attribute Information:\n",
      "        - sepal length in cm\n",
      "        - sepal width in cm\n",
      "        - petal length in cm\n",
      "        - petal width in cm\n",
      "        - class:\n",
      "                - Iris-Setosa\n",
      "                - Iris-Versicolour\n",
      "                - Iris-Virginica\n",
      "                \n",
      "    :Summary Statistics:\n",
      "\n",
      "    ============== ==== ==== ======= ===== ====================\n",
      "                    Min  Max   Mean    SD   Class Correlation\n",
      "    ============== ==== ==== ======= ===== ====================\n",
      "    sepal length:   4.3  7.9   5.84   0.83    0.7826\n",
      "    sepal width:    2.0  4.4   3.05   0.43   -0.4194\n",
      "    petal length:   1.0  6.9   3.76   1.76    0.9490  (high!)\n",
      "    petal width:    0.1  2.5   1.20   0.76    0.9565  (high!)\n",
      "    ============== ==== ==== ======= ===== ====================\n",
      "\n",
      "    :Missing Attribute Values: None\n",
      "    :Class Distribution: 33.3% for each of 3 classes.\n",
      "    :Creator: R.A. Fisher\n",
      "    :Donor: Michael Marshall (MARSHALL%PLU@io.arc.nasa.gov)\n",
      "    :Date: July, 1988\n",
      "\n",
      "The famous Iris database, first used by Sir R.A. Fisher. The dataset is taken\n",
      "from Fisher's paper. Note that it's the same as in R, but not as in the UCI\n",
      "Machine Learning Repository, which has two wrong data points.\n",
      "\n",
      "This is perhaps the best known database to be found in the\n",
      "pattern recognition literature.  Fisher's paper is a classic in the field and\n",
      "is referenced frequently to this day.  (See Duda & Hart, for example.)  The\n",
      "data set contains 3 classes of 50 instances each, where each class refers to a\n",
      "type of iris plant.  One class is linearly separable from the other 2; the\n",
      "latter are NOT linearly separable from each other.\n",
      "\n",
      ".. topic:: References\n",
      "\n",
      "   - Fisher, R.A. \"The use of multiple measurements in taxonomic problems\"\n",
      "     Annual Eugenics, 7, Part II, 179-188 (1936); also in \"Contributions to\n",
      "     Mathematical Statistics\" (John Wiley, NY, 1950).\n",
      "   - Duda, R.O., & Hart, P.E. (1973) Pattern Classification and Scene Analysis.\n",
      "     (Q327.D83) John Wiley & Sons.  ISBN 0-471-22361-1.  See page 218.\n",
      "   - Dasarathy, B.V. (1980) \"Nosing Around the Neighborhood: A New System\n",
      "     Structure and Classification Rule for Recognition in Partially Exposed\n",
      "     Environments\".  IEEE Transactions on Pattern Analysis and Machine\n",
      "     Intelligence, Vol. PAMI-2, No. 1, 67-71.\n",
      "   - Gates, G.W. (1972) \"The Reduced Nearest Neighbor Rule\".  IEEE Transactions\n",
      "     on Information Theory, May 1972, 431-433.\n",
      "   - See also: 1988 MLC Proceedings, 54-64.  Cheeseman et al\"s AUTOCLASS II\n",
      "     conceptual clustering system finds 3 classes in the data.\n",
      "   - Many, many more ...\n"
     ]
    }
   ],
   "source": [
    "print(iris.DESCR)"
   ]
  },
  {
   "cell_type": "code",
   "execution_count": 6,
   "metadata": {},
   "outputs": [],
   "source": [
    "X = iris.data"
   ]
  },
  {
   "cell_type": "code",
   "execution_count": 7,
   "metadata": {},
   "outputs": [],
   "source": [
    "y = iris.target"
   ]
  },
  {
   "cell_type": "code",
   "execution_count": 8,
   "metadata": {},
   "outputs": [],
   "source": [
    "from keras.utils import to_categorical"
   ]
  },
  {
   "cell_type": "code",
   "execution_count": 9,
   "metadata": {},
   "outputs": [],
   "source": [
    "y = to_categorical(y)"
   ]
  },
  {
   "cell_type": "code",
   "execution_count": 10,
   "metadata": {},
   "outputs": [],
   "source": [
    "from sklearn.model_selection import train_test_split"
   ]
  },
  {
   "cell_type": "code",
   "execution_count": 11,
   "metadata": {},
   "outputs": [],
   "source": [
    "X_train, X_test, y_train, y_test = train_test_split(X, y, test_size=0.33, random_state=42)"
   ]
  },
  {
   "cell_type": "code",
   "execution_count": 12,
   "metadata": {},
   "outputs": [],
   "source": [
    "from sklearn.preprocessing import MinMaxScaler"
   ]
  },
  {
   "cell_type": "code",
   "execution_count": 13,
   "metadata": {},
   "outputs": [],
   "source": [
    "scaler_object = MinMaxScaler()"
   ]
  },
  {
   "cell_type": "code",
   "execution_count": 14,
   "metadata": {},
   "outputs": [
    {
     "data": {
      "text/plain": [
       "MinMaxScaler()"
      ]
     },
     "execution_count": 14,
     "metadata": {},
     "output_type": "execute_result"
    }
   ],
   "source": [
    "scaler_object.fit(X_train)"
   ]
  },
  {
   "cell_type": "code",
   "execution_count": 15,
   "metadata": {},
   "outputs": [],
   "source": [
    "scaled_X_train = scaler_object.transform(X_train)"
   ]
  },
  {
   "cell_type": "code",
   "execution_count": 16,
   "metadata": {},
   "outputs": [],
   "source": [
    "scaled_X_test = scaler_object.transform(X_test)"
   ]
  },
  {
   "cell_type": "code",
   "execution_count": 18,
   "metadata": {},
   "outputs": [],
   "source": [
    "from keras.models import Sequential\n",
    "from keras.layers import Dense"
   ]
  },
  {
   "cell_type": "code",
   "execution_count": 19,
   "metadata": {},
   "outputs": [],
   "source": [
    "model = Sequential()\n",
    "model.add(Dense(8, input_dim=4, activation='relu'))\n",
    "model.add(Dense(8, input_dim=4, activation='relu'))\n",
    "model.add(Dense(3, activation='softmax'))\n",
    "model.compile(loss='categorical_crossentropy', optimizer='adam', metrics=['accuracy'])"
   ]
  },
  {
   "cell_type": "code",
   "execution_count": 20,
   "metadata": {},
   "outputs": [
    {
     "name": "stdout",
     "output_type": "stream",
     "text": [
      "Model: \"sequential\"\n",
      "_________________________________________________________________\n",
      "Layer (type)                 Output Shape              Param #   \n",
      "=================================================================\n",
      "dense (Dense)                (None, 8)                 40        \n",
      "_________________________________________________________________\n",
      "dense_1 (Dense)              (None, 8)                 72        \n",
      "_________________________________________________________________\n",
      "dense_2 (Dense)              (None, 3)                 27        \n",
      "=================================================================\n",
      "Total params: 139\n",
      "Trainable params: 139\n",
      "Non-trainable params: 0\n",
      "_________________________________________________________________\n"
     ]
    }
   ],
   "source": [
    "model.summary()"
   ]
  },
  {
   "cell_type": "code",
   "execution_count": 21,
   "metadata": {},
   "outputs": [
    {
     "name": "stdout",
     "output_type": "stream",
     "text": [
      "Epoch 1/150\n",
      "4/4 - 1s - loss: 1.1364 - accuracy: 0.2500\n",
      "Epoch 2/150\n",
      "4/4 - 0s - loss: 1.1300 - accuracy: 0.2400\n",
      "Epoch 3/150\n",
      "4/4 - 0s - loss: 1.1245 - accuracy: 0.2300\n",
      "Epoch 4/150\n",
      "4/4 - 0s - loss: 1.1202 - accuracy: 0.2100\n",
      "Epoch 5/150\n",
      "4/4 - 0s - loss: 1.1162 - accuracy: 0.2600\n",
      "Epoch 6/150\n",
      "4/4 - 0s - loss: 1.1129 - accuracy: 0.3300\n",
      "Epoch 7/150\n",
      "4/4 - 0s - loss: 1.1100 - accuracy: 0.4100\n",
      "Epoch 8/150\n",
      "4/4 - 0s - loss: 1.1073 - accuracy: 0.4600\n",
      "Epoch 9/150\n",
      "4/4 - 0s - loss: 1.1052 - accuracy: 0.5100\n",
      "Epoch 10/150\n",
      "4/4 - 0s - loss: 1.1035 - accuracy: 0.5600\n",
      "Epoch 11/150\n",
      "4/4 - 0s - loss: 1.1018 - accuracy: 0.5800\n",
      "Epoch 12/150\n",
      "4/4 - 0s - loss: 1.0999 - accuracy: 0.5800\n",
      "Epoch 13/150\n",
      "4/4 - 0s - loss: 1.0984 - accuracy: 0.5700\n",
      "Epoch 14/150\n",
      "4/4 - 0s - loss: 1.0972 - accuracy: 0.5800\n",
      "Epoch 15/150\n",
      "4/4 - 0s - loss: 1.0962 - accuracy: 0.5700\n",
      "Epoch 16/150\n",
      "4/4 - 0s - loss: 1.0947 - accuracy: 0.5700\n",
      "Epoch 17/150\n",
      "4/4 - 0s - loss: 1.0931 - accuracy: 0.5500\n",
      "Epoch 18/150\n",
      "4/4 - 0s - loss: 1.0915 - accuracy: 0.5300\n",
      "Epoch 19/150\n",
      "4/4 - 0s - loss: 1.0896 - accuracy: 0.5400\n",
      "Epoch 20/150\n",
      "4/4 - 0s - loss: 1.0881 - accuracy: 0.5400\n",
      "Epoch 21/150\n",
      "4/4 - 0s - loss: 1.0857 - accuracy: 0.5200\n",
      "Epoch 22/150\n",
      "4/4 - 0s - loss: 1.0840 - accuracy: 0.5100\n",
      "Epoch 23/150\n",
      "4/4 - 0s - loss: 1.0821 - accuracy: 0.5200\n",
      "Epoch 24/150\n",
      "4/4 - 0s - loss: 1.0802 - accuracy: 0.5200\n",
      "Epoch 25/150\n",
      "4/4 - 0s - loss: 1.0786 - accuracy: 0.5300\n",
      "Epoch 26/150\n",
      "4/4 - 0s - loss: 1.0768 - accuracy: 0.5100\n",
      "Epoch 27/150\n",
      "4/4 - 0s - loss: 1.0755 - accuracy: 0.5100\n",
      "Epoch 28/150\n",
      "4/4 - 0s - loss: 1.0740 - accuracy: 0.5100\n",
      "Epoch 29/150\n",
      "4/4 - 0s - loss: 1.0725 - accuracy: 0.5100\n",
      "Epoch 30/150\n",
      "4/4 - 0s - loss: 1.0710 - accuracy: 0.5300\n",
      "Epoch 31/150\n",
      "4/4 - 0s - loss: 1.0693 - accuracy: 0.5400\n",
      "Epoch 32/150\n",
      "4/4 - 0s - loss: 1.0676 - accuracy: 0.5500\n",
      "Epoch 33/150\n",
      "4/4 - 0s - loss: 1.0661 - accuracy: 0.5800\n",
      "Epoch 34/150\n",
      "4/4 - 0s - loss: 1.0645 - accuracy: 0.6600\n",
      "Epoch 35/150\n",
      "4/4 - 0s - loss: 1.0627 - accuracy: 0.6800\n",
      "Epoch 36/150\n",
      "4/4 - 0s - loss: 1.0607 - accuracy: 0.7000\n",
      "Epoch 37/150\n",
      "4/4 - 0s - loss: 1.0583 - accuracy: 0.6800\n",
      "Epoch 38/150\n",
      "4/4 - 0s - loss: 1.0560 - accuracy: 0.6800\n",
      "Epoch 39/150\n",
      "4/4 - 0s - loss: 1.0538 - accuracy: 0.7000\n",
      "Epoch 40/150\n",
      "4/4 - 0s - loss: 1.0515 - accuracy: 0.7100\n",
      "Epoch 41/150\n",
      "4/4 - 0s - loss: 1.0495 - accuracy: 0.7600\n",
      "Epoch 42/150\n",
      "4/4 - 0s - loss: 1.0471 - accuracy: 0.7900\n",
      "Epoch 43/150\n",
      "4/4 - 0s - loss: 1.0444 - accuracy: 0.7600\n",
      "Epoch 44/150\n",
      "4/4 - 0s - loss: 1.0416 - accuracy: 0.7300\n",
      "Epoch 45/150\n",
      "4/4 - 0s - loss: 1.0388 - accuracy: 0.7300\n",
      "Epoch 46/150\n",
      "4/4 - 0s - loss: 1.0361 - accuracy: 0.7200\n",
      "Epoch 47/150\n",
      "4/4 - 0s - loss: 1.0330 - accuracy: 0.7300\n",
      "Epoch 48/150\n",
      "4/4 - 0s - loss: 1.0299 - accuracy: 0.7100\n",
      "Epoch 49/150\n",
      "4/4 - 0s - loss: 1.0269 - accuracy: 0.7100\n",
      "Epoch 50/150\n",
      "4/4 - 0s - loss: 1.0237 - accuracy: 0.7100\n",
      "Epoch 51/150\n",
      "4/4 - 0s - loss: 1.0201 - accuracy: 0.7200\n",
      "Epoch 52/150\n",
      "4/4 - 0s - loss: 1.0167 - accuracy: 0.7600\n",
      "Epoch 53/150\n",
      "4/4 - 0s - loss: 1.0129 - accuracy: 0.7700\n",
      "Epoch 54/150\n",
      "4/4 - 0s - loss: 1.0090 - accuracy: 0.7700\n",
      "Epoch 55/150\n",
      "4/4 - 0s - loss: 1.0047 - accuracy: 0.7800\n",
      "Epoch 56/150\n",
      "4/4 - 0s - loss: 1.0002 - accuracy: 0.7800\n",
      "Epoch 57/150\n",
      "4/4 - 0s - loss: 0.9960 - accuracy: 0.7800\n",
      "Epoch 58/150\n",
      "4/4 - 0s - loss: 0.9913 - accuracy: 0.7700\n",
      "Epoch 59/150\n",
      "4/4 - 0s - loss: 0.9864 - accuracy: 0.7600\n",
      "Epoch 60/150\n",
      "4/4 - 0s - loss: 0.9813 - accuracy: 0.7600\n",
      "Epoch 61/150\n",
      "4/4 - 0s - loss: 0.9757 - accuracy: 0.7600\n",
      "Epoch 62/150\n",
      "4/4 - 0s - loss: 0.9702 - accuracy: 0.7600\n",
      "Epoch 63/150\n",
      "4/4 - 0s - loss: 0.9642 - accuracy: 0.7500\n",
      "Epoch 64/150\n",
      "4/4 - 0s - loss: 0.9578 - accuracy: 0.7600\n",
      "Epoch 65/150\n",
      "4/4 - 0s - loss: 0.9514 - accuracy: 0.7900\n",
      "Epoch 66/150\n",
      "4/4 - 0s - loss: 0.9443 - accuracy: 0.8000\n",
      "Epoch 67/150\n",
      "4/4 - 0s - loss: 0.9379 - accuracy: 0.8600\n",
      "Epoch 68/150\n",
      "4/4 - 0s - loss: 0.9310 - accuracy: 0.9000\n",
      "Epoch 69/150\n",
      "4/4 - 0s - loss: 0.9231 - accuracy: 0.9000\n",
      "Epoch 70/150\n",
      "4/4 - 0s - loss: 0.9150 - accuracy: 0.9000\n",
      "Epoch 71/150\n",
      "4/4 - 0s - loss: 0.9067 - accuracy: 0.8800\n",
      "Epoch 72/150\n",
      "4/4 - 0s - loss: 0.8982 - accuracy: 0.8700\n",
      "Epoch 73/150\n",
      "4/4 - 0s - loss: 0.8889 - accuracy: 0.8700\n",
      "Epoch 74/150\n",
      "4/4 - 0s - loss: 0.8798 - accuracy: 0.8500\n",
      "Epoch 75/150\n",
      "4/4 - 0s - loss: 0.8703 - accuracy: 0.8100\n",
      "Epoch 76/150\n",
      "4/4 - 0s - loss: 0.8607 - accuracy: 0.8100\n",
      "Epoch 77/150\n",
      "4/4 - 0s - loss: 0.8515 - accuracy: 0.8400\n",
      "Epoch 78/150\n",
      "4/4 - 0s - loss: 0.8417 - accuracy: 0.8500\n",
      "Epoch 79/150\n",
      "4/4 - 0s - loss: 0.8321 - accuracy: 0.8500\n",
      "Epoch 80/150\n",
      "4/4 - 0s - loss: 0.8225 - accuracy: 0.8700\n",
      "Epoch 81/150\n",
      "4/4 - 0s - loss: 0.8129 - accuracy: 0.8600\n",
      "Epoch 82/150\n",
      "4/4 - 0s - loss: 0.8029 - accuracy: 0.8700\n",
      "Epoch 83/150\n",
      "4/4 - 0s - loss: 0.7923 - accuracy: 0.8700\n",
      "Epoch 84/150\n",
      "4/4 - 0s - loss: 0.7819 - accuracy: 0.8600\n",
      "Epoch 85/150\n",
      "4/4 - 0s - loss: 0.7714 - accuracy: 0.8400\n",
      "Epoch 86/150\n",
      "4/4 - 0s - loss: 0.7613 - accuracy: 0.8100\n",
      "Epoch 87/150\n",
      "4/4 - 0s - loss: 0.7516 - accuracy: 0.7900\n",
      "Epoch 88/150\n",
      "4/4 - 0s - loss: 0.7410 - accuracy: 0.7800\n",
      "Epoch 89/150\n",
      "4/4 - 0s - loss: 0.7311 - accuracy: 0.7800\n",
      "Epoch 90/150\n",
      "4/4 - 0s - loss: 0.7213 - accuracy: 0.7700\n",
      "Epoch 91/150\n",
      "4/4 - 0s - loss: 0.7114 - accuracy: 0.7600\n",
      "Epoch 92/150\n",
      "4/4 - 0s - loss: 0.7017 - accuracy: 0.7900\n",
      "Epoch 93/150\n",
      "4/4 - 0s - loss: 0.6921 - accuracy: 0.8400\n",
      "Epoch 94/150\n",
      "4/4 - 0s - loss: 0.6841 - accuracy: 0.8900\n",
      "Epoch 95/150\n",
      "4/4 - 0s - loss: 0.6756 - accuracy: 0.9100\n",
      "Epoch 96/150\n",
      "4/4 - 0s - loss: 0.6661 - accuracy: 0.9000\n",
      "Epoch 97/150\n",
      "4/4 - 0s - loss: 0.6572 - accuracy: 0.8700\n",
      "Epoch 98/150\n",
      "4/4 - 0s - loss: 0.6481 - accuracy: 0.8600\n",
      "Epoch 99/150\n",
      "4/4 - 0s - loss: 0.6397 - accuracy: 0.8400\n",
      "Epoch 100/150\n",
      "4/4 - 0s - loss: 0.6313 - accuracy: 0.8300\n",
      "Epoch 101/150\n",
      "4/4 - 0s - loss: 0.6233 - accuracy: 0.8300\n",
      "Epoch 102/150\n",
      "4/4 - 0s - loss: 0.6152 - accuracy: 0.8200\n",
      "Epoch 103/150\n",
      "4/4 - 0s - loss: 0.6079 - accuracy: 0.8000\n",
      "Epoch 104/150\n",
      "4/4 - 0s - loss: 0.6007 - accuracy: 0.8000\n",
      "Epoch 105/150\n",
      "4/4 - 0s - loss: 0.5932 - accuracy: 0.8000\n",
      "Epoch 106/150\n",
      "4/4 - 0s - loss: 0.5864 - accuracy: 0.8000\n",
      "Epoch 107/150\n",
      "4/4 - 0s - loss: 0.5798 - accuracy: 0.8000\n",
      "Epoch 108/150\n",
      "4/4 - 0s - loss: 0.5731 - accuracy: 0.8000\n",
      "Epoch 109/150\n",
      "4/4 - 0s - loss: 0.5672 - accuracy: 0.7800\n",
      "Epoch 110/150\n",
      "4/4 - 0s - loss: 0.5609 - accuracy: 0.7900\n",
      "Epoch 111/150\n",
      "4/4 - 0s - loss: 0.5548 - accuracy: 0.8200\n",
      "Epoch 112/150\n",
      "4/4 - 0s - loss: 0.5495 - accuracy: 0.8200\n",
      "Epoch 113/150\n",
      "4/4 - 0s - loss: 0.5438 - accuracy: 0.8000\n",
      "Epoch 114/150\n",
      "4/4 - 0s - loss: 0.5391 - accuracy: 0.7800\n",
      "Epoch 115/150\n",
      "4/4 - 0s - loss: 0.5343 - accuracy: 0.7800\n",
      "Epoch 116/150\n",
      "4/4 - 0s - loss: 0.5296 - accuracy: 0.7800\n",
      "Epoch 117/150\n",
      "4/4 - 0s - loss: 0.5249 - accuracy: 0.7800\n",
      "Epoch 118/150\n",
      "4/4 - 0s - loss: 0.5212 - accuracy: 0.7600\n",
      "Epoch 119/150\n",
      "4/4 - 0s - loss: 0.5170 - accuracy: 0.7500\n",
      "Epoch 120/150\n",
      "4/4 - 0s - loss: 0.5132 - accuracy: 0.7400\n",
      "Epoch 121/150\n",
      "4/4 - 0s - loss: 0.5094 - accuracy: 0.7400\n",
      "Epoch 122/150\n",
      "4/4 - 0s - loss: 0.5048 - accuracy: 0.7500\n",
      "Epoch 123/150\n",
      "4/4 - 0s - loss: 0.5001 - accuracy: 0.7800\n",
      "Epoch 124/150\n",
      "4/4 - 0s - loss: 0.4959 - accuracy: 0.8100\n",
      "Epoch 125/150\n",
      "4/4 - 0s - loss: 0.4922 - accuracy: 0.8400\n",
      "Epoch 126/150\n",
      "4/4 - 0s - loss: 0.4894 - accuracy: 0.8600\n",
      "Epoch 127/150\n",
      "4/4 - 0s - loss: 0.4859 - accuracy: 0.8600\n",
      "Epoch 128/150\n",
      "4/4 - 0s - loss: 0.4822 - accuracy: 0.8500\n",
      "Epoch 129/150\n",
      "4/4 - 0s - loss: 0.4795 - accuracy: 0.8300\n",
      "Epoch 130/150\n",
      "4/4 - 0s - loss: 0.4768 - accuracy: 0.8000\n",
      "Epoch 131/150\n",
      "4/4 - 0s - loss: 0.4752 - accuracy: 0.7700\n",
      "Epoch 132/150\n",
      "4/4 - 0s - loss: 0.4734 - accuracy: 0.7400\n",
      "Epoch 133/150\n",
      "4/4 - 0s - loss: 0.4709 - accuracy: 0.7400\n",
      "Epoch 134/150\n",
      "4/4 - 0s - loss: 0.4670 - accuracy: 0.7400\n",
      "Epoch 135/150\n",
      "4/4 - 0s - loss: 0.4639 - accuracy: 0.8100\n",
      "Epoch 136/150\n",
      "4/4 - 0s - loss: 0.4596 - accuracy: 0.8600\n",
      "Epoch 137/150\n",
      "4/4 - 0s - loss: 0.4566 - accuracy: 0.8900\n",
      "Epoch 138/150\n",
      "4/4 - 0s - loss: 0.4545 - accuracy: 0.9000\n",
      "Epoch 139/150\n",
      "4/4 - 0s - loss: 0.4522 - accuracy: 0.9000\n",
      "Epoch 140/150\n",
      "4/4 - 0s - loss: 0.4498 - accuracy: 0.9000\n",
      "Epoch 141/150\n",
      "4/4 - 0s - loss: 0.4473 - accuracy: 0.9000\n",
      "Epoch 142/150\n",
      "4/4 - 0s - loss: 0.4440 - accuracy: 0.8900\n",
      "Epoch 143/150\n",
      "4/4 - 0s - loss: 0.4422 - accuracy: 0.8600\n",
      "Epoch 144/150\n",
      "4/4 - 0s - loss: 0.4401 - accuracy: 0.8600\n",
      "Epoch 145/150\n",
      "4/4 - 0s - loss: 0.4379 - accuracy: 0.8600\n",
      "Epoch 146/150\n",
      "4/4 - 0s - loss: 0.4357 - accuracy: 0.8600\n",
      "Epoch 147/150\n",
      "4/4 - 0s - loss: 0.4334 - accuracy: 0.8900\n",
      "Epoch 148/150\n",
      "4/4 - 0s - loss: 0.4313 - accuracy: 0.8800\n",
      "Epoch 149/150\n",
      "4/4 - 0s - loss: 0.4297 - accuracy: 0.8600\n",
      "Epoch 150/150\n",
      "4/4 - 0s - loss: 0.4274 - accuracy: 0.8600\n"
     ]
    },
    {
     "data": {
      "text/plain": [
       "<tensorflow.python.keras.callbacks.History at 0x7fbe6d1919d0>"
      ]
     },
     "execution_count": 21,
     "metadata": {},
     "output_type": "execute_result"
    }
   ],
   "source": [
    "model.fit(scaled_X_train, y_train, epochs=150, verbose=2)"
   ]
  },
  {
   "cell_type": "code",
   "execution_count": 23,
   "metadata": {},
   "outputs": [
    {
     "name": "stderr",
     "output_type": "stream",
     "text": [
      "/Library/Frameworks/Python.framework/Versions/3.8/lib/python3.8/site-packages/tensorflow/python/keras/engine/sequential.py:450: UserWarning: `model.predict_classes()` is deprecated and will be removed after 2021-01-01. Please use instead:* `np.argmax(model.predict(x), axis=-1)`,   if your model does multi-class classification   (e.g. if it uses a `softmax` last-layer activation).* `(model.predict(x) > 0.5).astype(\"int32\")`,   if your model does binary classification   (e.g. if it uses a `sigmoid` last-layer activation).\n",
      "  warnings.warn('`model.predict_classes()` is deprecated and '\n"
     ]
    }
   ],
   "source": [
    "predictions = model.predict_classes(scaled_X_test)"
   ]
  },
  {
   "cell_type": "code",
   "execution_count": 25,
   "metadata": {},
   "outputs": [],
   "source": [
    "from sklearn.metrics import confusion_matrix, classification_report, accuracy_score"
   ]
  },
  {
   "cell_type": "code",
   "execution_count": 26,
   "metadata": {},
   "outputs": [
    {
     "data": {
      "text/plain": [
       "array([[19,  0,  0],\n",
       "       [ 0,  6,  9],\n",
       "       [ 0,  0, 16]])"
      ]
     },
     "execution_count": 26,
     "metadata": {},
     "output_type": "execute_result"
    }
   ],
   "source": [
    "confusion_matrix(y_test.argmax(axis=1), predictions)"
   ]
  },
  {
   "cell_type": "code",
   "execution_count": 28,
   "metadata": {},
   "outputs": [
    {
     "name": "stdout",
     "output_type": "stream",
     "text": [
      "              precision    recall  f1-score   support\n",
      "\n",
      "           0       1.00      1.00      1.00        19\n",
      "           1       1.00      0.40      0.57        15\n",
      "           2       0.64      1.00      0.78        16\n",
      "\n",
      "    accuracy                           0.82        50\n",
      "   macro avg       0.88      0.80      0.78        50\n",
      "weighted avg       0.88      0.82      0.80        50\n",
      "\n"
     ]
    }
   ],
   "source": [
    "print(classification_report(y_test.argmax(axis=1), predictions))"
   ]
  },
  {
   "cell_type": "code",
   "execution_count": 29,
   "metadata": {},
   "outputs": [
    {
     "data": {
      "text/plain": [
       "0.82"
      ]
     },
     "execution_count": 29,
     "metadata": {},
     "output_type": "execute_result"
    }
   ],
   "source": [
    "accuracy_score(y_test.argmax(axis=1), predictions)"
   ]
  },
  {
   "cell_type": "code",
   "execution_count": 30,
   "metadata": {},
   "outputs": [],
   "source": [
    "model.save('myfirstmodel.h5')"
   ]
  },
  {
   "cell_type": "code",
   "execution_count": 31,
   "metadata": {},
   "outputs": [],
   "source": [
    "from keras.models import load_model"
   ]
  },
  {
   "cell_type": "code",
   "execution_count": 32,
   "metadata": {},
   "outputs": [],
   "source": [
    "new_model = load_model('myfirstmodel.h5')"
   ]
  },
  {
   "cell_type": "code",
   "execution_count": null,
   "metadata": {},
   "outputs": [],
   "source": []
  }
 ],
 "metadata": {
  "kernelspec": {
   "display_name": "Python 3",
   "language": "python",
   "name": "python3"
  },
  "language_info": {
   "codemirror_mode": {
    "name": "ipython",
    "version": 3
   },
   "file_extension": ".py",
   "mimetype": "text/x-python",
   "name": "python",
   "nbconvert_exporter": "python",
   "pygments_lexer": "ipython3",
   "version": "3.8.1"
  }
 },
 "nbformat": 4,
 "nbformat_minor": 4
}
