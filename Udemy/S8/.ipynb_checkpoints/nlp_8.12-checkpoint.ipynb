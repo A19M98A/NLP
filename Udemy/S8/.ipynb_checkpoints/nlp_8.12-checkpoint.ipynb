{
 "cells": [
  {
   "cell_type": "code",
   "execution_count": 7,
   "metadata": {},
   "outputs": [],
   "source": [
    "import pickle\n",
    "import numpy as np\n",
    "import pandas as pd"
   ]
  },
  {
   "cell_type": "code",
   "execution_count": 8,
   "metadata": {},
   "outputs": [],
   "source": [
    "with open('../TextFiles/train_qa.txt', 'rb') as f:\n",
    "    train_data = pickle.load(f)"
   ]
  },
  {
   "cell_type": "code",
   "execution_count": 9,
   "metadata": {},
   "outputs": [],
   "source": [
    "with open('../TextFiles/test_qa.txt', 'rb') as f:\n",
    "    test_data = pickle.load(f)"
   ]
  },
  {
   "cell_type": "code",
   "execution_count": null,
   "metadata": {},
   "outputs": [],
   "source": [
    "col_names = ['A',\n",
    "                ]"
   ]
  },
  {
   "cell_type": "code",
   "execution_count": 4,
   "metadata": {},
   "outputs": [
    {
     "ename": "TypeError",
     "evalue": "'int' object is not iterable",
     "output_type": "error",
     "traceback": [
      "\u001b[0;31m---------------------------------------------------------------------------\u001b[0m",
      "\u001b[0;31mTypeError\u001b[0m                                 Traceback (most recent call last)",
      "\u001b[0;32m<ipython-input-4-1a8f89715b6b>\u001b[0m in \u001b[0;36m<module>\u001b[0;34m\u001b[0m\n\u001b[0;32m----> 1\u001b[0;31m \u001b[0;32mfor\u001b[0m \u001b[0mi\u001b[0m \u001b[0;32min\u001b[0m \u001b[0mlen\u001b[0m\u001b[0;34m(\u001b[0m\u001b[0mtrain_data\u001b[0m\u001b[0;34m)\u001b[0m\u001b[0;34m:\u001b[0m\u001b[0;34m\u001b[0m\u001b[0;34m\u001b[0m\u001b[0m\n\u001b[0m\u001b[1;32m      2\u001b[0m     \u001b[0mprint\u001b[0m\u001b[0;34m(\u001b[0m\u001b[0;34m'story : '\u001b[0m\u001b[0;34m,\u001b[0m \u001b[0;34m' '\u001b[0m\u001b[0;34m.\u001b[0m\u001b[0mjoin\u001b[0m\u001b[0;34m(\u001b[0m\u001b[0mtrain_data\u001b[0m\u001b[0;34m[\u001b[0m\u001b[0mi\u001b[0m\u001b[0;34m]\u001b[0m\u001b[0;34m[\u001b[0m\u001b[0;36m0\u001b[0m\u001b[0;34m]\u001b[0m\u001b[0;34m)\u001b[0m\u001b[0;34m,\u001b[0m \u001b[0;34m'qstion : '\u001b[0m\u001b[0;34m,\u001b[0m \u001b[0;34m' '\u001b[0m\u001b[0;34m.\u001b[0m\u001b[0mjoin\u001b[0m\u001b[0;34m(\u001b[0m\u001b[0mtrain_data\u001b[0m\u001b[0;34m[\u001b[0m\u001b[0mi\u001b[0m\u001b[0;34m]\u001b[0m\u001b[0;34m[\u001b[0m\u001b[0;36m1\u001b[0m\u001b[0;34m]\u001b[0m\u001b[0;34m)\u001b[0m\u001b[0;34m,\u001b[0m \u001b[0mtrain_data\u001b[0m\u001b[0;34m[\u001b[0m\u001b[0mi\u001b[0m\u001b[0;34m]\u001b[0m\u001b[0;34m[\u001b[0m\u001b[0;36m2\u001b[0m\u001b[0;34m]\u001b[0m\u001b[0;34m)\u001b[0m\u001b[0;34m\u001b[0m\u001b[0;34m\u001b[0m\u001b[0m\n",
      "\u001b[0;31mTypeError\u001b[0m: 'int' object is not iterable"
     ]
    }
   ],
   "source": [
    "for i in range(len(train_data)):\n",
    "    print('story : ', ' '.join(train_data[i][0]), 'qstion : ', ' '.join(train_data[i][1]), train_data[i][2])"
   ]
  },
  {
   "cell_type": "code",
   "execution_count": 5,
   "metadata": {},
   "outputs": [
    {
     "data": {
      "text/plain": [
       "1000"
      ]
     },
     "execution_count": 5,
     "metadata": {},
     "output_type": "execute_result"
    }
   ],
   "source": [
    "len(test_data)"
   ]
  },
  {
   "cell_type": "code",
   "execution_count": 180,
   "metadata": {},
   "outputs": [
    {
     "data": {
      "text/plain": [
       "(['Mary',\n",
       "  'moved',\n",
       "  'to',\n",
       "  'the',\n",
       "  'bathroom',\n",
       "  '.',\n",
       "  'Sandra',\n",
       "  'journeyed',\n",
       "  'to',\n",
       "  'the',\n",
       "  'bedroom',\n",
       "  '.',\n",
       "  'Mary',\n",
       "  'went',\n",
       "  'back',\n",
       "  'to',\n",
       "  'the',\n",
       "  'bedroom',\n",
       "  '.',\n",
       "  'Daniel',\n",
       "  'went',\n",
       "  'back',\n",
       "  'to',\n",
       "  'the',\n",
       "  'hallway',\n",
       "  '.'],\n",
       " ['Is', 'Daniel', 'in', 'the', 'bathroom', '?'],\n",
       " 'no')"
      ]
     },
     "execution_count": 180,
     "metadata": {},
     "output_type": "execute_result"
    }
   ],
   "source": [
    "train_data[1]"
   ]
  },
  {
   "cell_type": "code",
   "execution_count": 6,
   "metadata": {},
   "outputs": [],
   "source": [
    "all_data = test_data + train_data"
   ]
  },
  {
   "cell_type": "code",
   "execution_count": 7,
   "metadata": {},
   "outputs": [
    {
     "data": {
      "text/plain": [
       "11000"
      ]
     },
     "execution_count": 7,
     "metadata": {},
     "output_type": "execute_result"
    }
   ],
   "source": [
    "len(all_data)"
   ]
  },
  {
   "cell_type": "code",
   "execution_count": 8,
   "metadata": {},
   "outputs": [
    {
     "data": {
      "text/plain": [
       "{'.',\n",
       " 'Mary',\n",
       " 'Sandra',\n",
       " 'bathroom',\n",
       " 'bedroom',\n",
       " 'journeyed',\n",
       " 'moved',\n",
       " 'the',\n",
       " 'to'}"
      ]
     },
     "execution_count": 8,
     "metadata": {},
     "output_type": "execute_result"
    }
   ],
   "source": [
    "set(train_data[0][0])"
   ]
  },
  {
   "cell_type": "code",
   "execution_count": 9,
   "metadata": {},
   "outputs": [],
   "source": [
    "vocab = set()\n",
    "\n",
    "for story, question, answer in all_data:\n",
    "    vocab = vocab.union(set(story))\n",
    "    vocab = vocab.union(set(question))"
   ]
  },
  {
   "cell_type": "code",
   "execution_count": 10,
   "metadata": {},
   "outputs": [],
   "source": [
    "vocab.add('no')"
   ]
  },
  {
   "cell_type": "code",
   "execution_count": 11,
   "metadata": {},
   "outputs": [],
   "source": [
    "vocab.add('yes')"
   ]
  },
  {
   "cell_type": "code",
   "execution_count": 12,
   "metadata": {},
   "outputs": [
    {
     "data": {
      "text/plain": [
       "{'.',\n",
       " '?',\n",
       " 'Daniel',\n",
       " 'Is',\n",
       " 'John',\n",
       " 'Mary',\n",
       " 'Sandra',\n",
       " 'apple',\n",
       " 'back',\n",
       " 'bathroom',\n",
       " 'bedroom',\n",
       " 'discarded',\n",
       " 'down',\n",
       " 'dropped',\n",
       " 'football',\n",
       " 'garden',\n",
       " 'got',\n",
       " 'grabbed',\n",
       " 'hallway',\n",
       " 'in',\n",
       " 'journeyed',\n",
       " 'kitchen',\n",
       " 'left',\n",
       " 'milk',\n",
       " 'moved',\n",
       " 'no',\n",
       " 'office',\n",
       " 'picked',\n",
       " 'put',\n",
       " 'the',\n",
       " 'there',\n",
       " 'to',\n",
       " 'took',\n",
       " 'travelled',\n",
       " 'up',\n",
       " 'went',\n",
       " 'yes'}"
      ]
     },
     "execution_count": 12,
     "metadata": {},
     "output_type": "execute_result"
    }
   ],
   "source": [
    "vocab"
   ]
  },
  {
   "cell_type": "code",
   "execution_count": 13,
   "metadata": {},
   "outputs": [],
   "source": [
    "vocab_len = len(vocab) + 1"
   ]
  },
  {
   "cell_type": "code",
   "execution_count": 14,
   "metadata": {},
   "outputs": [
    {
     "data": {
      "text/plain": [
       "38"
      ]
     },
     "execution_count": 14,
     "metadata": {},
     "output_type": "execute_result"
    }
   ],
   "source": [
    "vocab_len"
   ]
  },
  {
   "cell_type": "code",
   "execution_count": 15,
   "metadata": {},
   "outputs": [],
   "source": [
    "max_story_len = max([len(data[0]) for data in all_data])"
   ]
  },
  {
   "cell_type": "code",
   "execution_count": 16,
   "metadata": {},
   "outputs": [
    {
     "data": {
      "text/plain": [
       "156"
      ]
     },
     "execution_count": 16,
     "metadata": {},
     "output_type": "execute_result"
    }
   ],
   "source": [
    "max_story_len"
   ]
  },
  {
   "cell_type": "code",
   "execution_count": 17,
   "metadata": {},
   "outputs": [],
   "source": [
    "max_question_len = max([len(data[1]) for data in all_data])"
   ]
  },
  {
   "cell_type": "code",
   "execution_count": 18,
   "metadata": {},
   "outputs": [
    {
     "data": {
      "text/plain": [
       "6"
      ]
     },
     "execution_count": 18,
     "metadata": {},
     "output_type": "execute_result"
    }
   ],
   "source": [
    "max_question_len"
   ]
  },
  {
   "cell_type": "code",
   "execution_count": 19,
   "metadata": {},
   "outputs": [],
   "source": [
    "from keras.preprocessing.sequence import pad_sequences\n",
    "from keras.preprocessing.text import Tokenizer"
   ]
  },
  {
   "cell_type": "code",
   "execution_count": 20,
   "metadata": {},
   "outputs": [],
   "source": [
    "tokenizer = Tokenizer(filters=[])\n",
    "tokenizer.fit_on_texts(vocab)"
   ]
  },
  {
   "cell_type": "code",
   "execution_count": 21,
   "metadata": {},
   "outputs": [
    {
     "data": {
      "text/plain": [
       "{'travelled': 1,\n",
       " 'football': 2,\n",
       " 'bedroom': 3,\n",
       " 'to': 4,\n",
       " 'grabbed': 5,\n",
       " 'put': 6,\n",
       " 'john': 7,\n",
       " 'dropped': 8,\n",
       " 'yes': 9,\n",
       " 'up': 10,\n",
       " '?': 11,\n",
       " 'sandra': 12,\n",
       " 'took': 13,\n",
       " 'left': 14,\n",
       " 'is': 15,\n",
       " 'garden': 16,\n",
       " 'hallway': 17,\n",
       " 'bathroom': 18,\n",
       " 'moved': 19,\n",
       " 'apple': 20,\n",
       " 'discarded': 21,\n",
       " 'daniel': 22,\n",
       " 'went': 23,\n",
       " 'milk': 24,\n",
       " 'the': 25,\n",
       " 'got': 26,\n",
       " 'in': 27,\n",
       " 'down': 28,\n",
       " '.': 29,\n",
       " 'back': 30,\n",
       " 'mary': 31,\n",
       " 'office': 32,\n",
       " 'picked': 33,\n",
       " 'no': 34,\n",
       " 'kitchen': 35,\n",
       " 'there': 36,\n",
       " 'journeyed': 37}"
      ]
     },
     "execution_count": 21,
     "metadata": {},
     "output_type": "execute_result"
    }
   ],
   "source": [
    "tokenizer.word_index"
   ]
  },
  {
   "cell_type": "code",
   "execution_count": 22,
   "metadata": {},
   "outputs": [],
   "source": [
    "train_story_text = []\n",
    "train_question_text = []\n",
    "train_answers = []"
   ]
  },
  {
   "cell_type": "code",
   "execution_count": 23,
   "metadata": {},
   "outputs": [],
   "source": [
    "for story, question, answer in train_data:\n",
    "    train_story_text.append(story)\n",
    "    train_question_text.append(question)\n",
    "    train_answers.append(answer)"
   ]
  },
  {
   "cell_type": "code",
   "execution_count": 24,
   "metadata": {},
   "outputs": [],
   "source": [
    "train_story_seq = tokenizer.texts_to_sequences(train_story_text)"
   ]
  },
  {
   "cell_type": "code",
   "execution_count": 25,
   "metadata": {},
   "outputs": [
    {
     "data": {
      "text/plain": [
       "10000"
      ]
     },
     "execution_count": 25,
     "metadata": {},
     "output_type": "execute_result"
    }
   ],
   "source": [
    "len(train_story_seq)"
   ]
  },
  {
   "cell_type": "code",
   "execution_count": 26,
   "metadata": {},
   "outputs": [],
   "source": [
    "def vectorize_stories(data, word_index=tokenizer.word_index, max_story_len=max_story_len, max_question_len=max_question_len):\n",
    "    \n",
    "    X = []\n",
    "    Xq = []\n",
    "    Y = []\n",
    "    \n",
    "    for story, query, answer in data:\n",
    "        \n",
    "        x = [word_index[word.lower()] for word in story]\n",
    "        xq = [word_index[word.lower()] for word in query]\n",
    "        \n",
    "        y = np.zeros(len(word_index) + 1)\n",
    "        \n",
    "        y[word_index[answer]] = 1\n",
    "        \n",
    "        X.append(x)\n",
    "        Xq.append(xq)\n",
    "        Y.append(y)\n",
    "        \n",
    "    return (pad_sequences(X, maxlen=max_story_len), pad_sequences(Xq, maxlen=max_question_len), np.array(Y))"
   ]
  },
  {
   "cell_type": "code",
   "execution_count": 27,
   "metadata": {},
   "outputs": [],
   "source": [
    "inputs_train, queries_train, answers_train = vectorize_stories(train_data)"
   ]
  },
  {
   "cell_type": "code",
   "execution_count": 28,
   "metadata": {},
   "outputs": [],
   "source": [
    "inputs_test, queries_test, answers_test = vectorize_stories(test_data)"
   ]
  },
  {
   "cell_type": "code",
   "execution_count": 175,
   "metadata": {},
   "outputs": [
    {
     "data": {
      "text/plain": [
       "array([ 0,  0,  0,  0,  0,  0,  0,  0,  0,  0,  0,  0,  0,  0,  0,  0,  0,\n",
       "        0,  0,  0,  0,  0,  0,  0,  0,  0,  0,  0,  0,  0,  0,  0,  0,  0,\n",
       "        0,  0,  0,  0,  0,  0,  0,  0,  0,  0,  0,  0,  0,  0,  0,  0,  0,\n",
       "        0,  0,  0,  0,  0,  0,  0,  0,  0,  0,  0,  0,  0,  0,  0,  0,  0,\n",
       "        0,  0,  0,  0,  0,  0,  0,  0,  0,  0,  0,  0,  0,  0,  0,  0,  0,\n",
       "        0,  0,  0,  0,  0,  0,  0,  0,  0,  0,  0,  0,  0,  0,  0,  0,  0,\n",
       "        0,  0,  0,  0,  0,  0,  0,  0,  0,  0,  0,  0,  0,  0,  0,  0,  0,\n",
       "        0,  0,  0,  0,  0,  0,  0,  0,  0,  0,  0,  0,  0,  0,  0,  0,  0,\n",
       "        0,  0,  0,  0,  0,  0,  0,  0,  7, 19,  4, 25, 17, 29, 12, 23,  4,\n",
       "       25,  3, 29], dtype=int32)"
      ]
     },
     "execution_count": 175,
     "metadata": {},
     "output_type": "execute_result"
    }
   ],
   "source": [
    "inputs_test[10]"
   ]
  },
  {
   "cell_type": "code",
   "execution_count": 179,
   "metadata": {},
   "outputs": [
    {
     "data": {
      "text/plain": [
       "array([15,  7, 27, 25, 35, 11], dtype=int32)"
      ]
     },
     "execution_count": 179,
     "metadata": {},
     "output_type": "execute_result"
    }
   ],
   "source": [
    "queries_test[1]"
   ]
  },
  {
   "cell_type": "code",
   "execution_count": 31,
   "metadata": {},
   "outputs": [
    {
     "data": {
      "text/plain": [
       "array([[0., 0., 0., ..., 0., 0., 0.],\n",
       "       [0., 0., 0., ..., 0., 0., 0.],\n",
       "       [0., 0., 0., ..., 0., 0., 0.],\n",
       "       ...,\n",
       "       [0., 0., 0., ..., 0., 0., 0.],\n",
       "       [0., 0., 0., ..., 0., 0., 0.],\n",
       "       [0., 0., 0., ..., 0., 0., 0.]])"
      ]
     },
     "execution_count": 31,
     "metadata": {},
     "output_type": "execute_result"
    }
   ],
   "source": [
    "answers_test"
   ]
  },
  {
   "cell_type": "code",
   "execution_count": 32,
   "metadata": {},
   "outputs": [
    {
     "data": {
      "text/plain": [
       "array([  0.,   0.,   0.,   0.,   0.,   0.,   0.,   0.,   0., 497.,   0.,\n",
       "         0.,   0.,   0.,   0.,   0.,   0.,   0.,   0.,   0.,   0.,   0.,\n",
       "         0.,   0.,   0.,   0.,   0.,   0.,   0.,   0.,   0.,   0.,   0.,\n",
       "         0., 503.,   0.,   0.,   0.])"
      ]
     },
     "execution_count": 32,
     "metadata": {},
     "output_type": "execute_result"
    }
   ],
   "source": [
    "sum(answers_test)"
   ]
  },
  {
   "cell_type": "code",
   "execution_count": 33,
   "metadata": {},
   "outputs": [],
   "source": [
    "from keras.models import Sequential, Model"
   ]
  },
  {
   "cell_type": "code",
   "execution_count": 34,
   "metadata": {},
   "outputs": [],
   "source": [
    "from keras.layers import Embedding"
   ]
  },
  {
   "cell_type": "code",
   "execution_count": 35,
   "metadata": {},
   "outputs": [],
   "source": [
    "from keras.layers import Input, Activation, Dense, Permute, Dropout, add, dot, concatenate, LSTM"
   ]
  },
  {
   "cell_type": "code",
   "execution_count": 36,
   "metadata": {},
   "outputs": [],
   "source": [
    "input_sequence = Input((max_story_len,))\n",
    "question = Input((max_question_len,))"
   ]
  },
  {
   "cell_type": "code",
   "execution_count": 37,
   "metadata": {},
   "outputs": [],
   "source": [
    "vocab_size = len(vocab) + 1"
   ]
  },
  {
   "cell_type": "code",
   "execution_count": 38,
   "metadata": {},
   "outputs": [],
   "source": [
    "input_encoder_m = Sequential()\n",
    "input_encoder_m.add(Embedding(input_dim=vocab_size, output_dim=64))\n",
    "input_encoder_m.add(Dropout(0.3))"
   ]
  },
  {
   "cell_type": "code",
   "execution_count": 39,
   "metadata": {},
   "outputs": [],
   "source": [
    "input_encoder_c = Sequential()\n",
    "input_encoder_c.add(Embedding(input_dim=vocab_size, output_dim=max_question_len))\n",
    "input_encoder_c.add(Dropout(0.3))"
   ]
  },
  {
   "cell_type": "code",
   "execution_count": 40,
   "metadata": {},
   "outputs": [],
   "source": [
    "question_encoder = Sequential()\n",
    "question_encoder.add(Embedding(input_dim=vocab_size, output_dim=64, input_length=max_question_len))\n",
    "question_encoder.add(Dropout(0.3))"
   ]
  },
  {
   "cell_type": "code",
   "execution_count": 41,
   "metadata": {},
   "outputs": [],
   "source": [
    "input_encoded_m = input_encoder_m(input_sequence)\n",
    "input_encoded_c = input_encoder_c(input_sequence)\n",
    "question_encoded = question_encoder(question)"
   ]
  },
  {
   "cell_type": "code",
   "execution_count": 42,
   "metadata": {},
   "outputs": [],
   "source": [
    "match = dot([input_encoded_m, question_encoded], axes=(2,2))\n",
    "match = Activation('softmax')(match)"
   ]
  },
  {
   "cell_type": "code",
   "execution_count": 43,
   "metadata": {},
   "outputs": [],
   "source": [
    "response = add([match, input_encoded_c])\n",
    "response = Permute((2, 1))(response)"
   ]
  },
  {
   "cell_type": "code",
   "execution_count": 44,
   "metadata": {},
   "outputs": [],
   "source": [
    "answer = concatenate([response, question_encoded])"
   ]
  },
  {
   "cell_type": "code",
   "execution_count": 45,
   "metadata": {},
   "outputs": [
    {
     "data": {
      "text/plain": [
       "<KerasTensor: shape=(None, 6, 220) dtype=float32 (created by layer 'concatenate')>"
      ]
     },
     "execution_count": 45,
     "metadata": {},
     "output_type": "execute_result"
    }
   ],
   "source": [
    "answer"
   ]
  },
  {
   "cell_type": "code",
   "execution_count": 46,
   "metadata": {},
   "outputs": [],
   "source": [
    "answer = LSTM(32)(answer)"
   ]
  },
  {
   "cell_type": "code",
   "execution_count": 47,
   "metadata": {},
   "outputs": [],
   "source": [
    "answer = Dropout(0.5)(answer)\n",
    "answer = Dense(vocab_size)(answer)"
   ]
  },
  {
   "cell_type": "code",
   "execution_count": 48,
   "metadata": {},
   "outputs": [],
   "source": [
    "answer = Activation('softmax')(answer)"
   ]
  },
  {
   "cell_type": "code",
   "execution_count": 49,
   "metadata": {},
   "outputs": [],
   "source": [
    "model = Model([input_sequence, question], answer)"
   ]
  },
  {
   "cell_type": "code",
   "execution_count": 50,
   "metadata": {},
   "outputs": [],
   "source": [
    "model.compile(optimizer='rmsprop', loss='categorical_crossentropy', metrics=['accuracy'])"
   ]
  },
  {
   "cell_type": "code",
   "execution_count": 52,
   "metadata": {},
   "outputs": [
    {
     "name": "stdout",
     "output_type": "stream",
     "text": [
      "Model: \"model\"\n",
      "__________________________________________________________________________________________________\n",
      "Layer (type)                    Output Shape         Param #     Connected to                     \n",
      "==================================================================================================\n",
      "input_1 (InputLayer)            [(None, 156)]        0                                            \n",
      "__________________________________________________________________________________________________\n",
      "input_2 (InputLayer)            [(None, 6)]          0                                            \n",
      "__________________________________________________________________________________________________\n",
      "sequential (Sequential)         (None, None, 64)     2432        input_1[0][0]                    \n",
      "__________________________________________________________________________________________________\n",
      "sequential_2 (Sequential)       (None, 6, 64)        2432        input_2[0][0]                    \n",
      "__________________________________________________________________________________________________\n",
      "dot (Dot)                       (None, 156, 6)       0           sequential[0][0]                 \n",
      "                                                                 sequential_2[0][0]               \n",
      "__________________________________________________________________________________________________\n",
      "activation (Activation)         (None, 156, 6)       0           dot[0][0]                        \n",
      "__________________________________________________________________________________________________\n",
      "sequential_1 (Sequential)       (None, None, 6)      228         input_1[0][0]                    \n",
      "__________________________________________________________________________________________________\n",
      "add (Add)                       (None, 156, 6)       0           activation[0][0]                 \n",
      "                                                                 sequential_1[0][0]               \n",
      "__________________________________________________________________________________________________\n",
      "permute (Permute)               (None, 6, 156)       0           add[0][0]                        \n",
      "__________________________________________________________________________________________________\n",
      "concatenate (Concatenate)       (None, 6, 220)       0           permute[0][0]                    \n",
      "                                                                 sequential_2[0][0]               \n",
      "__________________________________________________________________________________________________\n",
      "lstm (LSTM)                     (None, 32)           32384       concatenate[0][0]                \n",
      "__________________________________________________________________________________________________\n",
      "dropout_3 (Dropout)             (None, 32)           0           lstm[0][0]                       \n",
      "__________________________________________________________________________________________________\n",
      "dense (Dense)                   (None, 38)           1254        dropout_3[0][0]                  \n",
      "__________________________________________________________________________________________________\n",
      "activation_1 (Activation)       (None, 38)           0           dense[0][0]                      \n",
      "==================================================================================================\n",
      "Total params: 38,730\n",
      "Trainable params: 38,730\n",
      "Non-trainable params: 0\n",
      "__________________________________________________________________________________________________\n"
     ]
    }
   ],
   "source": [
    "model.summary()"
   ]
  },
  {
   "cell_type": "code",
   "execution_count": 150,
   "metadata": {
    "collapsed": true,
    "jupyter": {
     "outputs_hidden": true
    }
   },
   "outputs": [
    {
     "name": "stdout",
     "output_type": "stream",
     "text": [
      "Epoch 1/200\n",
      "313/313 [==============================] - 4s 13ms/step - loss: 0.3378 - accuracy: 0.8549 - val_loss: 0.3644 - val_accuracy: 0.8320\n",
      "Epoch 2/200\n",
      "313/313 [==============================] - 4s 12ms/step - loss: 0.3379 - accuracy: 0.8546 - val_loss: 0.3605 - val_accuracy: 0.8400\n",
      "Epoch 3/200\n",
      "313/313 [==============================] - 4s 13ms/step - loss: 0.3342 - accuracy: 0.8586 - val_loss: 0.3586 - val_accuracy: 0.8460\n",
      "Epoch 4/200\n",
      "313/313 [==============================] - 4s 12ms/step - loss: 0.3272 - accuracy: 0.8603 - val_loss: 0.3492 - val_accuracy: 0.8390\n",
      "Epoch 5/200\n",
      "313/313 [==============================] - 4s 12ms/step - loss: 0.3241 - accuracy: 0.8619 - val_loss: 0.3593 - val_accuracy: 0.8450\n",
      "Epoch 6/200\n",
      "313/313 [==============================] - 4s 13ms/step - loss: 0.3238 - accuracy: 0.8626 - val_loss: 0.3484 - val_accuracy: 0.8390\n",
      "Epoch 7/200\n",
      "313/313 [==============================] - 4s 13ms/step - loss: 0.3188 - accuracy: 0.8652 - val_loss: 0.3718 - val_accuracy: 0.8290\n",
      "Epoch 8/200\n",
      "313/313 [==============================] - 4s 13ms/step - loss: 0.3208 - accuracy: 0.8619 - val_loss: 0.3587 - val_accuracy: 0.8360\n",
      "Epoch 9/200\n",
      "313/313 [==============================] - 4s 13ms/step - loss: 0.3180 - accuracy: 0.8657 - val_loss: 0.3536 - val_accuracy: 0.8390\n",
      "Epoch 10/200\n",
      "313/313 [==============================] - 4s 14ms/step - loss: 0.3141 - accuracy: 0.8678 - val_loss: 0.3655 - val_accuracy: 0.8360\n",
      "Epoch 11/200\n",
      "313/313 [==============================] - 4s 12ms/step - loss: 0.3119 - accuracy: 0.8658 - val_loss: 0.3802 - val_accuracy: 0.8410\n",
      "Epoch 12/200\n",
      "313/313 [==============================] - 4s 13ms/step - loss: 0.3100 - accuracy: 0.8644 - val_loss: 0.3674 - val_accuracy: 0.8400\n",
      "Epoch 13/200\n",
      "313/313 [==============================] - 4s 13ms/step - loss: 0.3040 - accuracy: 0.8691 - val_loss: 0.3573 - val_accuracy: 0.8370\n",
      "Epoch 14/200\n",
      "313/313 [==============================] - 4s 13ms/step - loss: 0.3092 - accuracy: 0.8679 - val_loss: 0.3589 - val_accuracy: 0.8340\n",
      "Epoch 15/200\n",
      "313/313 [==============================] - 4s 13ms/step - loss: 0.2999 - accuracy: 0.8708 - val_loss: 0.3655 - val_accuracy: 0.8360\n",
      "Epoch 16/200\n",
      "313/313 [==============================] - 4s 13ms/step - loss: 0.3035 - accuracy: 0.8692 - val_loss: 0.3649 - val_accuracy: 0.8390\n",
      "Epoch 17/200\n",
      "313/313 [==============================] - 4s 13ms/step - loss: 0.2974 - accuracy: 0.8722 - val_loss: 0.3639 - val_accuracy: 0.8350\n",
      "Epoch 18/200\n",
      "313/313 [==============================] - 4s 13ms/step - loss: 0.2990 - accuracy: 0.8691 - val_loss: 0.3624 - val_accuracy: 0.8340\n",
      "Epoch 19/200\n",
      "313/313 [==============================] - 4s 13ms/step - loss: 0.2943 - accuracy: 0.8750 - val_loss: 0.3677 - val_accuracy: 0.8330\n",
      "Epoch 20/200\n",
      "313/313 [==============================] - 4s 13ms/step - loss: 0.2958 - accuracy: 0.8713 - val_loss: 0.3569 - val_accuracy: 0.8350\n",
      "Epoch 21/200\n",
      "313/313 [==============================] - 4s 13ms/step - loss: 0.2926 - accuracy: 0.8731 - val_loss: 0.4012 - val_accuracy: 0.8290\n",
      "Epoch 22/200\n",
      "313/313 [==============================] - 4s 13ms/step - loss: 0.2936 - accuracy: 0.8744 - val_loss: 0.3727 - val_accuracy: 0.8330\n",
      "Epoch 23/200\n",
      "313/313 [==============================] - 4s 13ms/step - loss: 0.2915 - accuracy: 0.8754 - val_loss: 0.3737 - val_accuracy: 0.8290\n",
      "Epoch 24/200\n",
      "313/313 [==============================] - 4s 13ms/step - loss: 0.2909 - accuracy: 0.8775 - val_loss: 0.3854 - val_accuracy: 0.8310\n",
      "Epoch 25/200\n",
      "313/313 [==============================] - 4s 13ms/step - loss: 0.2870 - accuracy: 0.8788 - val_loss: 0.4242 - val_accuracy: 0.8080\n",
      "Epoch 26/200\n",
      "313/313 [==============================] - 4s 13ms/step - loss: 0.2829 - accuracy: 0.8767 - val_loss: 0.3739 - val_accuracy: 0.8280\n",
      "Epoch 27/200\n",
      "313/313 [==============================] - 4s 13ms/step - loss: 0.2813 - accuracy: 0.8807 - val_loss: 0.3649 - val_accuracy: 0.8320\n",
      "Epoch 28/200\n",
      "313/313 [==============================] - 4s 14ms/step - loss: 0.2816 - accuracy: 0.8790 - val_loss: 0.3962 - val_accuracy: 0.8320\n",
      "Epoch 29/200\n",
      "313/313 [==============================] - 4s 13ms/step - loss: 0.2816 - accuracy: 0.8778 - val_loss: 0.3783 - val_accuracy: 0.8380\n",
      "Epoch 30/200\n",
      "313/313 [==============================] - 4s 13ms/step - loss: 0.2758 - accuracy: 0.8832 - val_loss: 0.3926 - val_accuracy: 0.8370\n",
      "Epoch 31/200\n",
      "313/313 [==============================] - 4s 14ms/step - loss: 0.2879 - accuracy: 0.8768 - val_loss: 0.3739 - val_accuracy: 0.8370\n",
      "Epoch 32/200\n",
      "313/313 [==============================] - 5s 16ms/step - loss: 0.2789 - accuracy: 0.8810 - val_loss: 0.3800 - val_accuracy: 0.8300\n",
      "Epoch 33/200\n",
      "313/313 [==============================] - 5s 15ms/step - loss: 0.2719 - accuracy: 0.8835 - val_loss: 0.4117 - val_accuracy: 0.8250\n",
      "Epoch 34/200\n",
      "313/313 [==============================] - 5s 15ms/step - loss: 0.2737 - accuracy: 0.8861 - val_loss: 0.4099 - val_accuracy: 0.8380\n",
      "Epoch 35/200\n",
      "313/313 [==============================] - 5s 15ms/step - loss: 0.2751 - accuracy: 0.8824 - val_loss: 0.3866 - val_accuracy: 0.8300\n",
      "Epoch 36/200\n",
      "313/313 [==============================] - 5s 15ms/step - loss: 0.2683 - accuracy: 0.8855 - val_loss: 0.4161 - val_accuracy: 0.8340\n",
      "Epoch 37/200\n",
      "313/313 [==============================] - 5s 15ms/step - loss: 0.2740 - accuracy: 0.8845 - val_loss: 0.4250 - val_accuracy: 0.8330\n",
      "Epoch 38/200\n",
      "313/313 [==============================] - 5s 15ms/step - loss: 0.2674 - accuracy: 0.8840 - val_loss: 0.4073 - val_accuracy: 0.8260\n",
      "Epoch 39/200\n",
      "313/313 [==============================] - 5s 15ms/step - loss: 0.2641 - accuracy: 0.8892 - val_loss: 0.4185 - val_accuracy: 0.8350\n",
      "Epoch 40/200\n",
      "313/313 [==============================] - 5s 15ms/step - loss: 0.2636 - accuracy: 0.8892 - val_loss: 0.4191 - val_accuracy: 0.8270\n",
      "Epoch 41/200\n",
      "313/313 [==============================] - 5s 15ms/step - loss: 0.2638 - accuracy: 0.8861 - val_loss: 0.3971 - val_accuracy: 0.8410\n",
      "Epoch 42/200\n",
      "313/313 [==============================] - 5s 15ms/step - loss: 0.2649 - accuracy: 0.8886 - val_loss: 0.3957 - val_accuracy: 0.8300\n",
      "Epoch 43/200\n",
      "313/313 [==============================] - 5s 16ms/step - loss: 0.2618 - accuracy: 0.8876 - val_loss: 0.4071 - val_accuracy: 0.8300\n",
      "Epoch 44/200\n",
      "313/313 [==============================] - 4s 11ms/step - loss: 0.2644 - accuracy: 0.8893 - val_loss: 0.3985 - val_accuracy: 0.8320\n",
      "Epoch 45/200\n",
      "313/313 [==============================] - 3s 11ms/step - loss: 0.2529 - accuracy: 0.8924 - val_loss: 0.4124 - val_accuracy: 0.8360\n",
      "Epoch 46/200\n",
      "313/313 [==============================] - 3s 11ms/step - loss: 0.2592 - accuracy: 0.8912 - val_loss: 0.4153 - val_accuracy: 0.8330\n",
      "Epoch 47/200\n",
      "313/313 [==============================] - 3s 11ms/step - loss: 0.2489 - accuracy: 0.8930 - val_loss: 0.4483 - val_accuracy: 0.8310\n",
      "Epoch 48/200\n",
      "313/313 [==============================] - 3s 11ms/step - loss: 0.2541 - accuracy: 0.8909 - val_loss: 0.4142 - val_accuracy: 0.8360\n",
      "Epoch 49/200\n",
      "313/313 [==============================] - 3s 11ms/step - loss: 0.2494 - accuracy: 0.8951 - val_loss: 0.4219 - val_accuracy: 0.8230\n",
      "Epoch 50/200\n",
      "313/313 [==============================] - 3s 11ms/step - loss: 0.2504 - accuracy: 0.8948 - val_loss: 0.4459 - val_accuracy: 0.8290\n",
      "Epoch 51/200\n",
      "313/313 [==============================] - 3s 11ms/step - loss: 0.2512 - accuracy: 0.8949 - val_loss: 0.4404 - val_accuracy: 0.8340\n",
      "Epoch 52/200\n",
      "313/313 [==============================] - 3s 11ms/step - loss: 0.2502 - accuracy: 0.8919 - val_loss: 0.4395 - val_accuracy: 0.8310\n",
      "Epoch 53/200\n",
      "313/313 [==============================] - 3s 11ms/step - loss: 0.2470 - accuracy: 0.8945 - val_loss: 0.4184 - val_accuracy: 0.8300\n",
      "Epoch 54/200\n",
      "313/313 [==============================] - 3s 11ms/step - loss: 0.2499 - accuracy: 0.8947 - val_loss: 0.4408 - val_accuracy: 0.8270\n",
      "Epoch 55/200\n",
      "313/313 [==============================] - 3s 11ms/step - loss: 0.2465 - accuracy: 0.8958 - val_loss: 0.4292 - val_accuracy: 0.8260\n",
      "Epoch 56/200\n",
      "313/313 [==============================] - 3s 10ms/step - loss: 0.2436 - accuracy: 0.8962 - val_loss: 0.4729 - val_accuracy: 0.8280\n",
      "Epoch 57/200\n",
      "313/313 [==============================] - 3s 11ms/step - loss: 0.2365 - accuracy: 0.9030 - val_loss: 0.4748 - val_accuracy: 0.8280\n",
      "Epoch 58/200\n",
      "313/313 [==============================] - 3s 11ms/step - loss: 0.2383 - accuracy: 0.8992 - val_loss: 0.4858 - val_accuracy: 0.8250\n",
      "Epoch 59/200\n",
      "313/313 [==============================] - 3s 11ms/step - loss: 0.2451 - accuracy: 0.8986 - val_loss: 0.4562 - val_accuracy: 0.8340\n",
      "Epoch 60/200\n",
      "313/313 [==============================] - 3s 11ms/step - loss: 0.2433 - accuracy: 0.8994 - val_loss: 0.4395 - val_accuracy: 0.8300\n",
      "Epoch 61/200\n",
      "313/313 [==============================] - 3s 11ms/step - loss: 0.2399 - accuracy: 0.9003 - val_loss: 0.4561 - val_accuracy: 0.8230\n",
      "Epoch 62/200\n",
      "313/313 [==============================] - 3s 11ms/step - loss: 0.2444 - accuracy: 0.8981 - val_loss: 0.4600 - val_accuracy: 0.8230\n",
      "Epoch 63/200\n",
      "313/313 [==============================] - 4s 12ms/step - loss: 0.2378 - accuracy: 0.8989 - val_loss: 0.4529 - val_accuracy: 0.8190\n",
      "Epoch 64/200\n",
      "313/313 [==============================] - 3s 11ms/step - loss: 0.2280 - accuracy: 0.9039 - val_loss: 0.4802 - val_accuracy: 0.8230\n",
      "Epoch 65/200\n",
      "313/313 [==============================] - 3s 11ms/step - loss: 0.2265 - accuracy: 0.9060 - val_loss: 0.5171 - val_accuracy: 0.8140\n",
      "Epoch 66/200\n",
      "313/313 [==============================] - 3s 11ms/step - loss: 0.2350 - accuracy: 0.9011 - val_loss: 0.4820 - val_accuracy: 0.8230\n",
      "Epoch 67/200\n",
      "313/313 [==============================] - 3s 11ms/step - loss: 0.2261 - accuracy: 0.9025 - val_loss: 0.4583 - val_accuracy: 0.8220\n",
      "Epoch 68/200\n",
      "313/313 [==============================] - 3s 11ms/step - loss: 0.2296 - accuracy: 0.9025 - val_loss: 0.4970 - val_accuracy: 0.8160\n",
      "Epoch 69/200\n",
      "313/313 [==============================] - 3s 11ms/step - loss: 0.2259 - accuracy: 0.9037 - val_loss: 0.4897 - val_accuracy: 0.8220\n",
      "Epoch 70/200\n",
      "313/313 [==============================] - 3s 11ms/step - loss: 0.2271 - accuracy: 0.9061 - val_loss: 0.5015 - val_accuracy: 0.8230\n",
      "Epoch 71/200\n",
      "313/313 [==============================] - 3s 11ms/step - loss: 0.2296 - accuracy: 0.9060 - val_loss: 0.4867 - val_accuracy: 0.8230\n",
      "Epoch 72/200\n",
      "313/313 [==============================] - 3s 11ms/step - loss: 0.2265 - accuracy: 0.9043 - val_loss: 0.5085 - val_accuracy: 0.8170\n",
      "Epoch 73/200\n",
      "313/313 [==============================] - 3s 11ms/step - loss: 0.2246 - accuracy: 0.9047 - val_loss: 0.4850 - val_accuracy: 0.8240\n",
      "Epoch 74/200\n",
      "313/313 [==============================] - 4s 12ms/step - loss: 0.2249 - accuracy: 0.9063 - val_loss: 0.4864 - val_accuracy: 0.8200\n",
      "Epoch 75/200\n",
      "313/313 [==============================] - 4s 13ms/step - loss: 0.2225 - accuracy: 0.9071 - val_loss: 0.5201 - val_accuracy: 0.8190\n",
      "Epoch 76/200\n",
      "313/313 [==============================] - 4s 13ms/step - loss: 0.2254 - accuracy: 0.9065 - val_loss: 0.5069 - val_accuracy: 0.8130\n",
      "Epoch 77/200\n",
      "313/313 [==============================] - 3s 11ms/step - loss: 0.2206 - accuracy: 0.9080 - val_loss: 0.4961 - val_accuracy: 0.8230\n",
      "Epoch 78/200\n",
      "313/313 [==============================] - 3s 11ms/step - loss: 0.2165 - accuracy: 0.9094 - val_loss: 0.4929 - val_accuracy: 0.8200\n",
      "Epoch 79/200\n",
      "313/313 [==============================] - 5s 15ms/step - loss: 0.2166 - accuracy: 0.9107 - val_loss: 0.5260 - val_accuracy: 0.8210\n",
      "Epoch 80/200\n",
      "313/313 [==============================] - 4s 13ms/step - loss: 0.2127 - accuracy: 0.9129 - val_loss: 0.5078 - val_accuracy: 0.8200\n",
      "Epoch 81/200\n",
      "313/313 [==============================] - 4s 13ms/step - loss: 0.2139 - accuracy: 0.9117 - val_loss: 0.4959 - val_accuracy: 0.8160\n",
      "Epoch 82/200\n",
      "313/313 [==============================] - 4s 11ms/step - loss: 0.2121 - accuracy: 0.9101 - val_loss: 0.4989 - val_accuracy: 0.8260\n",
      "Epoch 83/200\n",
      "313/313 [==============================] - 4s 11ms/step - loss: 0.2183 - accuracy: 0.9116 - val_loss: 0.5190 - val_accuracy: 0.8140\n",
      "Epoch 84/200\n",
      "313/313 [==============================] - 4s 11ms/step - loss: 0.2115 - accuracy: 0.9126 - val_loss: 0.4966 - val_accuracy: 0.8150\n",
      "Epoch 85/200\n",
      "313/313 [==============================] - 4s 12ms/step - loss: 0.2099 - accuracy: 0.9126 - val_loss: 0.5249 - val_accuracy: 0.8110\n",
      "Epoch 86/200\n",
      "313/313 [==============================] - 3s 11ms/step - loss: 0.2100 - accuracy: 0.9137 - val_loss: 0.5074 - val_accuracy: 0.8190\n",
      "Epoch 87/200\n",
      "313/313 [==============================] - 3s 11ms/step - loss: 0.2080 - accuracy: 0.9145 - val_loss: 0.5187 - val_accuracy: 0.8150\n",
      "Epoch 88/200\n",
      "313/313 [==============================] - 3s 11ms/step - loss: 0.2110 - accuracy: 0.9125 - val_loss: 0.5365 - val_accuracy: 0.8130\n",
      "Epoch 89/200\n",
      "313/313 [==============================] - 3s 11ms/step - loss: 0.2048 - accuracy: 0.9152 - val_loss: 0.5104 - val_accuracy: 0.8180\n",
      "Epoch 90/200\n",
      "313/313 [==============================] - 3s 11ms/step - loss: 0.2091 - accuracy: 0.9154 - val_loss: 0.5376 - val_accuracy: 0.8100\n",
      "Epoch 91/200\n",
      "313/313 [==============================] - 4s 13ms/step - loss: 0.2011 - accuracy: 0.9183 - val_loss: 0.5578 - val_accuracy: 0.8220\n",
      "Epoch 92/200\n",
      "313/313 [==============================] - 4s 12ms/step - loss: 0.1999 - accuracy: 0.9176 - val_loss: 0.5379 - val_accuracy: 0.8170\n",
      "Epoch 93/200\n",
      "313/313 [==============================] - 4s 12ms/step - loss: 0.2033 - accuracy: 0.9175 - val_loss: 0.5643 - val_accuracy: 0.8230\n",
      "Epoch 94/200\n",
      "313/313 [==============================] - 4s 13ms/step - loss: 0.1957 - accuracy: 0.9201 - val_loss: 0.5640 - val_accuracy: 0.8070\n",
      "Epoch 95/200\n",
      "313/313 [==============================] - 3s 11ms/step - loss: 0.2026 - accuracy: 0.9191 - val_loss: 0.5863 - val_accuracy: 0.8040\n",
      "Epoch 96/200\n",
      "313/313 [==============================] - 3s 11ms/step - loss: 0.1970 - accuracy: 0.9205 - val_loss: 0.5818 - val_accuracy: 0.8140\n",
      "Epoch 97/200\n",
      "313/313 [==============================] - 4s 11ms/step - loss: 0.1995 - accuracy: 0.9153 - val_loss: 0.5392 - val_accuracy: 0.8120\n",
      "Epoch 98/200\n",
      "313/313 [==============================] - 4s 11ms/step - loss: 0.1915 - accuracy: 0.9235 - val_loss: 0.5758 - val_accuracy: 0.8100\n",
      "Epoch 99/200\n",
      "313/313 [==============================] - 3s 10ms/step - loss: 0.1976 - accuracy: 0.9198 - val_loss: 0.5762 - val_accuracy: 0.8100\n",
      "Epoch 100/200\n",
      "313/313 [==============================] - 3s 11ms/step - loss: 0.2009 - accuracy: 0.9197 - val_loss: 0.5548 - val_accuracy: 0.8080\n",
      "Epoch 101/200\n",
      "313/313 [==============================] - 3s 11ms/step - loss: 0.1964 - accuracy: 0.9195 - val_loss: 0.5468 - val_accuracy: 0.8070\n",
      "Epoch 102/200\n",
      "313/313 [==============================] - 3s 11ms/step - loss: 0.1901 - accuracy: 0.9218 - val_loss: 0.5916 - val_accuracy: 0.8040\n",
      "Epoch 103/200\n",
      "313/313 [==============================] - 3s 10ms/step - loss: 0.2010 - accuracy: 0.9187 - val_loss: 0.5897 - val_accuracy: 0.7980\n",
      "Epoch 104/200\n",
      "313/313 [==============================] - 3s 11ms/step - loss: 0.1935 - accuracy: 0.9189 - val_loss: 0.5768 - val_accuracy: 0.8140\n",
      "Epoch 105/200\n",
      "313/313 [==============================] - 3s 11ms/step - loss: 0.1864 - accuracy: 0.9222 - val_loss: 0.5969 - val_accuracy: 0.8170\n",
      "Epoch 106/200\n",
      "313/313 [==============================] - 3s 11ms/step - loss: 0.1898 - accuracy: 0.9239 - val_loss: 0.5843 - val_accuracy: 0.8020\n",
      "Epoch 107/200\n",
      "313/313 [==============================] - 3s 11ms/step - loss: 0.1905 - accuracy: 0.9202 - val_loss: 0.5979 - val_accuracy: 0.8050\n",
      "Epoch 108/200\n",
      "313/313 [==============================] - 4s 11ms/step - loss: 0.1832 - accuracy: 0.9231 - val_loss: 0.6256 - val_accuracy: 0.8070\n",
      "Epoch 109/200\n",
      "313/313 [==============================] - 4s 12ms/step - loss: 0.1911 - accuracy: 0.9209 - val_loss: 0.6037 - val_accuracy: 0.8060\n",
      "Epoch 110/200\n",
      "313/313 [==============================] - 3s 11ms/step - loss: 0.1867 - accuracy: 0.9249 - val_loss: 0.6145 - val_accuracy: 0.8120\n",
      "Epoch 111/200\n",
      "313/313 [==============================] - 3s 11ms/step - loss: 0.1861 - accuracy: 0.9265 - val_loss: 0.6176 - val_accuracy: 0.8030\n",
      "Epoch 112/200\n",
      "313/313 [==============================] - 3s 11ms/step - loss: 0.1847 - accuracy: 0.9258 - val_loss: 0.6610 - val_accuracy: 0.8080\n",
      "Epoch 113/200\n",
      "313/313 [==============================] - 4s 12ms/step - loss: 0.1910 - accuracy: 0.9239 - val_loss: 0.6681 - val_accuracy: 0.7890\n",
      "Epoch 114/200\n",
      "313/313 [==============================] - 3s 11ms/step - loss: 0.1830 - accuracy: 0.9254 - val_loss: 0.6167 - val_accuracy: 0.8060\n",
      "Epoch 115/200\n",
      "313/313 [==============================] - 3s 11ms/step - loss: 0.1852 - accuracy: 0.9271 - val_loss: 0.6429 - val_accuracy: 0.7900\n",
      "Epoch 116/200\n",
      "313/313 [==============================] - 3s 11ms/step - loss: 0.1834 - accuracy: 0.9280 - val_loss: 0.6357 - val_accuracy: 0.7980\n",
      "Epoch 117/200\n",
      "313/313 [==============================] - 3s 11ms/step - loss: 0.1830 - accuracy: 0.9267 - val_loss: 0.6357 - val_accuracy: 0.8030\n",
      "Epoch 118/200\n",
      "313/313 [==============================] - 3s 11ms/step - loss: 0.1801 - accuracy: 0.9277 - val_loss: 0.6276 - val_accuracy: 0.7990\n",
      "Epoch 119/200\n",
      "313/313 [==============================] - 3s 11ms/step - loss: 0.1792 - accuracy: 0.9272 - val_loss: 0.6213 - val_accuracy: 0.8080\n",
      "Epoch 120/200\n",
      "313/313 [==============================] - 3s 11ms/step - loss: 0.1835 - accuracy: 0.9251 - val_loss: 0.6032 - val_accuracy: 0.8070\n",
      "Epoch 121/200\n",
      "313/313 [==============================] - 3s 11ms/step - loss: 0.1845 - accuracy: 0.9272 - val_loss: 0.6288 - val_accuracy: 0.8040\n",
      "Epoch 122/200\n",
      "313/313 [==============================] - 3s 11ms/step - loss: 0.1863 - accuracy: 0.9252 - val_loss: 0.5786 - val_accuracy: 0.8090\n",
      "Epoch 123/200\n",
      "313/313 [==============================] - 3s 11ms/step - loss: 0.1782 - accuracy: 0.9267 - val_loss: 0.6334 - val_accuracy: 0.8080\n",
      "Epoch 124/200\n",
      "313/313 [==============================] - 3s 10ms/step - loss: 0.1760 - accuracy: 0.9291 - val_loss: 0.6405 - val_accuracy: 0.8010\n",
      "Epoch 125/200\n",
      "313/313 [==============================] - 3s 11ms/step - loss: 0.1820 - accuracy: 0.9252 - val_loss: 0.6070 - val_accuracy: 0.8090\n",
      "Epoch 126/200\n",
      "313/313 [==============================] - 3s 11ms/step - loss: 0.1776 - accuracy: 0.9261 - val_loss: 0.6110 - val_accuracy: 0.8110\n",
      "Epoch 127/200\n",
      "313/313 [==============================] - 3s 11ms/step - loss: 0.1779 - accuracy: 0.9283 - val_loss: 0.6373 - val_accuracy: 0.8050\n",
      "Epoch 128/200\n",
      "313/313 [==============================] - 3s 11ms/step - loss: 0.1743 - accuracy: 0.9291 - val_loss: 0.6685 - val_accuracy: 0.8080\n",
      "Epoch 129/200\n",
      "313/313 [==============================] - 4s 11ms/step - loss: 0.1717 - accuracy: 0.9305 - val_loss: 0.6518 - val_accuracy: 0.8170\n",
      "Epoch 130/200\n",
      "313/313 [==============================] - 3s 11ms/step - loss: 0.1738 - accuracy: 0.9299 - val_loss: 0.6521 - val_accuracy: 0.8030\n",
      "Epoch 131/200\n",
      "313/313 [==============================] - 3s 11ms/step - loss: 0.1800 - accuracy: 0.9280 - val_loss: 0.6547 - val_accuracy: 0.8050\n",
      "Epoch 132/200\n",
      "313/313 [==============================] - 3s 10ms/step - loss: 0.1790 - accuracy: 0.9275 - val_loss: 0.6547 - val_accuracy: 0.8060\n",
      "Epoch 133/200\n",
      "313/313 [==============================] - 3s 11ms/step - loss: 0.1695 - accuracy: 0.9321 - val_loss: 0.6880 - val_accuracy: 0.8010\n",
      "Epoch 134/200\n",
      "313/313 [==============================] - 3s 10ms/step - loss: 0.1709 - accuracy: 0.9302 - val_loss: 0.6970 - val_accuracy: 0.8030\n",
      "Epoch 135/200\n",
      "313/313 [==============================] - 3s 11ms/step - loss: 0.1792 - accuracy: 0.9320 - val_loss: 0.6821 - val_accuracy: 0.8110\n",
      "Epoch 136/200\n",
      "313/313 [==============================] - 3s 11ms/step - loss: 0.1719 - accuracy: 0.9282 - val_loss: 0.6841 - val_accuracy: 0.7990\n",
      "Epoch 137/200\n",
      "313/313 [==============================] - 3s 11ms/step - loss: 0.1769 - accuracy: 0.9285 - val_loss: 0.6606 - val_accuracy: 0.8100\n",
      "Epoch 138/200\n",
      "313/313 [==============================] - 3s 11ms/step - loss: 0.1708 - accuracy: 0.9300 - val_loss: 0.6589 - val_accuracy: 0.8090\n",
      "Epoch 139/200\n",
      "313/313 [==============================] - 3s 11ms/step - loss: 0.1632 - accuracy: 0.9345 - val_loss: 0.7010 - val_accuracy: 0.7960\n",
      "Epoch 140/200\n",
      "313/313 [==============================] - 3s 11ms/step - loss: 0.1707 - accuracy: 0.9332 - val_loss: 0.6395 - val_accuracy: 0.8090\n",
      "Epoch 141/200\n",
      "313/313 [==============================] - 3s 11ms/step - loss: 0.1682 - accuracy: 0.9336 - val_loss: 0.6939 - val_accuracy: 0.8000\n",
      "Epoch 142/200\n",
      "313/313 [==============================] - 3s 11ms/step - loss: 0.1755 - accuracy: 0.9315 - val_loss: 0.6971 - val_accuracy: 0.7970\n",
      "Epoch 143/200\n",
      "313/313 [==============================] - 3s 11ms/step - loss: 0.1697 - accuracy: 0.9304 - val_loss: 0.7435 - val_accuracy: 0.7960\n",
      "Epoch 144/200\n",
      "313/313 [==============================] - 3s 11ms/step - loss: 0.1614 - accuracy: 0.9346 - val_loss: 0.7184 - val_accuracy: 0.8060\n",
      "Epoch 145/200\n",
      "313/313 [==============================] - 3s 11ms/step - loss: 0.1668 - accuracy: 0.9345 - val_loss: 0.6868 - val_accuracy: 0.7920\n",
      "Epoch 146/200\n",
      "313/313 [==============================] - 3s 11ms/step - loss: 0.1602 - accuracy: 0.9361 - val_loss: 0.6907 - val_accuracy: 0.8020\n",
      "Epoch 147/200\n",
      "313/313 [==============================] - 3s 11ms/step - loss: 0.1704 - accuracy: 0.9359 - val_loss: 0.7558 - val_accuracy: 0.8040\n",
      "Epoch 148/200\n",
      "313/313 [==============================] - 3s 11ms/step - loss: 0.1637 - accuracy: 0.9337 - val_loss: 0.7049 - val_accuracy: 0.7970\n",
      "Epoch 149/200\n",
      "313/313 [==============================] - 4s 13ms/step - loss: 0.1643 - accuracy: 0.9365 - val_loss: 0.7115 - val_accuracy: 0.7930\n",
      "Epoch 150/200\n",
      "313/313 [==============================] - 4s 12ms/step - loss: 0.1623 - accuracy: 0.9376 - val_loss: 0.7207 - val_accuracy: 0.7940\n",
      "Epoch 151/200\n",
      "313/313 [==============================] - 4s 12ms/step - loss: 0.1668 - accuracy: 0.9338 - val_loss: 0.7505 - val_accuracy: 0.7890\n",
      "Epoch 152/200\n",
      "313/313 [==============================] - 4s 14ms/step - loss: 0.1644 - accuracy: 0.9347 - val_loss: 0.7358 - val_accuracy: 0.7990\n",
      "Epoch 153/200\n",
      "313/313 [==============================] - 3s 11ms/step - loss: 0.1652 - accuracy: 0.9347 - val_loss: 0.7180 - val_accuracy: 0.7980\n",
      "Epoch 154/200\n",
      "313/313 [==============================] - 4s 13ms/step - loss: 0.1600 - accuracy: 0.9357 - val_loss: 0.7612 - val_accuracy: 0.8030\n",
      "Epoch 155/200\n",
      "313/313 [==============================] - 4s 12ms/step - loss: 0.1552 - accuracy: 0.9396 - val_loss: 0.7461 - val_accuracy: 0.8060\n",
      "Epoch 156/200\n",
      "313/313 [==============================] - 3s 11ms/step - loss: 0.1643 - accuracy: 0.9342 - val_loss: 0.7752 - val_accuracy: 0.7970\n",
      "Epoch 157/200\n",
      "313/313 [==============================] - 3s 11ms/step - loss: 0.1627 - accuracy: 0.9343 - val_loss: 0.7386 - val_accuracy: 0.8020\n",
      "Epoch 158/200\n",
      "313/313 [==============================] - 3s 11ms/step - loss: 0.1591 - accuracy: 0.9384 - val_loss: 0.7364 - val_accuracy: 0.8040\n",
      "Epoch 159/200\n",
      "313/313 [==============================] - 4s 11ms/step - loss: 0.1603 - accuracy: 0.9361 - val_loss: 0.7807 - val_accuracy: 0.7880\n",
      "Epoch 160/200\n",
      "313/313 [==============================] - 3s 11ms/step - loss: 0.1608 - accuracy: 0.9348 - val_loss: 0.7351 - val_accuracy: 0.7970\n",
      "Epoch 161/200\n",
      "313/313 [==============================] - 3s 11ms/step - loss: 0.1613 - accuracy: 0.9381 - val_loss: 0.7602 - val_accuracy: 0.8000\n",
      "Epoch 162/200\n",
      "313/313 [==============================] - 3s 11ms/step - loss: 0.1671 - accuracy: 0.9360 - val_loss: 0.7472 - val_accuracy: 0.7930\n",
      "Epoch 163/200\n",
      "313/313 [==============================] - 3s 11ms/step - loss: 0.1619 - accuracy: 0.9361 - val_loss: 0.7432 - val_accuracy: 0.7920\n",
      "Epoch 164/200\n",
      "313/313 [==============================] - 3s 11ms/step - loss: 0.1481 - accuracy: 0.9426 - val_loss: 0.7491 - val_accuracy: 0.8020\n",
      "Epoch 165/200\n",
      "313/313 [==============================] - 3s 11ms/step - loss: 0.1545 - accuracy: 0.9382 - val_loss: 0.7417 - val_accuracy: 0.7990\n",
      "Epoch 166/200\n",
      "313/313 [==============================] - 3s 11ms/step - loss: 0.1552 - accuracy: 0.9395 - val_loss: 0.6872 - val_accuracy: 0.7950\n",
      "Epoch 167/200\n",
      "313/313 [==============================] - 3s 11ms/step - loss: 0.1566 - accuracy: 0.9397 - val_loss: 0.7640 - val_accuracy: 0.7880\n",
      "Epoch 168/200\n",
      "313/313 [==============================] - 3s 11ms/step - loss: 0.1509 - accuracy: 0.9413 - val_loss: 0.7928 - val_accuracy: 0.7950\n",
      "Epoch 169/200\n",
      "313/313 [==============================] - 3s 11ms/step - loss: 0.1508 - accuracy: 0.9390 - val_loss: 0.7153 - val_accuracy: 0.7910\n",
      "Epoch 170/200\n",
      "313/313 [==============================] - 3s 11ms/step - loss: 0.1552 - accuracy: 0.9401 - val_loss: 0.7269 - val_accuracy: 0.8010\n",
      "Epoch 171/200\n",
      "313/313 [==============================] - 3s 11ms/step - loss: 0.1506 - accuracy: 0.9433 - val_loss: 0.7929 - val_accuracy: 0.7900\n",
      "Epoch 172/200\n",
      "313/313 [==============================] - 4s 12ms/step - loss: 0.1523 - accuracy: 0.9397 - val_loss: 0.7485 - val_accuracy: 0.8080\n",
      "Epoch 173/200\n",
      "313/313 [==============================] - 4s 12ms/step - loss: 0.1491 - accuracy: 0.9428 - val_loss: 0.7664 - val_accuracy: 0.8010\n",
      "Epoch 174/200\n",
      "313/313 [==============================] - 3s 11ms/step - loss: 0.1542 - accuracy: 0.9396 - val_loss: 0.7602 - val_accuracy: 0.8020\n",
      "Epoch 175/200\n",
      "313/313 [==============================] - 3s 11ms/step - loss: 0.1551 - accuracy: 0.9397 - val_loss: 0.7225 - val_accuracy: 0.8010\n",
      "Epoch 176/200\n",
      "313/313 [==============================] - 3s 11ms/step - loss: 0.1532 - accuracy: 0.9390 - val_loss: 0.7678 - val_accuracy: 0.7990\n",
      "Epoch 177/200\n",
      "313/313 [==============================] - 3s 11ms/step - loss: 0.1514 - accuracy: 0.9412 - val_loss: 0.7420 - val_accuracy: 0.7990\n",
      "Epoch 178/200\n",
      "313/313 [==============================] - 3s 11ms/step - loss: 0.1541 - accuracy: 0.9380 - val_loss: 0.7601 - val_accuracy: 0.7880\n",
      "Epoch 179/200\n",
      "313/313 [==============================] - 3s 11ms/step - loss: 0.1513 - accuracy: 0.9415 - val_loss: 0.8067 - val_accuracy: 0.7840\n",
      "Epoch 180/200\n",
      "313/313 [==============================] - 3s 11ms/step - loss: 0.1450 - accuracy: 0.9452 - val_loss: 0.7739 - val_accuracy: 0.7980\n",
      "Epoch 181/200\n",
      "313/313 [==============================] - 3s 11ms/step - loss: 0.1533 - accuracy: 0.9407 - val_loss: 0.7795 - val_accuracy: 0.7920\n",
      "Epoch 182/200\n",
      "313/313 [==============================] - 3s 11ms/step - loss: 0.1542 - accuracy: 0.9399 - val_loss: 0.7617 - val_accuracy: 0.7970\n",
      "Epoch 183/200\n",
      "313/313 [==============================] - 3s 11ms/step - loss: 0.1532 - accuracy: 0.9406 - val_loss: 0.7515 - val_accuracy: 0.8020\n",
      "Epoch 184/200\n",
      "313/313 [==============================] - 3s 11ms/step - loss: 0.1439 - accuracy: 0.9423 - val_loss: 0.8183 - val_accuracy: 0.7880\n",
      "Epoch 185/200\n",
      "313/313 [==============================] - 3s 11ms/step - loss: 0.1447 - accuracy: 0.9442 - val_loss: 0.8085 - val_accuracy: 0.7910\n",
      "Epoch 186/200\n",
      "313/313 [==============================] - 3s 11ms/step - loss: 0.1501 - accuracy: 0.9465 - val_loss: 0.8102 - val_accuracy: 0.7890\n",
      "Epoch 187/200\n",
      "313/313 [==============================] - 3s 11ms/step - loss: 0.1450 - accuracy: 0.9438 - val_loss: 0.8313 - val_accuracy: 0.7800\n",
      "Epoch 188/200\n",
      "313/313 [==============================] - 3s 11ms/step - loss: 0.1464 - accuracy: 0.9429 - val_loss: 0.8018 - val_accuracy: 0.8010\n",
      "Epoch 189/200\n",
      "313/313 [==============================] - 3s 11ms/step - loss: 0.1451 - accuracy: 0.9418 - val_loss: 0.7805 - val_accuracy: 0.8020\n",
      "Epoch 190/200\n",
      "313/313 [==============================] - 3s 11ms/step - loss: 0.1397 - accuracy: 0.9451 - val_loss: 0.7651 - val_accuracy: 0.7980\n",
      "Epoch 191/200\n",
      "313/313 [==============================] - 3s 11ms/step - loss: 0.1422 - accuracy: 0.9447 - val_loss: 0.8053 - val_accuracy: 0.8010\n",
      "Epoch 192/200\n",
      "313/313 [==============================] - 3s 11ms/step - loss: 0.1537 - accuracy: 0.9418 - val_loss: 0.7733 - val_accuracy: 0.7960\n",
      "Epoch 193/200\n",
      "313/313 [==============================] - 4s 14ms/step - loss: 0.1474 - accuracy: 0.9440 - val_loss: 0.8147 - val_accuracy: 0.8020\n",
      "Epoch 194/200\n",
      "313/313 [==============================] - 4s 14ms/step - loss: 0.1469 - accuracy: 0.9432 - val_loss: 0.7993 - val_accuracy: 0.8000\n",
      "Epoch 195/200\n",
      "313/313 [==============================] - 4s 13ms/step - loss: 0.1442 - accuracy: 0.9430 - val_loss: 0.8179 - val_accuracy: 0.8020\n",
      "Epoch 196/200\n",
      "313/313 [==============================] - 4s 12ms/step - loss: 0.1378 - accuracy: 0.9467 - val_loss: 0.8542 - val_accuracy: 0.8050\n",
      "Epoch 197/200\n",
      "313/313 [==============================] - 4s 14ms/step - loss: 0.1502 - accuracy: 0.9418 - val_loss: 0.8125 - val_accuracy: 0.8030\n",
      "Epoch 198/200\n",
      "313/313 [==============================] - 4s 12ms/step - loss: 0.1333 - accuracy: 0.9474 - val_loss: 0.8312 - val_accuracy: 0.7980\n",
      "Epoch 199/200\n",
      "313/313 [==============================] - 4s 14ms/step - loss: 0.1395 - accuracy: 0.9484 - val_loss: 0.7970 - val_accuracy: 0.8030\n",
      "Epoch 200/200\n",
      "313/313 [==============================] - 4s 12ms/step - loss: 0.1430 - accuracy: 0.9434 - val_loss: 0.7849 - val_accuracy: 0.8030\n"
     ]
    }
   ],
   "source": [
    "history = model.fit([inputs_train, queries_train], answers_train, batch_size=32, epochs=200, validation_data=([inputs_test, queries_test], answers_test))"
   ]
  },
  {
   "cell_type": "code",
   "execution_count": 151,
   "metadata": {},
   "outputs": [
    {
     "name": "stdout",
     "output_type": "stream",
     "text": [
      "dict_keys(['loss', 'accuracy', 'val_loss', 'val_accuracy'])\n"
     ]
    },
    {
     "data": {
      "image/png": "[encoded data removed]",
      "text/plain": [
       "<Figure size 432x288 with 1 Axes>"
      ]
     },
     "metadata": {
      "needs_background": "light"
     },
     "output_type": "display_data"
    }
   ],
   "source": [
    "import matplotlib.pyplot as plt\n",
    "%matplotlib inline\n",
    "print(history.history.keys())\n",
    "\n",
    "plt.plot(history.history['accuracy'])\n",
    "plt.plot(history.history['val_accuracy'])\n",
    "plt.title('model accuracy')\n",
    "plt.ylabel('accuracy')\n",
    "plt.xlabel('epoch')\n",
    "plt.legend(['train', 'test'], loc='upper left')\n",
    "plt.show()"
   ]
  },
  {
   "cell_type": "code",
   "execution_count": 152,
   "metadata": {},
   "outputs": [],
   "source": [
    "# model.save('mybrandnewmodel.h5')"
   ]
  },
  {
   "cell_type": "code",
   "execution_count": 153,
   "metadata": {},
   "outputs": [],
   "source": [
    "pred_results = model.predict(([inputs_test, queries_test]))"
   ]
  },
  {
   "cell_type": "code",
   "execution_count": 154,
   "metadata": {},
   "outputs": [
    {
     "data": {
      "text/plain": [
       "'Mary got the milk there . John moved to the bedroom .'"
      ]
     },
     "execution_count": 154,
     "metadata": {},
     "output_type": "execute_result"
    }
   ],
   "source": [
    "' '.join(test_data[0][0])"
   ]
  },
  {
   "cell_type": "code",
   "execution_count": 155,
   "metadata": {},
   "outputs": [
    {
     "data": {
      "text/plain": [
       "array([1.0475261e-09, 1.1144436e-09, 1.0751466e-09, 1.0335464e-09,\n",
       "       1.1017037e-09, 1.1262928e-09, 1.0953677e-09, 1.0801229e-09,\n",
       "       1.0464938e-09, 1.5174926e-03, 1.0402628e-09, 1.0902130e-09,\n",
       "       1.1601295e-09, 1.1058575e-09, 1.0740380e-09, 1.0868620e-09,\n",
       "       1.0770843e-09, 1.1444833e-09, 1.1014558e-09, 1.0574933e-09,\n",
       "       1.0695446e-09, 1.0889973e-09, 1.0253566e-09, 1.1239880e-09,\n",
       "       1.0698077e-09, 1.0902380e-09, 1.1780079e-09, 1.1574729e-09,\n",
       "       1.0712983e-09, 1.0834221e-09, 1.1261060e-09, 1.0456337e-09,\n",
       "       1.1306773e-09, 1.0946826e-09, 9.9848253e-01, 1.0365708e-09,\n",
       "       1.1353365e-09, 1.1144671e-09], dtype=float32)"
      ]
     },
     "execution_count": 155,
     "metadata": {},
     "output_type": "execute_result"
    }
   ],
   "source": [
    "pred_results[0]"
   ]
  },
  {
   "cell_type": "code",
   "execution_count": 156,
   "metadata": {},
   "outputs": [],
   "source": [
    "val_max = np.argmax(pred_results[0])"
   ]
  },
  {
   "cell_type": "code",
   "execution_count": 157,
   "metadata": {},
   "outputs": [],
   "source": [
    "for key, val in tokenizer.word_index.items():\n",
    "    if val == val_max:\n",
    "        k = key"
   ]
  },
  {
   "cell_type": "code",
   "execution_count": 158,
   "metadata": {},
   "outputs": [
    {
     "data": {
      "text/plain": [
       "'no'"
      ]
     },
     "execution_count": 158,
     "metadata": {},
     "output_type": "execute_result"
    }
   ],
   "source": [
    "k"
   ]
  },
  {
   "cell_type": "code",
   "execution_count": 159,
   "metadata": {},
   "outputs": [
    {
     "data": {
      "text/plain": [
       "0.9984825"
      ]
     },
     "execution_count": 159,
     "metadata": {},
     "output_type": "execute_result"
    }
   ],
   "source": [
    "pred_results[0][val_max]"
   ]
  },
  {
   "cell_type": "code",
   "execution_count": 160,
   "metadata": {},
   "outputs": [],
   "source": [
    "my_story = \"Mary got the milk there . John moved to the office .\""
   ]
  },
  {
   "cell_type": "code",
   "execution_count": 161,
   "metadata": {},
   "outputs": [
    {
     "data": {
      "text/plain": [
       "['Mary',\n",
       " 'got',\n",
       " 'the',\n",
       " 'milk',\n",
       " 'there',\n",
       " '.',\n",
       " 'John',\n",
       " 'moved',\n",
       " 'to',\n",
       " 'the',\n",
       " 'office',\n",
       " '.']"
      ]
     },
     "execution_count": 161,
     "metadata": {},
     "output_type": "execute_result"
    }
   ],
   "source": [
    "my_story.split()"
   ]
  },
  {
   "cell_type": "code",
   "execution_count": 162,
   "metadata": {},
   "outputs": [],
   "source": [
    "my_question = \"Is the football in the kitchen ?\""
   ]
  },
  {
   "cell_type": "code",
   "execution_count": 163,
   "metadata": {},
   "outputs": [
    {
     "data": {
      "text/plain": [
       "['Is', 'the', 'football', 'in', 'the', 'kitchen', '?']"
      ]
     },
     "execution_count": 163,
     "metadata": {},
     "output_type": "execute_result"
    }
   ],
   "source": [
    "my_question.split()"
   ]
  },
  {
   "cell_type": "code",
   "execution_count": 164,
   "metadata": {},
   "outputs": [],
   "source": [
    "mydata = [(my_story.split(), my_question.split(), 'yes')]"
   ]
  },
  {
   "cell_type": "code",
   "execution_count": 165,
   "metadata": {},
   "outputs": [
    {
     "data": {
      "text/plain": [
       "[(['Mary',\n",
       "   'got',\n",
       "   'the',\n",
       "   'milk',\n",
       "   'there',\n",
       "   '.',\n",
       "   'John',\n",
       "   'moved',\n",
       "   'to',\n",
       "   'the',\n",
       "   'office',\n",
       "   '.'],\n",
       "  ['Is', 'the', 'football', 'in', 'the', 'kitchen', '?'],\n",
       "  'yes')]"
      ]
     },
     "execution_count": 165,
     "metadata": {},
     "output_type": "execute_result"
    }
   ],
   "source": [
    "mydata"
   ]
  },
  {
   "cell_type": "code",
   "execution_count": 166,
   "metadata": {},
   "outputs": [],
   "source": [
    "my_story, my_ques, my_ans = vectorize_stories(mydata)"
   ]
  },
  {
   "cell_type": "code",
   "execution_count": 167,
   "metadata": {},
   "outputs": [
    {
     "data": {
      "text/plain": [
       "array([[ 0,  0,  0,  0,  0,  0,  0,  0,  0,  0,  0,  0,  0,  0,  0,  0,\n",
       "         0,  0,  0,  0,  0,  0,  0,  0,  0,  0,  0,  0,  0,  0,  0,  0,\n",
       "         0,  0,  0,  0,  0,  0,  0,  0,  0,  0,  0,  0,  0,  0,  0,  0,\n",
       "         0,  0,  0,  0,  0,  0,  0,  0,  0,  0,  0,  0,  0,  0,  0,  0,\n",
       "         0,  0,  0,  0,  0,  0,  0,  0,  0,  0,  0,  0,  0,  0,  0,  0,\n",
       "         0,  0,  0,  0,  0,  0,  0,  0,  0,  0,  0,  0,  0,  0,  0,  0,\n",
       "         0,  0,  0,  0,  0,  0,  0,  0,  0,  0,  0,  0,  0,  0,  0,  0,\n",
       "         0,  0,  0,  0,  0,  0,  0,  0,  0,  0,  0,  0,  0,  0,  0,  0,\n",
       "         0,  0,  0,  0,  0,  0,  0,  0,  0,  0,  0,  0,  0,  0,  0,  0,\n",
       "        31, 26, 25, 24, 36, 29,  7, 19,  4, 25, 32, 29]], dtype=int32)"
      ]
     },
     "execution_count": 167,
     "metadata": {},
     "output_type": "execute_result"
    }
   ],
   "source": [
    "my_story"
   ]
  },
  {
   "cell_type": "code",
   "execution_count": 168,
   "metadata": {},
   "outputs": [],
   "source": [
    "pred_results = model.predict(([my_story, my_ques]))"
   ]
  },
  {
   "cell_type": "code",
   "execution_count": 169,
   "metadata": {},
   "outputs": [
    {
     "data": {
      "text/plain": [
       "array([[7.4901673e-12, 8.0560333e-12, 7.4638698e-12, 7.4796037e-12,\n",
       "        7.4044295e-12, 8.0430142e-12, 7.7048532e-12, 8.1577141e-12,\n",
       "        7.3970613e-12, 7.8374411e-05, 7.6010717e-12, 7.8990113e-12,\n",
       "        8.2888349e-12, 8.0356537e-12, 7.5254230e-12, 7.6013614e-12,\n",
       "        7.6084685e-12, 8.3806894e-12, 7.9613885e-12, 7.3233320e-12,\n",
       "        7.2989002e-12, 7.8102013e-12, 7.5592874e-12, 7.8326087e-12,\n",
       "        7.4360466e-12, 8.3580851e-12, 8.6873538e-12, 8.3209273e-12,\n",
       "        7.7052349e-12, 7.8728387e-12, 8.0301998e-12, 7.4867109e-12,\n",
       "        8.2154266e-12, 8.2975042e-12, 9.9992156e-01, 7.0060954e-12,\n",
       "        7.8375995e-12, 7.5126884e-12]], dtype=float32)"
      ]
     },
     "execution_count": 169,
     "metadata": {},
     "output_type": "execute_result"
    }
   ],
   "source": [
    "pred_results"
   ]
  },
  {
   "cell_type": "code",
   "execution_count": 170,
   "metadata": {},
   "outputs": [],
   "source": [
    "val_max = np.argmax(pred_results[0])"
   ]
  },
  {
   "cell_type": "code",
   "execution_count": 171,
   "metadata": {},
   "outputs": [
    {
     "data": {
      "text/plain": [
       "0.99992156"
      ]
     },
     "execution_count": 171,
     "metadata": {},
     "output_type": "execute_result"
    }
   ],
   "source": [
    "pred_results[0][val_max]"
   ]
  },
  {
   "cell_type": "code",
   "execution_count": 172,
   "metadata": {},
   "outputs": [],
   "source": [
    "for key, val in tokenizer.word_index.items():\n",
    "    if val == val_max:\n",
    "        k = key"
   ]
  },
  {
   "cell_type": "code",
   "execution_count": 173,
   "metadata": {},
   "outputs": [
    {
     "data": {
      "text/plain": [
       "'journeyed'"
      ]
     },
     "execution_count": 173,
     "metadata": {},
     "output_type": "execute_result"
    }
   ],
   "source": [
    "key"
   ]
  },
  {
   "cell_type": "code",
   "execution_count": null,
   "metadata": {},
   "outputs": [],
   "source": []
  }
 ],
 "metadata": {
  "kernelspec": {
   "display_name": "Python 3",
   "language": "python",
   "name": "python3"
  },
  "language_info": {
   "codemirror_mode": {
    "name": "ipython",
    "version": 3
   },
   "file_extension": ".py",
   "mimetype": "text/x-python",
   "name": "python",
   "nbconvert_exporter": "python",
   "pygments_lexer": "ipython3",
   "version": "3.8.1"
  }
 },
 "nbformat": 4,
 "nbformat_minor": 4
}
