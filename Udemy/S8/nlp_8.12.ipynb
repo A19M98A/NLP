{
 "cells": [
  {
   "cell_type": "code",
   "execution_count": 1,
   "metadata": {},
   "outputs": [],
   "source": [
    "import pickle\n",
    "import numpy as np"
   ]
  },
  {
   "cell_type": "code",
   "execution_count": 2,
   "metadata": {},
   "outputs": [],
   "source": [
    "with open('../TextFiles/train_qa.txt', 'rb') as f:\n",
    "    train_data = pickle.load(f)"
   ]
  },
  {
   "cell_type": "code",
   "execution_count": 3,
   "metadata": {},
   "outputs": [],
   "source": [
    "with open('../TextFiles/test_qa.txt', 'rb') as f:\n",
    "    test_data = pickle.load(f)"
   ]
  },
  {
   "cell_type": "code",
   "execution_count": 4,
   "metadata": {},
   "outputs": [
    {
     "data": {
      "text/plain": [
       "1000"
      ]
     },
     "execution_count": 4,
     "metadata": {},
     "output_type": "execute_result"
    }
   ],
   "source": [
    "len(test_data)"
   ]
  },
  {
   "cell_type": "code",
   "execution_count": 5,
   "metadata": {},
   "outputs": [
    {
     "data": {
      "text/plain": [
       "(['Mary',\n",
       "  'moved',\n",
       "  'to',\n",
       "  'the',\n",
       "  'bathroom',\n",
       "  '.',\n",
       "  'Sandra',\n",
       "  'journeyed',\n",
       "  'to',\n",
       "  'the',\n",
       "  'bedroom',\n",
       "  '.'],\n",
       " ['Is', 'Sandra', 'in', 'the', 'hallway', '?'],\n",
       " 'no')"
      ]
     },
     "execution_count": 5,
     "metadata": {},
     "output_type": "execute_result"
    }
   ],
   "source": [
    "train_data[0]"
   ]
  },
  {
   "cell_type": "code",
   "execution_count": 6,
   "metadata": {},
   "outputs": [],
   "source": [
    "all_data = test_data + train_data"
   ]
  },
  {
   "cell_type": "code",
   "execution_count": 7,
   "metadata": {},
   "outputs": [
    {
     "data": {
      "text/plain": [
       "11000"
      ]
     },
     "execution_count": 7,
     "metadata": {},
     "output_type": "execute_result"
    }
   ],
   "source": [
    "len(all_data)"
   ]
  },
  {
   "cell_type": "code",
   "execution_count": 8,
   "metadata": {},
   "outputs": [
    {
     "data": {
      "text/plain": [
       "{'.',\n",
       " 'Mary',\n",
       " 'Sandra',\n",
       " 'bathroom',\n",
       " 'bedroom',\n",
       " 'journeyed',\n",
       " 'moved',\n",
       " 'the',\n",
       " 'to'}"
      ]
     },
     "execution_count": 8,
     "metadata": {},
     "output_type": "execute_result"
    }
   ],
   "source": [
    "set(train_data[0][0])"
   ]
  },
  {
   "cell_type": "code",
   "execution_count": 9,
   "metadata": {},
   "outputs": [],
   "source": [
    "vocab = set()\n",
    "\n",
    "for story, question, answer in all_data:\n",
    "    vocab = vocab.union(set(story))\n",
    "    vocab = vocab.union(set(question))"
   ]
  },
  {
   "cell_type": "code",
   "execution_count": 10,
   "metadata": {},
   "outputs": [],
   "source": [
    "vocab.add('no')"
   ]
  },
  {
   "cell_type": "code",
   "execution_count": 11,
   "metadata": {},
   "outputs": [],
   "source": [
    "vocab.add('yes')"
   ]
  },
  {
   "cell_type": "code",
   "execution_count": 12,
   "metadata": {},
   "outputs": [
    {
     "data": {
      "text/plain": [
       "{'.',\n",
       " '?',\n",
       " 'Daniel',\n",
       " 'Is',\n",
       " 'John',\n",
       " 'Mary',\n",
       " 'Sandra',\n",
       " 'apple',\n",
       " 'back',\n",
       " 'bathroom',\n",
       " 'bedroom',\n",
       " 'discarded',\n",
       " 'down',\n",
       " 'dropped',\n",
       " 'football',\n",
       " 'garden',\n",
       " 'got',\n",
       " 'grabbed',\n",
       " 'hallway',\n",
       " 'in',\n",
       " 'journeyed',\n",
       " 'kitchen',\n",
       " 'left',\n",
       " 'milk',\n",
       " 'moved',\n",
       " 'no',\n",
       " 'office',\n",
       " 'picked',\n",
       " 'put',\n",
       " 'the',\n",
       " 'there',\n",
       " 'to',\n",
       " 'took',\n",
       " 'travelled',\n",
       " 'up',\n",
       " 'went',\n",
       " 'yes'}"
      ]
     },
     "execution_count": 12,
     "metadata": {},
     "output_type": "execute_result"
    }
   ],
   "source": [
    "vocab"
   ]
  },
  {
   "cell_type": "code",
   "execution_count": 13,
   "metadata": {},
   "outputs": [],
   "source": [
    "vocab_len = len(vocab) + 1"
   ]
  },
  {
   "cell_type": "code",
   "execution_count": 14,
   "metadata": {},
   "outputs": [
    {
     "data": {
      "text/plain": [
       "38"
      ]
     },
     "execution_count": 14,
     "metadata": {},
     "output_type": "execute_result"
    }
   ],
   "source": [
    "vocab_len"
   ]
  },
  {
   "cell_type": "code",
   "execution_count": 15,
   "metadata": {},
   "outputs": [],
   "source": [
    "max_story_len = max([len(data[0]) for data in all_data])"
   ]
  },
  {
   "cell_type": "code",
   "execution_count": 16,
   "metadata": {},
   "outputs": [
    {
     "data": {
      "text/plain": [
       "156"
      ]
     },
     "execution_count": 16,
     "metadata": {},
     "output_type": "execute_result"
    }
   ],
   "source": [
    "max_story_len"
   ]
  },
  {
   "cell_type": "code",
   "execution_count": 17,
   "metadata": {},
   "outputs": [],
   "source": [
    "max_question_len = max([len(data[1]) for data in all_data])"
   ]
  },
  {
   "cell_type": "code",
   "execution_count": 18,
   "metadata": {},
   "outputs": [
    {
     "data": {
      "text/plain": [
       "6"
      ]
     },
     "execution_count": 18,
     "metadata": {},
     "output_type": "execute_result"
    }
   ],
   "source": [
    "max_question_len"
   ]
  },
  {
   "cell_type": "code",
   "execution_count": 19,
   "metadata": {},
   "outputs": [],
   "source": [
    "from keras.preprocessing.sequence import pad_sequences\n",
    "from keras.preprocessing.text import Tokenizer"
   ]
  },
  {
   "cell_type": "code",
   "execution_count": 20,
   "metadata": {},
   "outputs": [],
   "source": [
    "tokenizer = Tokenizer(filters=[])\n",
    "tokenizer.fit_on_texts(vocab)"
   ]
  },
  {
   "cell_type": "code",
   "execution_count": 21,
   "metadata": {},
   "outputs": [
    {
     "data": {
      "text/plain": [
       "{'bathroom': 1,\n",
       " 'football': 2,\n",
       " 'grabbed': 3,\n",
       " 'to': 4,\n",
       " 'back': 5,\n",
       " 'left': 6,\n",
       " '?': 7,\n",
       " 'there': 8,\n",
       " '.': 9,\n",
       " 'mary': 10,\n",
       " 'travelled': 11,\n",
       " 'hallway': 12,\n",
       " 'garden': 13,\n",
       " 'discarded': 14,\n",
       " 'down': 15,\n",
       " 'office': 16,\n",
       " 'no': 17,\n",
       " 'john': 18,\n",
       " 'the': 19,\n",
       " 'bedroom': 20,\n",
       " 'sandra': 21,\n",
       " 'picked': 22,\n",
       " 'in': 23,\n",
       " 'moved': 24,\n",
       " 'milk': 25,\n",
       " 'yes': 26,\n",
       " 'put': 27,\n",
       " 'dropped': 28,\n",
       " 'up': 29,\n",
       " 'is': 30,\n",
       " 'took': 31,\n",
       " 'apple': 32,\n",
       " 'got': 33,\n",
       " 'daniel': 34,\n",
       " 'went': 35,\n",
       " 'journeyed': 36,\n",
       " 'kitchen': 37}"
      ]
     },
     "execution_count": 21,
     "metadata": {},
     "output_type": "execute_result"
    }
   ],
   "source": [
    "tokenizer.word_index"
   ]
  },
  {
   "cell_type": "code",
   "execution_count": 22,
   "metadata": {},
   "outputs": [],
   "source": [
    "train_story_text = []\n",
    "train_question_text = []\n",
    "train_answers = []"
   ]
  },
  {
   "cell_type": "code",
   "execution_count": 23,
   "metadata": {},
   "outputs": [],
   "source": [
    "for story, question, answer in train_data:\n",
    "    train_story_text.append(story)\n",
    "    train_question_text.append(question)\n",
    "    train_answers.append(answer)"
   ]
  },
  {
   "cell_type": "code",
   "execution_count": 24,
   "metadata": {},
   "outputs": [],
   "source": [
    "train_story_seq = tokenizer.texts_to_sequences(train_story_text)"
   ]
  },
  {
   "cell_type": "code",
   "execution_count": 25,
   "metadata": {},
   "outputs": [
    {
     "data": {
      "text/plain": [
       "10000"
      ]
     },
     "execution_count": 25,
     "metadata": {},
     "output_type": "execute_result"
    }
   ],
   "source": [
    "len(train_story_seq)"
   ]
  },
  {
   "cell_type": "code",
   "execution_count": 26,
   "metadata": {},
   "outputs": [],
   "source": [
    "def vectorize_stories(data, word_index=tokenizer.word_index, max_story_len=max_story_len, max_question_len=max_question_len):\n",
    "    \n",
    "    X = []\n",
    "    Xq = []\n",
    "    Y = []\n",
    "    \n",
    "    for story, query, answer in data:\n",
    "        \n",
    "        x = [word_index[word.lower()] for word in story]\n",
    "        xq = [word_index[word.lower()] for word in query]\n",
    "        \n",
    "        y = np.zeros(len(word_index) + 1)\n",
    "        \n",
    "        y[word_index[answer]] = 1\n",
    "        \n",
    "        X.append(x)\n",
    "        Xq.append(xq)\n",
    "        Y.append(y)\n",
    "        \n",
    "    return (pad_sequences(X, maxlen=max_story_len), pad_sequences(Xq, maxlen=max_question_len), np.array(Y))"
   ]
  },
  {
   "cell_type": "code",
   "execution_count": 27,
   "metadata": {},
   "outputs": [],
   "source": [
    "inputs_train, queries_train, answers_train = vectorize_stories(train_data)"
   ]
  },
  {
   "cell_type": "code",
   "execution_count": 28,
   "metadata": {},
   "outputs": [],
   "source": [
    "inputs_test, queries_test, answers_test = vectorize_stories(test_data)"
   ]
  },
  {
   "cell_type": "code",
   "execution_count": 29,
   "metadata": {},
   "outputs": [
    {
     "data": {
      "text/plain": [
       "array([[ 0,  0,  0, ..., 19, 20,  9],\n",
       "       [ 0,  0,  0, ..., 19, 13,  9],\n",
       "       [ 0,  0,  0, ..., 19, 13,  9],\n",
       "       ...,\n",
       "       [ 0,  0,  0, ..., 19, 32,  9],\n",
       "       [ 0,  0,  0, ..., 19, 13,  9],\n",
       "       [ 0,  0,  0, ..., 32,  8,  9]], dtype=int32)"
      ]
     },
     "execution_count": 29,
     "metadata": {},
     "output_type": "execute_result"
    }
   ],
   "source": [
    "inputs_test"
   ]
  },
  {
   "cell_type": "code",
   "execution_count": 30,
   "metadata": {},
   "outputs": [
    {
     "data": {
      "text/plain": [
       "array([[30, 18, 23, 19, 37,  7],\n",
       "       [30, 18, 23, 19, 37,  7],\n",
       "       [30, 18, 23, 19, 13,  7],\n",
       "       ...,\n",
       "       [30, 10, 23, 19, 20,  7],\n",
       "       [30, 21, 23, 19, 13,  7],\n",
       "       [30, 10, 23, 19, 13,  7]], dtype=int32)"
      ]
     },
     "execution_count": 30,
     "metadata": {},
     "output_type": "execute_result"
    }
   ],
   "source": [
    "queries_test"
   ]
  },
  {
   "cell_type": "code",
   "execution_count": 31,
   "metadata": {},
   "outputs": [
    {
     "data": {
      "text/plain": [
       "array([[0., 0., 0., ..., 0., 0., 0.],\n",
       "       [0., 0., 0., ..., 0., 0., 0.],\n",
       "       [0., 0., 0., ..., 0., 0., 0.],\n",
       "       ...,\n",
       "       [0., 0., 0., ..., 0., 0., 0.],\n",
       "       [0., 0., 0., ..., 0., 0., 0.],\n",
       "       [0., 0., 0., ..., 0., 0., 0.]])"
      ]
     },
     "execution_count": 31,
     "metadata": {},
     "output_type": "execute_result"
    }
   ],
   "source": [
    "answers_test"
   ]
  },
  {
   "cell_type": "code",
   "execution_count": 32,
   "metadata": {},
   "outputs": [
    {
     "data": {
      "text/plain": [
       "array([  0.,   0.,   0.,   0.,   0.,   0.,   0.,   0.,   0.,   0.,   0.,\n",
       "         0.,   0.,   0.,   0.,   0.,   0., 503.,   0.,   0.,   0.,   0.,\n",
       "         0.,   0.,   0.,   0., 497.,   0.,   0.,   0.,   0.,   0.,   0.,\n",
       "         0.,   0.,   0.,   0.,   0.])"
      ]
     },
     "execution_count": 32,
     "metadata": {},
     "output_type": "execute_result"
    }
   ],
   "source": [
    "sum(answers_test)"
   ]
  },
  {
   "cell_type": "code",
   "execution_count": 33,
   "metadata": {},
   "outputs": [],
   "source": [
    "from keras.models import Sequential, Model"
   ]
  },
  {
   "cell_type": "code",
   "execution_count": 34,
   "metadata": {},
   "outputs": [],
   "source": [
    "from keras.layers import Embedding"
   ]
  },
  {
   "cell_type": "code",
   "execution_count": 35,
   "metadata": {},
   "outputs": [],
   "source": [
    "from keras.layers import Input, Activation, Dense, Permute, Dropout, add, dot, concatenate, LSTM"
   ]
  },
  {
   "cell_type": "code",
   "execution_count": 36,
   "metadata": {},
   "outputs": [],
   "source": [
    "input_sequence = Input((max_story_len,))\n",
    "question = Input((max_question_len,))"
   ]
  },
  {
   "cell_type": "code",
   "execution_count": 37,
   "metadata": {},
   "outputs": [],
   "source": [
    "vocab_size = len(vocab) + 1"
   ]
  },
  {
   "cell_type": "code",
   "execution_count": 38,
   "metadata": {},
   "outputs": [],
   "source": [
    "input_encoder_m = Sequential()\n",
    "input_encoder_m.add(Embedding(input_dim=vocab_size, output_dim=64))\n",
    "input_encoder_m.add(Dropout(0.3))"
   ]
  },
  {
   "cell_type": "code",
   "execution_count": 39,
   "metadata": {},
   "outputs": [],
   "source": [
    "input_encoder_c = Sequential()\n",
    "input_encoder_c.add(Embedding(input_dim=vocab_size, output_dim=max_question_len))\n",
    "input_encoder_c.add(Dropout(0.3))"
   ]
  },
  {
   "cell_type": "code",
   "execution_count": 40,
   "metadata": {},
   "outputs": [],
   "source": [
    "question_encoder = Sequential()\n",
    "question_encoder.add(Embedding(input_dim=vocab_size, output_dim=64, input_length=max_question_len))\n",
    "question_encoder.add(Dropout(0.3))"
   ]
  },
  {
   "cell_type": "code",
   "execution_count": 42,
   "metadata": {},
   "outputs": [],
   "source": [
    "input_encoded_m = input_encoder_m(input_sequence)\n",
    "input_encoded_c = input_encoder_c(input_sequence)\n",
    "question_encoded = question_encoder(question)"
   ]
  },
  {
   "cell_type": "code",
   "execution_count": 43,
   "metadata": {},
   "outputs": [],
   "source": [
    "match = dot([input_encoded_m, question_encoded], axes=(2,2))\n",
    "match = Activation('softmax')(match)"
   ]
  },
  {
   "cell_type": "code",
   "execution_count": 44,
   "metadata": {},
   "outputs": [],
   "source": [
    "response = add([match, input_encoded_c])\n",
    "response = Permute((2, 1))(response)"
   ]
  },
  {
   "cell_type": "code",
   "execution_count": 45,
   "metadata": {},
   "outputs": [],
   "source": [
    "answer = concatenate([response, question_encoded])"
   ]
  },
  {
   "cell_type": "code",
   "execution_count": 46,
   "metadata": {},
   "outputs": [
    {
     "data": {
      "text/plain": [
       "<KerasTensor: shape=(None, 6, 220) dtype=float32 (created by layer 'concatenate')>"
      ]
     },
     "execution_count": 46,
     "metadata": {},
     "output_type": "execute_result"
    }
   ],
   "source": [
    "answer"
   ]
  },
  {
   "cell_type": "code",
   "execution_count": 47,
   "metadata": {},
   "outputs": [],
   "source": [
    "answer = LSTM(32)(answer)"
   ]
  },
  {
   "cell_type": "code",
   "execution_count": 48,
   "metadata": {},
   "outputs": [],
   "source": [
    "answer = Dropout(0.5)(answer)\n",
    "answer = Dense(vocab_size)(answer)"
   ]
  },
  {
   "cell_type": "code",
   "execution_count": 49,
   "metadata": {},
   "outputs": [],
   "source": [
    "answer = Activation('softmax')(answer)"
   ]
  },
  {
   "cell_type": "code",
   "execution_count": 50,
   "metadata": {},
   "outputs": [],
   "source": [
    "model = Model([input_sequence, question], answer)"
   ]
  },
  {
   "cell_type": "code",
   "execution_count": 51,
   "metadata": {},
   "outputs": [],
   "source": [
    "model.compile(optimizer='rmsprop', loss='categorical_crossentropy', metrics=['accuracy'])"
   ]
  },
  {
   "cell_type": "code",
   "execution_count": 52,
   "metadata": {},
   "outputs": [
    {
     "name": "stdout",
     "output_type": "stream",
     "text": [
      "Model: \"model\"\n",
      "__________________________________________________________________________________________________\n",
      "Layer (type)                    Output Shape         Param #     Connected to                     \n",
      "==================================================================================================\n",
      "input_1 (InputLayer)            [(None, 156)]        0                                            \n",
      "__________________________________________________________________________________________________\n",
      "input_2 (InputLayer)            [(None, 6)]          0                                            \n",
      "__________________________________________________________________________________________________\n",
      "sequential (Sequential)         (None, None, 64)     2432        input_1[0][0]                    \n",
      "__________________________________________________________________________________________________\n",
      "sequential_2 (Sequential)       (None, 6, 64)        2432        input_2[0][0]                    \n",
      "__________________________________________________________________________________________________\n",
      "dot (Dot)                       (None, 156, 6)       0           sequential[0][0]                 \n",
      "                                                                 sequential_2[0][0]               \n",
      "__________________________________________________________________________________________________\n",
      "activation (Activation)         (None, 156, 6)       0           dot[0][0]                        \n",
      "__________________________________________________________________________________________________\n",
      "sequential_1 (Sequential)       (None, None, 6)      228         input_1[0][0]                    \n",
      "__________________________________________________________________________________________________\n",
      "add (Add)                       (None, 156, 6)       0           activation[0][0]                 \n",
      "                                                                 sequential_1[0][0]               \n",
      "__________________________________________________________________________________________________\n",
      "permute (Permute)               (None, 6, 156)       0           add[0][0]                        \n",
      "__________________________________________________________________________________________________\n",
      "concatenate (Concatenate)       (None, 6, 220)       0           permute[0][0]                    \n",
      "                                                                 sequential_2[0][0]               \n",
      "__________________________________________________________________________________________________\n",
      "lstm (LSTM)                     (None, 32)           32384       concatenate[0][0]                \n",
      "__________________________________________________________________________________________________\n",
      "dropout_3 (Dropout)             (None, 32)           0           lstm[0][0]                       \n",
      "__________________________________________________________________________________________________\n",
      "dense (Dense)                   (None, 38)           1254        dropout_3[0][0]                  \n",
      "__________________________________________________________________________________________________\n",
      "activation_1 (Activation)       (None, 38)           0           dense[0][0]                      \n",
      "==================================================================================================\n",
      "Total params: 38,730\n",
      "Trainable params: 38,730\n",
      "Non-trainable params: 0\n",
      "__________________________________________________________________________________________________\n"
     ]
    }
   ],
   "source": [
    "model.summary()"
   ]
  },
  {
   "cell_type": "code",
   "execution_count": 62,
   "metadata": {
    "collapsed": true,
    "jupyter": {
     "outputs_hidden": true
    }
   },
   "outputs": [
    {
     "name": "stdout",
     "output_type": "stream",
     "text": [
      "Epoch 1/100\n",
      "313/313 [==============================] - 4s 13ms/step - loss: 0.6595 - accuracy: 0.5981 - val_loss: 0.6466 - val_accuracy: 0.6440\n",
      "Epoch 2/100\n",
      "313/313 [==============================] - 4s 12ms/step - loss: 0.6410 - accuracy: 0.6460 - val_loss: 0.6208 - val_accuracy: 0.6820\n",
      "Epoch 3/100\n",
      "313/313 [==============================] - 4s 12ms/step - loss: 0.6176 - accuracy: 0.6663 - val_loss: 0.6043 - val_accuracy: 0.6650\n",
      "Epoch 4/100\n",
      "313/313 [==============================] - 4s 12ms/step - loss: 0.5968 - accuracy: 0.6865 - val_loss: 0.5645 - val_accuracy: 0.7150\n",
      "Epoch 5/100\n",
      "313/313 [==============================] - 4s 12ms/step - loss: 0.5691 - accuracy: 0.7159 - val_loss: 0.5592 - val_accuracy: 0.7170\n",
      "Epoch 6/100\n",
      "313/313 [==============================] - 4s 14ms/step - loss: 0.5518 - accuracy: 0.7255 - val_loss: 0.5324 - val_accuracy: 0.7440\n",
      "Epoch 7/100\n",
      "313/313 [==============================] - 5s 17ms/step - loss: 0.5399 - accuracy: 0.7336 - val_loss: 0.5314 - val_accuracy: 0.7440\n",
      "Epoch 8/100\n",
      "313/313 [==============================] - 6s 19ms/step - loss: 0.5240 - accuracy: 0.7447 - val_loss: 0.5157 - val_accuracy: 0.7420\n",
      "Epoch 9/100\n",
      "313/313 [==============================] - 5s 16ms/step - loss: 0.5183 - accuracy: 0.7503 - val_loss: 0.5060 - val_accuracy: 0.7570\n",
      "Epoch 10/100\n",
      "313/313 [==============================] - 5s 17ms/step - loss: 0.5022 - accuracy: 0.7597 - val_loss: 0.4859 - val_accuracy: 0.7640\n",
      "Epoch 11/100\n",
      "313/313 [==============================] - 5s 15ms/step - loss: 0.5021 - accuracy: 0.7607 - val_loss: 0.4929 - val_accuracy: 0.7690\n",
      "Epoch 12/100\n",
      "313/313 [==============================] - 4s 14ms/step - loss: 0.4898 - accuracy: 0.7669 - val_loss: 0.4797 - val_accuracy: 0.7730\n",
      "Epoch 13/100\n",
      "313/313 [==============================] - 5s 15ms/step - loss: 0.4857 - accuracy: 0.7705 - val_loss: 0.4743 - val_accuracy: 0.7830\n",
      "Epoch 14/100\n",
      "313/313 [==============================] - 4s 13ms/step - loss: 0.4759 - accuracy: 0.7743 - val_loss: 0.4824 - val_accuracy: 0.7680\n",
      "Epoch 15/100\n",
      "313/313 [==============================] - 4s 12ms/step - loss: 0.4764 - accuracy: 0.7740 - val_loss: 0.4628 - val_accuracy: 0.7890\n",
      "Epoch 16/100\n",
      "313/313 [==============================] - 4s 12ms/step - loss: 0.4690 - accuracy: 0.7833 - val_loss: 0.4727 - val_accuracy: 0.7880\n",
      "Epoch 17/100\n",
      "313/313 [==============================] - 4s 11ms/step - loss: 0.4712 - accuracy: 0.7776 - val_loss: 0.4627 - val_accuracy: 0.7890\n",
      "Epoch 18/100\n",
      "313/313 [==============================] - 4s 12ms/step - loss: 0.4640 - accuracy: 0.7797 - val_loss: 0.4672 - val_accuracy: 0.7890\n",
      "Epoch 19/100\n",
      "313/313 [==============================] - 5s 16ms/step - loss: 0.4616 - accuracy: 0.7832 - val_loss: 0.4775 - val_accuracy: 0.7810\n",
      "Epoch 20/100\n",
      "313/313 [==============================] - 4s 12ms/step - loss: 0.4544 - accuracy: 0.7854 - val_loss: 0.4719 - val_accuracy: 0.7910\n",
      "Epoch 21/100\n",
      "313/313 [==============================] - 4s 12ms/step - loss: 0.4508 - accuracy: 0.7904 - val_loss: 0.4705 - val_accuracy: 0.7880\n",
      "Epoch 22/100\n",
      "313/313 [==============================] - 4s 12ms/step - loss: 0.4478 - accuracy: 0.7915 - val_loss: 0.4580 - val_accuracy: 0.7860\n",
      "Epoch 23/100\n",
      "313/313 [==============================] - 4s 12ms/step - loss: 0.4438 - accuracy: 0.7912 - val_loss: 0.4612 - val_accuracy: 0.7880\n",
      "Epoch 24/100\n",
      "313/313 [==============================] - 4s 12ms/step - loss: 0.4426 - accuracy: 0.7941 - val_loss: 0.4595 - val_accuracy: 0.7870\n",
      "Epoch 25/100\n",
      "313/313 [==============================] - 4s 12ms/step - loss: 0.4375 - accuracy: 0.7980 - val_loss: 0.4593 - val_accuracy: 0.7800\n",
      "Epoch 26/100\n",
      "313/313 [==============================] - 4s 12ms/step - loss: 0.4311 - accuracy: 0.8006 - val_loss: 0.4641 - val_accuracy: 0.7900\n",
      "Epoch 27/100\n",
      "313/313 [==============================] - 4s 12ms/step - loss: 0.4331 - accuracy: 0.7963 - val_loss: 0.4677 - val_accuracy: 0.7760\n",
      "Epoch 28/100\n",
      "313/313 [==============================] - 4s 12ms/step - loss: 0.4308 - accuracy: 0.7960 - val_loss: 0.4709 - val_accuracy: 0.7870\n",
      "Epoch 29/100\n",
      "313/313 [==============================] - 4s 12ms/step - loss: 0.4337 - accuracy: 0.8000 - val_loss: 0.5033 - val_accuracy: 0.7510\n",
      "Epoch 30/100\n",
      "313/313 [==============================] - 4s 12ms/step - loss: 0.4272 - accuracy: 0.8021 - val_loss: 0.4667 - val_accuracy: 0.7880\n",
      "Epoch 31/100\n",
      "313/313 [==============================] - 4s 12ms/step - loss: 0.4240 - accuracy: 0.8029 - val_loss: 0.4712 - val_accuracy: 0.7890\n",
      "Epoch 32/100\n",
      "313/313 [==============================] - 4s 12ms/step - loss: 0.4192 - accuracy: 0.8096 - val_loss: 0.4635 - val_accuracy: 0.7680\n",
      "Epoch 33/100\n",
      "313/313 [==============================] - 4s 12ms/step - loss: 0.4164 - accuracy: 0.8091 - val_loss: 0.4655 - val_accuracy: 0.7740\n",
      "Epoch 34/100\n",
      "313/313 [==============================] - 4s 12ms/step - loss: 0.4187 - accuracy: 0.8052 - val_loss: 0.4769 - val_accuracy: 0.7700\n",
      "Epoch 35/100\n",
      "313/313 [==============================] - 4s 12ms/step - loss: 0.4097 - accuracy: 0.8076 - val_loss: 0.4904 - val_accuracy: 0.7690\n",
      "Epoch 36/100\n",
      "313/313 [==============================] - 4s 12ms/step - loss: 0.4118 - accuracy: 0.8102 - val_loss: 0.4655 - val_accuracy: 0.7900\n",
      "Epoch 37/100\n",
      "313/313 [==============================] - 4s 12ms/step - loss: 0.4081 - accuracy: 0.8129 - val_loss: 0.4560 - val_accuracy: 0.7830\n",
      "Epoch 38/100\n",
      "313/313 [==============================] - 4s 13ms/step - loss: 0.3994 - accuracy: 0.8146 - val_loss: 0.4795 - val_accuracy: 0.7690\n",
      "Epoch 39/100\n",
      "313/313 [==============================] - 4s 12ms/step - loss: 0.4017 - accuracy: 0.8143 - val_loss: 0.4725 - val_accuracy: 0.7830\n",
      "Epoch 40/100\n",
      "313/313 [==============================] - 4s 12ms/step - loss: 0.3930 - accuracy: 0.8148 - val_loss: 0.4628 - val_accuracy: 0.7700\n",
      "Epoch 41/100\n",
      "313/313 [==============================] - 4s 12ms/step - loss: 0.3925 - accuracy: 0.8173 - val_loss: 0.4799 - val_accuracy: 0.7640\n",
      "Epoch 42/100\n",
      "313/313 [==============================] - 4s 13ms/step - loss: 0.3871 - accuracy: 0.8261 - val_loss: 0.4742 - val_accuracy: 0.7720\n",
      "Epoch 43/100\n",
      "313/313 [==============================] - 4s 13ms/step - loss: 0.3900 - accuracy: 0.8197 - val_loss: 0.4691 - val_accuracy: 0.7750\n",
      "Epoch 44/100\n",
      "313/313 [==============================] - 5s 16ms/step - loss: 0.3847 - accuracy: 0.8218 - val_loss: 0.4848 - val_accuracy: 0.7600\n",
      "Epoch 45/100\n",
      "313/313 [==============================] - 4s 14ms/step - loss: 0.3760 - accuracy: 0.8286 - val_loss: 0.4675 - val_accuracy: 0.7780\n",
      "Epoch 46/100\n",
      "313/313 [==============================] - 4s 13ms/step - loss: 0.3738 - accuracy: 0.8317 - val_loss: 0.4738 - val_accuracy: 0.7770\n",
      "Epoch 47/100\n",
      "313/313 [==============================] - 4s 14ms/step - loss: 0.3669 - accuracy: 0.8370 - val_loss: 0.4687 - val_accuracy: 0.7770\n",
      "Epoch 48/100\n",
      "313/313 [==============================] - 4s 14ms/step - loss: 0.3671 - accuracy: 0.8359 - val_loss: 0.4535 - val_accuracy: 0.7720\n",
      "Epoch 49/100\n",
      "313/313 [==============================] - 4s 13ms/step - loss: 0.3643 - accuracy: 0.8342 - val_loss: 0.4645 - val_accuracy: 0.7820\n",
      "Epoch 50/100\n",
      "313/313 [==============================] - 4s 14ms/step - loss: 0.3641 - accuracy: 0.8387 - val_loss: 0.4415 - val_accuracy: 0.7880\n",
      "Epoch 51/100\n",
      "313/313 [==============================] - 4s 14ms/step - loss: 0.3534 - accuracy: 0.8454 - val_loss: 0.4554 - val_accuracy: 0.7820\n",
      "Epoch 52/100\n",
      "313/313 [==============================] - 4s 14ms/step - loss: 0.3555 - accuracy: 0.8387 - val_loss: 0.4410 - val_accuracy: 0.7870\n",
      "Epoch 53/100\n",
      "313/313 [==============================] - 4s 13ms/step - loss: 0.3515 - accuracy: 0.8491 - val_loss: 0.4772 - val_accuracy: 0.7820\n",
      "Epoch 54/100\n",
      "313/313 [==============================] - 4s 13ms/step - loss: 0.3468 - accuracy: 0.8493 - val_loss: 0.4462 - val_accuracy: 0.7990\n",
      "Epoch 55/100\n",
      "313/313 [==============================] - 5s 15ms/step - loss: 0.3515 - accuracy: 0.8466 - val_loss: 0.4629 - val_accuracy: 0.7800\n",
      "Epoch 56/100\n",
      "313/313 [==============================] - 4s 13ms/step - loss: 0.3466 - accuracy: 0.8471 - val_loss: 0.4469 - val_accuracy: 0.7880\n",
      "Epoch 57/100\n",
      "313/313 [==============================] - 4s 13ms/step - loss: 0.3430 - accuracy: 0.8514 - val_loss: 0.4381 - val_accuracy: 0.7990\n",
      "Epoch 58/100\n",
      "313/313 [==============================] - 4s 13ms/step - loss: 0.3302 - accuracy: 0.8592 - val_loss: 0.4491 - val_accuracy: 0.7950\n",
      "Epoch 59/100\n",
      "313/313 [==============================] - 4s 14ms/step - loss: 0.3274 - accuracy: 0.8581 - val_loss: 0.4607 - val_accuracy: 0.8010\n",
      "Epoch 60/100\n",
      "313/313 [==============================] - 4s 13ms/step - loss: 0.3273 - accuracy: 0.8579 - val_loss: 0.4588 - val_accuracy: 0.8010\n",
      "Epoch 61/100\n",
      "313/313 [==============================] - 4s 13ms/step - loss: 0.3319 - accuracy: 0.8563 - val_loss: 0.4393 - val_accuracy: 0.8010\n",
      "Epoch 62/100\n",
      "313/313 [==============================] - 4s 13ms/step - loss: 0.3248 - accuracy: 0.8600 - val_loss: 0.4476 - val_accuracy: 0.7970\n",
      "Epoch 63/100\n",
      "313/313 [==============================] - 4s 14ms/step - loss: 0.3299 - accuracy: 0.8576 - val_loss: 0.4565 - val_accuracy: 0.7910\n",
      "Epoch 64/100\n",
      "313/313 [==============================] - 4s 14ms/step - loss: 0.3192 - accuracy: 0.8621 - val_loss: 0.4532 - val_accuracy: 0.8050\n",
      "Epoch 65/100\n",
      "313/313 [==============================] - 4s 13ms/step - loss: 0.3228 - accuracy: 0.8620 - val_loss: 0.4628 - val_accuracy: 0.7940\n",
      "Epoch 66/100\n",
      "313/313 [==============================] - 4s 13ms/step - loss: 0.3251 - accuracy: 0.8598 - val_loss: 0.4332 - val_accuracy: 0.8050\n",
      "Epoch 67/100\n",
      "313/313 [==============================] - 4s 13ms/step - loss: 0.3157 - accuracy: 0.8666 - val_loss: 0.4647 - val_accuracy: 0.7990\n",
      "Epoch 68/100\n",
      "313/313 [==============================] - 4s 13ms/step - loss: 0.3146 - accuracy: 0.8664 - val_loss: 0.5032 - val_accuracy: 0.7890\n",
      "Epoch 69/100\n",
      "313/313 [==============================] - 5s 14ms/step - loss: 0.3081 - accuracy: 0.8691 - val_loss: 0.4762 - val_accuracy: 0.8020\n",
      "Epoch 70/100\n",
      "313/313 [==============================] - 4s 13ms/step - loss: 0.3096 - accuracy: 0.8680 - val_loss: 0.4704 - val_accuracy: 0.7970\n",
      "Epoch 71/100\n",
      "313/313 [==============================] - 4s 13ms/step - loss: 0.2997 - accuracy: 0.8730 - val_loss: 0.4802 - val_accuracy: 0.8090\n",
      "Epoch 72/100\n",
      "313/313 [==============================] - 4s 13ms/step - loss: 0.3003 - accuracy: 0.8734 - val_loss: 0.4574 - val_accuracy: 0.8010\n",
      "Epoch 73/100\n",
      "313/313 [==============================] - 4s 13ms/step - loss: 0.2989 - accuracy: 0.8735 - val_loss: 0.5001 - val_accuracy: 0.7770\n",
      "Epoch 74/100\n",
      "313/313 [==============================] - 4s 13ms/step - loss: 0.3080 - accuracy: 0.8708 - val_loss: 0.4596 - val_accuracy: 0.7990\n",
      "Epoch 75/100\n",
      "313/313 [==============================] - 4s 13ms/step - loss: 0.3067 - accuracy: 0.8671 - val_loss: 0.4750 - val_accuracy: 0.7900\n",
      "Epoch 76/100\n",
      "313/313 [==============================] - 4s 13ms/step - loss: 0.2958 - accuracy: 0.8729 - val_loss: 0.4879 - val_accuracy: 0.8010\n",
      "Epoch 77/100\n",
      "313/313 [==============================] - 4s 13ms/step - loss: 0.2916 - accuracy: 0.8792 - val_loss: 0.5032 - val_accuracy: 0.7850\n",
      "Epoch 78/100\n",
      "313/313 [==============================] - 4s 14ms/step - loss: 0.2914 - accuracy: 0.8803 - val_loss: 0.4929 - val_accuracy: 0.7960\n",
      "Epoch 79/100\n",
      "313/313 [==============================] - 5s 15ms/step - loss: 0.2889 - accuracy: 0.8784 - val_loss: 0.4776 - val_accuracy: 0.8000\n",
      "Epoch 80/100\n",
      "313/313 [==============================] - 4s 14ms/step - loss: 0.2929 - accuracy: 0.8759 - val_loss: 0.4801 - val_accuracy: 0.7940\n",
      "Epoch 81/100\n",
      "313/313 [==============================] - 4s 14ms/step - loss: 0.2860 - accuracy: 0.8770 - val_loss: 0.4999 - val_accuracy: 0.7970\n",
      "Epoch 82/100\n",
      "313/313 [==============================] - 5s 14ms/step - loss: 0.2893 - accuracy: 0.8821 - val_loss: 0.5042 - val_accuracy: 0.7890\n",
      "Epoch 83/100\n",
      "313/313 [==============================] - 5s 14ms/step - loss: 0.2869 - accuracy: 0.8800 - val_loss: 0.4831 - val_accuracy: 0.7920\n",
      "Epoch 84/100\n",
      "313/313 [==============================] - 4s 13ms/step - loss: 0.2822 - accuracy: 0.8824 - val_loss: 0.5028 - val_accuracy: 0.7900\n",
      "Epoch 85/100\n",
      "313/313 [==============================] - 4s 14ms/step - loss: 0.2799 - accuracy: 0.8849 - val_loss: 0.5050 - val_accuracy: 0.7890\n",
      "Epoch 86/100\n",
      "313/313 [==============================] - 4s 13ms/step - loss: 0.2796 - accuracy: 0.8805 - val_loss: 0.4964 - val_accuracy: 0.7900\n",
      "Epoch 87/100\n",
      "313/313 [==============================] - 4s 13ms/step - loss: 0.2790 - accuracy: 0.8843 - val_loss: 0.5103 - val_accuracy: 0.7930\n",
      "Epoch 88/100\n",
      "313/313 [==============================] - 4s 13ms/step - loss: 0.2818 - accuracy: 0.8863 - val_loss: 0.4935 - val_accuracy: 0.7900\n",
      "Epoch 89/100\n",
      "313/313 [==============================] - 4s 14ms/step - loss: 0.2793 - accuracy: 0.8830 - val_loss: 0.5235 - val_accuracy: 0.7910\n",
      "Epoch 90/100\n",
      "313/313 [==============================] - 4s 13ms/step - loss: 0.2762 - accuracy: 0.8853 - val_loss: 0.4944 - val_accuracy: 0.7980\n",
      "Epoch 91/100\n",
      "313/313 [==============================] - 4s 13ms/step - loss: 0.2755 - accuracy: 0.8849 - val_loss: 0.5283 - val_accuracy: 0.7980\n",
      "Epoch 92/100\n",
      "313/313 [==============================] - 4s 14ms/step - loss: 0.2725 - accuracy: 0.8841 - val_loss: 0.5075 - val_accuracy: 0.7990\n",
      "Epoch 93/100\n",
      "313/313 [==============================] - 4s 13ms/step - loss: 0.2712 - accuracy: 0.8866 - val_loss: 0.5265 - val_accuracy: 0.7980\n",
      "Epoch 94/100\n",
      "313/313 [==============================] - 4s 13ms/step - loss: 0.2679 - accuracy: 0.8835 - val_loss: 0.5293 - val_accuracy: 0.7890\n",
      "Epoch 95/100\n",
      "313/313 [==============================] - 4s 12ms/step - loss: 0.2700 - accuracy: 0.8890 - val_loss: 0.5074 - val_accuracy: 0.7940\n",
      "Epoch 96/100\n",
      "313/313 [==============================] - 4s 13ms/step - loss: 0.2655 - accuracy: 0.8886 - val_loss: 0.5405 - val_accuracy: 0.7870\n",
      "Epoch 97/100\n",
      "313/313 [==============================] - 4s 13ms/step - loss: 0.2671 - accuracy: 0.8891 - val_loss: 0.5339 - val_accuracy: 0.7890\n",
      "Epoch 98/100\n",
      "313/313 [==============================] - 4s 14ms/step - loss: 0.2623 - accuracy: 0.8945 - val_loss: 0.5263 - val_accuracy: 0.7850\n",
      "Epoch 99/100\n",
      "313/313 [==============================] - 4s 14ms/step - loss: 0.2632 - accuracy: 0.8919 - val_loss: 0.5334 - val_accuracy: 0.7840\n",
      "Epoch 100/100\n",
      "313/313 [==============================] - 4s 13ms/step - loss: 0.2543 - accuracy: 0.8955 - val_loss: 0.5555 - val_accuracy: 0.7840\n"
     ]
    }
   ],
   "source": [
    "history = model.fit([inputs_train, queries_train], answers_train, batch_size=32, epochs=100, validation_data=([inputs_test, queries_test], answers_test))"
   ]
  },
  {
   "cell_type": "code",
   "execution_count": 63,
   "metadata": {},
   "outputs": [
    {
     "name": "stdout",
     "output_type": "stream",
     "text": [
      "dict_keys(['loss', 'accuracy', 'val_loss', 'val_accuracy'])\n"
     ]
    },
    {
     "data": {
      "image/png": "[encoded data removed]",
      "text/plain": [
       "<Figure size 432x288 with 1 Axes>"
      ]
     },
     "metadata": {
      "needs_background": "light"
     },
     "output_type": "display_data"
    }
   ],
   "source": [
    "import matplotlib.pyplot as plt\n",
    "%matplotlib inline\n",
    "print(history.history.keys())\n",
    "\n",
    "plt.plot(history.history['accuracy'])\n",
    "plt.plot(history.history['val_accuracy'])\n",
    "plt.title('model accuracy')\n",
    "plt.ylabel('accuracy')\n",
    "plt.xlabel('epoch')\n",
    "plt.legend(['train', 'test'], loc='upper left')\n",
    "plt.show()"
   ]
  },
  {
   "cell_type": "code",
   "execution_count": 64,
   "metadata": {},
   "outputs": [],
   "source": [
    "# model.save('mybrandnewmodel.h5')"
   ]
  },
  {
   "cell_type": "code",
   "execution_count": 65,
   "metadata": {},
   "outputs": [],
   "source": [
    "pred_results = model.predict(([inputs_test, queries_test]))"
   ]
  },
  {
   "cell_type": "code",
   "execution_count": 66,
   "metadata": {},
   "outputs": [
    {
     "data": {
      "text/plain": [
       "'Mary got the milk there . John moved to the bedroom .'"
      ]
     },
     "execution_count": 66,
     "metadata": {},
     "output_type": "execute_result"
    }
   ],
   "source": [
    "' '.join(test_data[0][0])"
   ]
  },
  {
   "cell_type": "code",
   "execution_count": 67,
   "metadata": {},
   "outputs": [
    {
     "data": {
      "text/plain": [
       "array([1.7975306e-14, 1.5814876e-14, 1.8337601e-14, 1.5245612e-14,\n",
       "       1.9468590e-14, 1.8935764e-14, 1.9129214e-14, 1.6862549e-14,\n",
       "       1.6440823e-14, 1.9621472e-14, 1.6000442e-14, 1.6475197e-14,\n",
       "       1.4203293e-14, 1.9266527e-14, 1.5926879e-14, 1.4522348e-14,\n",
       "       1.5921777e-14, 9.9954897e-01, 1.7148689e-14, 1.7853120e-14,\n",
       "       1.9148269e-14, 1.4851176e-14, 1.6493747e-14, 1.4879814e-14,\n",
       "       1.9225119e-14, 1.5796546e-14, 4.5104764e-04, 1.5492019e-14,\n",
       "       1.6385974e-14, 1.6644367e-14, 1.8168679e-14, 1.5159898e-14,\n",
       "       1.4500704e-14, 1.8530770e-14, 1.7391950e-14, 1.8872412e-14,\n",
       "       1.6836387e-14, 1.7261444e-14], dtype=float32)"
      ]
     },
     "execution_count": 67,
     "metadata": {},
     "output_type": "execute_result"
    }
   ],
   "source": [
    "pred_results[0]"
   ]
  },
  {
   "cell_type": "code",
   "execution_count": 68,
   "metadata": {},
   "outputs": [],
   "source": [
    "val_max = np.argmax(pred_results[0])"
   ]
  },
  {
   "cell_type": "code",
   "execution_count": 69,
   "metadata": {},
   "outputs": [],
   "source": [
    "for key, val in tokenizer.word_index.items():\n",
    "    if val == val_max:\n",
    "        k = key"
   ]
  },
  {
   "cell_type": "code",
   "execution_count": 70,
   "metadata": {},
   "outputs": [
    {
     "data": {
      "text/plain": [
       "'no'"
      ]
     },
     "execution_count": 70,
     "metadata": {},
     "output_type": "execute_result"
    }
   ],
   "source": [
    "k"
   ]
  },
  {
   "cell_type": "code",
   "execution_count": 71,
   "metadata": {},
   "outputs": [
    {
     "data": {
      "text/plain": [
       "0.999549"
      ]
     },
     "execution_count": 71,
     "metadata": {},
     "output_type": "execute_result"
    }
   ],
   "source": [
    "pred_results[0][val_max]"
   ]
  },
  {
   "cell_type": "code",
   "execution_count": 115,
   "metadata": {},
   "outputs": [],
   "source": [
    "my_story = \"John left the kitchen . Sandra dropped the football in the garden .\""
   ]
  },
  {
   "cell_type": "code",
   "execution_count": 116,
   "metadata": {},
   "outputs": [
    {
     "data": {
      "text/plain": [
       "['John',\n",
       " 'left',\n",
       " 'the',\n",
       " 'kitchen',\n",
       " '.',\n",
       " 'Sandra',\n",
       " 'dropped',\n",
       " 'the',\n",
       " 'football',\n",
       " 'in',\n",
       " 'the',\n",
       " 'garden',\n",
       " '.']"
      ]
     },
     "execution_count": 116,
     "metadata": {},
     "output_type": "execute_result"
    }
   ],
   "source": [
    "my_story.split()"
   ]
  },
  {
   "cell_type": "code",
   "execution_count": 117,
   "metadata": {},
   "outputs": [],
   "source": [
    "my_question = \"Is the football in the kitchen ?\""
   ]
  },
  {
   "cell_type": "code",
   "execution_count": 118,
   "metadata": {},
   "outputs": [
    {
     "data": {
      "text/plain": [
       "['Is', 'the', 'football', 'in', 'the', 'kitchen', '?']"
      ]
     },
     "execution_count": 118,
     "metadata": {},
     "output_type": "execute_result"
    }
   ],
   "source": [
    "my_question.split()"
   ]
  },
  {
   "cell_type": "code",
   "execution_count": 122,
   "metadata": {},
   "outputs": [],
   "source": [
    "mydata = [(my_story.split(), my_question.split(), 'yes')]"
   ]
  },
  {
   "cell_type": "code",
   "execution_count": 123,
   "metadata": {},
   "outputs": [
    {
     "data": {
      "text/plain": [
       "[(['John',\n",
       "   'left',\n",
       "   'the',\n",
       "   'kitchen',\n",
       "   '.',\n",
       "   'Sandra',\n",
       "   'dropped',\n",
       "   'the',\n",
       "   'football',\n",
       "   'in',\n",
       "   'the',\n",
       "   'garden',\n",
       "   '.'],\n",
       "  ['Is', 'the', 'football', 'in', 'the', 'kitchen', '?'],\n",
       "  'yes')]"
      ]
     },
     "execution_count": 123,
     "metadata": {},
     "output_type": "execute_result"
    }
   ],
   "source": [
    "mydata"
   ]
  },
  {
   "cell_type": "code",
   "execution_count": 124,
   "metadata": {},
   "outputs": [],
   "source": [
    "my_story, my_ques, my_ans = vectorize_stories(mydata)"
   ]
  },
  {
   "cell_type": "code",
   "execution_count": 125,
   "metadata": {},
   "outputs": [
    {
     "data": {
      "text/plain": [
       "array([[0., 0., 0., 0., 0., 0., 0., 0., 0., 0., 0., 0., 0., 0., 0., 0.,\n",
       "        0., 0., 0., 0., 0., 0., 0., 0., 0., 0., 1., 0., 0., 0., 0., 0.,\n",
       "        0., 0., 0., 0., 0., 0.]])"
      ]
     },
     "execution_count": 125,
     "metadata": {},
     "output_type": "execute_result"
    }
   ],
   "source": [
    "my_ans"
   ]
  },
  {
   "cell_type": "code",
   "execution_count": 126,
   "metadata": {},
   "outputs": [],
   "source": [
    "pred_results = model.predict(([my_story, my_ques]))"
   ]
  },
  {
   "cell_type": "code",
   "execution_count": 127,
   "metadata": {},
   "outputs": [
    {
     "data": {
      "text/plain": [
       "array([[1.28464565e-11, 1.28640119e-11, 1.21691155e-11, 1.14577150e-11,\n",
       "        1.24446122e-11, 1.18399483e-11, 1.20281892e-11, 1.21928830e-11,\n",
       "        1.20680826e-11, 1.26362228e-11, 1.13900816e-11, 1.14613223e-11,\n",
       "        1.21583967e-11, 1.27814200e-11, 1.27965685e-11, 1.16216221e-11,\n",
       "        1.28248636e-11, 9.20556605e-01, 1.11008147e-11, 1.28013286e-11,\n",
       "        1.35868461e-11, 1.15770423e-11, 1.15015723e-11, 1.17029901e-11,\n",
       "        1.26807688e-11, 1.33105393e-11, 7.94434100e-02, 1.20311270e-11,\n",
       "        1.26953864e-11, 1.21746172e-11, 1.25841507e-11, 1.14246763e-11,\n",
       "        1.17407525e-11, 1.17574709e-11, 1.17863228e-11, 1.31200849e-11,\n",
       "        1.26846146e-11, 1.26220354e-11]], dtype=float32)"
      ]
     },
     "execution_count": 127,
     "metadata": {},
     "output_type": "execute_result"
    }
   ],
   "source": [
    "pred_results"
   ]
  },
  {
   "cell_type": "code",
   "execution_count": 128,
   "metadata": {},
   "outputs": [],
   "source": [
    "val_max = np.argmax(pred_results[0])"
   ]
  },
  {
   "cell_type": "code",
   "execution_count": 129,
   "metadata": {},
   "outputs": [
    {
     "data": {
      "text/plain": [
       "0.9205566"
      ]
     },
     "execution_count": 129,
     "metadata": {},
     "output_type": "execute_result"
    }
   ],
   "source": [
    "pred_results[0][val_max]"
   ]
  },
  {
   "cell_type": "code",
   "execution_count": 130,
   "metadata": {},
   "outputs": [],
   "source": [
    "for key, val in tokenizer.word_index.items():\n",
    "    if val == val_max:\n",
    "        k = key"
   ]
  },
  {
   "cell_type": "code",
   "execution_count": 131,
   "metadata": {},
   "outputs": [
    {
     "data": {
      "text/plain": [
       "'kitchen'"
      ]
     },
     "execution_count": 131,
     "metadata": {},
     "output_type": "execute_result"
    }
   ],
   "source": [
    "key"
   ]
  },
  {
   "cell_type": "code",
   "execution_count": null,
   "metadata": {},
   "outputs": [],
   "source": []
  }
 ],
 "metadata": {
  "kernelspec": {
   "display_name": "Python 3",
   "language": "python",
   "name": "python3"
  },
  "language_info": {
   "codemirror_mode": {
    "name": "ipython",
    "version": 3
   },
   "file_extension": ".py",
   "mimetype": "text/x-python",
   "name": "python",
   "nbconvert_exporter": "python",
   "pygments_lexer": "ipython3",
   "version": "3.8.1"
  }
 },
 "nbformat": 4,
 "nbformat_minor": 4
}
