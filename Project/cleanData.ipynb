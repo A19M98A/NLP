{
 "cells": [
  {
   "cell_type": "code",
   "execution_count": 16,
   "metadata": {},
   "outputs": [],
   "source": [
    "f = open(\"Q&A.txt\", \"r\")\n",
    "t = f.read().replace('Dr. ', '').split('\\n')"
   ]
  },
  {
   "cell_type": "code",
   "execution_count": 18,
   "metadata": {},
   "outputs": [
    {
     "data": {
      "text/plain": [
       "242"
      ]
     },
     "execution_count": 18,
     "metadata": {},
     "output_type": "execute_result"
    }
   ],
   "source": [
    "len(t)"
   ]
  },
  {
   "cell_type": "code",
   "execution_count": 33,
   "metadata": {},
   "outputs": [
    {
     "data": {
      "text/plain": [
       "['Noferesti teaches artificial intelligence.What course does Noferesti teach?artificial intelligence.',\n",
       " 'Samira Noferesti teaches artificial intelligence.What course does Samira Noferesti teach?artificial intelligence.',\n",
       " 'Noferesti teaches database.What course does Noferesti teach?database.',\n",
       " 'Samira Noferesti teaches the operating system.What course does Samira Noferesti teach?operating system.',\n",
       " 'Samira Noferesti teaches databases.What course does Samira Noferesti teach?database.',\n",
       " 'Noferesti teaches the operating system.What course does Noferesti teach?operating system.',\n",
       " 'Noferesti teaches artificial intelligence in the fourth semester.In what semester does Nofaresti teach artificial intelligence?fourth semester.',\n",
       " 'Samira Noferesti teaches artificial intelligence in the fourth semester.In what semester does Samira Noferesti teach artificial intelligence?fourth semester.',\n",
       " 'Noferesti teaches database courses in the fourth semester.In what semester does Nofaresti teach the database?fourth semester.',\n",
       " 'Samira Noferesti teaches database courses in the fourth semester.In what semester does Samira Noferesti teach the database?fourth semester.',\n",
       " 'Noferesti teaches the operating system in the fourth semester.In what semester does Nofaresti teach operating system?fourth semester.',\n",
       " 'Samira Noferesti teaches the operating system in the fourth semester.In what semester does Samira Noferesti teach operating system?fourth semester.',\n",
       " 'Noferesti teaches artificial intelligence. Does Noferesti teach artificial intelligence?yes.',\n",
       " 'Samira Noferesti teaches artificial intelligence. Does Samira Noferesti teach artificial intelligence?yes.',\n",
       " 'Noferesti teaches database. Does Noferesti teach database?yes.',\n",
       " 'Samira Noferesti teaches the operating system. Does Samira Noferesti teach operating system?yes.',\n",
       " 'Samira Noferesti teaches databases. Does Samira Noferesti teach database?yes.',\n",
       " 'Noferesti teaches the operating system. Does Noferesti teach operating system?yes.',\n",
       " '',\n",
       " '',\n",
       " '',\n",
       " 'Rajaee teaches algorithm design.What course does Rajaee teach?algorithm design.',\n",
       " 'Mehri Rajaee teaches algorithm design.What course does Mehri Rajaee teach?algorithm design.',\n",
       " 'Rajaee teaches discrete construction.What course does Rajaee teach?discrete construction.',\n",
       " 'Mehri Rajaee teaches discrete construction.What course does Mehri Rajaee teach?discrete construction.',\n",
       " 'Rajaee teaches algorithm design. Does Rajaee teach algorithm design?yes.',\n",
       " 'Mehri Rajaee teaches algorithm design. Does Mehri Rajaee teach algorithm design?yes.',\n",
       " 'Rajaee teaches discrete construction. Does Rajaee teach discrete construction?yes.',\n",
       " 'Mehri Rajaee teaches discrete construction. Does Mehri Rajaee teach discrete construction?yes.',\n",
       " 'Rajaee teaches algorithm design in the fourth semester.In what semester does Rajaee teach algorithm design?fourth semester.',\n",
       " 'Mehri Rajaee teaches algorithm design in the fourth semester.In what semester does Mehri Rajaee teach algorithm design?fourth semester.',\n",
       " 'Rajaee teaches discrete building in the fourth semester.In what semester does Rajaee teach discrete building?fourth semester.',\n",
       " 'Mehri Rajaee teaches discrete building in the fourth semester.In what semester does Mehri Rajaee teach discrete building?fourth semester.',\n",
       " '',\n",
       " '',\n",
       " 'Sargolzaei teaches computer architecture.What course does Sargolzaei teach?computer architecture.',\n",
       " 'Mohammad Hossein Sargolzaei teaches computer architecture.What course does Mohammad Hossein Sargolzaei teach?computer architecture.',\n",
       " 'Sargolzaei teaches computer architecture. Does Sargolzaei teach computer architecture?yes.',\n",
       " 'Mohammad Hossein Sargolzaei teaches computer architecture. Does Mohammad Hossein Sargolzaei teach computer architecture?yes.',\n",
       " 'Sargolzaei teaches computer architecture in the fifth semester.In what semester does Sargolzaei teach computer architecture?fifth semester.',\n",
       " 'Mohammad Hossein Sargolzaei teaches computer architecture in the fifth semester.In what semester does Mohammad Hossein Sargolzaei teach computer architecture?fifth semester.']"
      ]
     },
     "execution_count": 33,
     "metadata": {},
     "output_type": "execute_result"
    }
   ],
   "source": [
    "t[0:41]"
   ]
  },
  {
   "cell_type": "code",
   "execution_count": 35,
   "metadata": {},
   "outputs": [
    {
     "data": {
      "text/plain": [
       "['Dr. Noferesti teaches the operating system in the fourth semester.In what semester does Dr. Nofaresti teach operating system?fourth semester.',\n",
       " 'Dr. Samira Noferesti teaches the operating system in the fourth semester.In what semester does Dr. Samira Noferesti teach operating system?fourth semester.',\n",
       " 'Dr. Noferesti teaches artificial intelligence. Does Dr. Noferesti teach artificial intelligence?yes.',\n",
       " 'Dr. Samira Noferesti teaches artificial intelligence. Does Dr. Samira Noferesti teach artificial intelligence?yes.',\n",
       " 'Dr. Noferesti teaches database. Does Dr. Noferesti teach database?yes.',\n",
       " 'Dr. Samira Noferesti teaches the operating system. Does Dr. Samira Noferesti teach operating system?yes.',\n",
       " 'Dr. Samira Noferesti teaches databases. Does Dr. Samira Noferesti teach database?yes.',\n",
       " 'Dr. Noferesti teaches the operating system. Does Dr. Noferesti teach operating system?yes.',\n",
       " '',\n",
       " '']"
      ]
     },
     "execution_count": 35,
     "metadata": {},
     "output_type": "execute_result"
    }
   ],
   "source": [
    "f = open(\"Q&A.txt\", \"r\")\n",
    "f.read().split('\\n')[10:20]"
   ]
  },
  {
   "cell_type": "code",
   "execution_count": null,
   "metadata": {},
   "outputs": [],
   "source": []
  }
 ],
 "metadata": {
  "kernelspec": {
   "display_name": "Python 3",
   "language": "python",
   "name": "python3"
  },
  "language_info": {
   "codemirror_mode": {
    "name": "ipython",
    "version": 3
   },
   "file_extension": ".py",
   "mimetype": "text/x-python",
   "name": "python",
   "nbconvert_exporter": "python",
   "pygments_lexer": "ipython3",
   "version": "3.8.1"
  }
 },
 "nbformat": 4,
 "nbformat_minor": 4
}
