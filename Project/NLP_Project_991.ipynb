{
 "cells": [
  {
   "cell_type": "code",
   "execution_count": 1,
   "metadata": {},
   "outputs": [],
   "source": [
    "# import the libraris\n",
    "\n",
    "import spacy\n",
    "import numpy as np\n",
    "import pandas as pd\n",
    "\n",
    "from keras.models import Sequential, Model\n",
    "from keras.layers import Embedding\n",
    "from keras.layers import Input, Activation, Dense, Permute, Dropout, add, dot, concatenate, LSTM\n",
    "from keras.utils import to_categorical\n",
    "from keras.preprocessing.text import Tokenizer\n",
    "\n",
    "import matplotlib.pyplot as plt\n",
    "\n",
    "from sklearn.feature_extraction.text import TfidfVectorizer\n",
    "\n",
    "from sklearn.decomposition import NMF"
   ]
  },
  {
   "cell_type": "code",
   "execution_count": 2,
   "metadata": {},
   "outputs": [],
   "source": [
    "# load kardan spacy\n",
    "nlp = spacy.load('en', disable=['parser', 'tagger', 'ner'])"
   ]
  },
  {
   "cell_type": "code",
   "execution_count": 3,
   "metadata": {},
   "outputs": [],
   "source": [
    "# estekhraje token haye ye matn va hazf kardan khat haye khali\n",
    "def separate_punc(doc_text):\n",
    "    return [token.text.lower() for token in nlp(doc_text) if token.text not in '\\n\\n \\n\\n\\n!\"-#$%&()--.*+,-/:;<=>?@[\\\\]^_`{|}~\\t\\n ']"
   ]
  },
  {
   "cell_type": "code",
   "execution_count": 4,
   "metadata": {},
   "outputs": [],
   "source": [
    "# read data from QandA.csv\n",
    "QandA = pd.read_csv('Q&A.csv')"
   ]
  },
  {
   "cell_type": "code",
   "execution_count": 5,
   "metadata": {},
   "outputs": [
    {
     "data": {
      "text/html": [
       "<div>\n",
       "<style scoped>\n",
       "    .dataframe tbody tr th:only-of-type {\n",
       "        vertical-align: middle;\n",
       "    }\n",
       "\n",
       "    .dataframe tbody tr th {\n",
       "        vertical-align: top;\n",
       "    }\n",
       "\n",
       "    .dataframe thead th {\n",
       "        text-align: right;\n",
       "    }\n",
       "</style>\n",
       "<table border=\"1\" class=\"dataframe\">\n",
       "  <thead>\n",
       "    <tr style=\"text-align: right;\">\n",
       "      <th></th>\n",
       "      <th>Story</th>\n",
       "      <th>Question</th>\n",
       "      <th>Answer</th>\n",
       "    </tr>\n",
       "  </thead>\n",
       "  <tbody>\n",
       "    <tr>\n",
       "      <th>0</th>\n",
       "      <td>Dr. Noferesti teaches artificial intelligence</td>\n",
       "      <td>What course does Dr. Noferesti teach</td>\n",
       "      <td>artificial intelligence.</td>\n",
       "    </tr>\n",
       "    <tr>\n",
       "      <th>1</th>\n",
       "      <td>Dr. Samira Noferesti teaches artificial intell...</td>\n",
       "      <td>What course does Dr. Samira Noferesti teach</td>\n",
       "      <td>artificial intelligence.</td>\n",
       "    </tr>\n",
       "    <tr>\n",
       "      <th>2</th>\n",
       "      <td>Dr. Noferesti teaches database</td>\n",
       "      <td>What course does Dr. Noferesti teach</td>\n",
       "      <td>database.</td>\n",
       "    </tr>\n",
       "    <tr>\n",
       "      <th>3</th>\n",
       "      <td>Dr. Samira Noferesti teaches the operating system</td>\n",
       "      <td>What course does Dr. Samira Noferesti teach</td>\n",
       "      <td>operating system.</td>\n",
       "    </tr>\n",
       "    <tr>\n",
       "      <th>4</th>\n",
       "      <td>Dr. Samira Noferesti teaches databases</td>\n",
       "      <td>What course does Dr. Samira Noferesti teach</td>\n",
       "      <td>database.</td>\n",
       "    </tr>\n",
       "  </tbody>\n",
       "</table>\n",
       "</div>"
      ],
      "text/plain": [
       "                                               Story  \\\n",
       "0      Dr. Noferesti teaches artificial intelligence   \n",
       "1  Dr. Samira Noferesti teaches artificial intell...   \n",
       "2                     Dr. Noferesti teaches database   \n",
       "3  Dr. Samira Noferesti teaches the operating system   \n",
       "4             Dr. Samira Noferesti teaches databases   \n",
       "\n",
       "                                      Question                    Answer  \n",
       "0         What course does Dr. Noferesti teach  artificial intelligence.  \n",
       "1  What course does Dr. Samira Noferesti teach  artificial intelligence.  \n",
       "2         What course does Dr. Noferesti teach                 database.  \n",
       "3  What course does Dr. Samira Noferesti teach         operating system.  \n",
       "4  What course does Dr. Samira Noferesti teach                 database.  "
      ]
     },
     "execution_count": 5,
     "metadata": {},
     "output_type": "execute_result"
    }
   ],
   "source": [
    "# show 5 top of Q&A\n",
    "QandA = QandA[0:88]\n",
    "QandA.head()"
   ]
  },
  {
   "cell_type": "code",
   "execution_count": 6,
   "metadata": {},
   "outputs": [],
   "source": [
    "# greftan tole bozorg tarin story va bozorg tarin question\n",
    "# greftan tamame jomle ha dar kenare ham\n",
    "strin = ''\n",
    "max_question = 0\n",
    "max_answer = 0\n",
    "for i in range(len(QandA)):\n",
    "    try:\n",
    "        strin += QandA['Story'][i] + ' ' + QandA['Question'][i] + ' ' + QandA['Answer'][i] + ' '\n",
    "    except:\n",
    "        print(str(QandA['Story'][i]) + '\\t' + str(QandA['Question'][i]) + '\\t' + str(QandA['Answer'][i]))\n",
    "    if max_question < len(QandA['Question'][i]):\n",
    "        max_question = len(QandA['Question'][i])\n",
    "    if max_answer < len(QandA['Answer'][i]):\n",
    "        max_answer = len(QandA['Answer'][i])"
   ]
  },
  {
   "cell_type": "code",
   "execution_count": 7,
   "metadata": {},
   "outputs": [
    {
     "data": {
      "text/plain": [
       "'Dr. Noferesti teaches artificial intelligence What course does Dr. Noferesti teach artificial intelligence. Dr. Samira Noferesti teaches artificial intelligence What course does Dr. Samira Noferesti teach artificial intelligence. Dr. Noferesti teaches database What course does Dr. Noferesti teach database. Dr. Samira Noferesti teaches the operating system What course does Dr. Samira Noferesti teach operating system. Dr. Samira Noferesti teaches databases What course does Dr. Samira Noferesti tea'"
      ]
     },
     "execution_count": 7,
     "metadata": {},
     "output_type": "execute_result"
    }
   ],
   "source": [
    "strin[:500]"
   ]
  },
  {
   "cell_type": "code",
   "execution_count": 8,
   "metadata": {},
   "outputs": [],
   "source": [
    "# estekhraje token haye kole matn\n",
    "tokens = separate_punc(strin)"
   ]
  },
  {
   "cell_type": "code",
   "execution_count": 10,
   "metadata": {},
   "outputs": [
    {
     "name": "stdout",
     "output_type": "stream",
     "text": [
      "1434\n",
      "81\n",
      "27\n"
     ]
    }
   ],
   "source": [
    "print(len(tokens))\n",
    "print(max_question)\n",
    "print(max_answer)"
   ]
  },
  {
   "cell_type": "code",
   "execution_count": 11,
   "metadata": {},
   "outputs": [],
   "source": [
    "tokenizer = Tokenizer()\n",
    "tokenizer.fit_on_texts(tokens)"
   ]
  },
  {
   "cell_type": "code",
   "execution_count": 12,
   "metadata": {},
   "outputs": [
    {
     "data": {
      "text/plain": [
       "defaultdict(int,\n",
       "            {'dr': 176,\n",
       "             'noferesti': 33,\n",
       "             'teaches': 88,\n",
       "             'artificial': 14,\n",
       "             'intelligence': 22,\n",
       "             'what': 46,\n",
       "             'course': 22,\n",
       "             'does': 88,\n",
       "             'teach': 88,\n",
       "             'samira': 18,\n",
       "             'database': 12,\n",
       "             'the': 32,\n",
       "             'operating': 12,\n",
       "             'system': 12,\n",
       "             'databases': 2,\n",
       "             'rajaee': 24,\n",
       "             'algorithm': 14,\n",
       "             'design': 16,\n",
       "             'mehri': 12,\n",
       "             'discrete': 26,\n",
       "             'construction': 18,\n",
       "             'sargolzaei': 12,\n",
       "             'computer': 26,\n",
       "             'architecture': 14,\n",
       "             'mohammad': 16,\n",
       "             'hossein': 6,\n",
       "             'rezaei': 20,\n",
       "             'graph': 14,\n",
       "             'theory': 12,\n",
       "             'masoumeh': 10,\n",
       "             'computational': 8,\n",
       "             'baluchzehi': 22,\n",
       "             'networking': 12,\n",
       "             'nik': 10,\n",
       "             'internet': 12,\n",
       "             'engineering': 22,\n",
       "             'al': 54,\n",
       "             'davood': 54,\n",
       "             'electrical': 26,\n",
       "             'circuits': 26,\n",
       "             'yes': 28,\n",
       "             'mir': 19,\n",
       "             'mahdi': 19,\n",
       "             'emamdadi': 8,\n",
       "             'software': 10,\n",
       "             'reyhaneh': 4,\n",
       "             'in': 48,\n",
       "             'fourth': 20,\n",
       "             'semester': 72,\n",
       "             'nofaresti': 3,\n",
       "             'courses': 2,\n",
       "             'building': 8,\n",
       "             'fifth': 24,\n",
       "             'sixth': 4,\n",
       "             'no': 14})"
      ]
     },
     "execution_count": 12,
     "metadata": {},
     "output_type": "execute_result"
    }
   ],
   "source": [
    "tokenizer.word_docs"
   ]
  },
  {
   "cell_type": "code",
   "execution_count": 13,
   "metadata": {},
   "outputs": [],
   "source": [
    "# sakhte araye e az datahaye vorodi be sakhtare [['story.t1', 'story.t2', ...], ['question.t1', 'question.t2', ...],['answer.t1', 'answer.t2', ...], .....]\n",
    "train_data = []\n",
    "for i in range(len(QandA)):\n",
    "    train_data.append([separate_punc(QandA['Story'][i]), separate_punc(QandA['Question'][i]), separate_punc(QandA['Answer'][i])])"
   ]
  },
  {
   "cell_type": "code",
   "execution_count": 14,
   "metadata": {},
   "outputs": [
    {
     "data": {
      "text/plain": [
       "[['dr.', 'noferesti', 'teaches', 'artificial', 'intelligence'],\n",
       " ['what', 'course', 'does', 'dr.', 'noferesti', 'teach'],\n",
       " ['artificial', 'intelligence']]"
      ]
     },
     "execution_count": 14,
     "metadata": {},
     "output_type": "execute_result"
    }
   ],
   "source": [
    "train_data[0]"
   ]
  },
  {
   "cell_type": "code",
   "execution_count": 14,
   "metadata": {},
   "outputs": [
    {
     "data": {
      "text/plain": [
       "{'artificial', 'dr.', 'intelligence', 'noferesti', 'teaches'}"
      ]
     },
     "execution_count": 14,
     "metadata": {},
     "output_type": "execute_result"
    }
   ],
   "source": [
    "set(train_data[0][0])"
   ]
  },
  {
   "cell_type": "code",
   "execution_count": 15,
   "metadata": {},
   "outputs": [],
   "source": [
    "# ejade listi az token hayii ke tekrari nabashan\n",
    "vocab = set()\n",
    "\n",
    "for story, question, answer in train_data:\n",
    "    vocab = vocab.union(set(story))\n",
    "    vocab = vocab.union(set(question))\n",
    "    vocab = vocab.union(set(answer))"
   ]
  },
  {
   "cell_type": "code",
   "execution_count": 16,
   "metadata": {},
   "outputs": [
    {
     "data": {
      "text/plain": [
       "{'al',\n",
       " 'algorithm',\n",
       " 'architecture',\n",
       " 'artificial',\n",
       " 'baluchzehi',\n",
       " 'building',\n",
       " 'circuits',\n",
       " 'computational',\n",
       " 'computer',\n",
       " 'construction',\n",
       " 'course',\n",
       " 'courses',\n",
       " 'database',\n",
       " 'databases',\n",
       " 'davood',\n",
       " 'design',\n",
       " 'discrete',\n",
       " 'does',\n",
       " 'dr',\n",
       " 'dr.',\n",
       " 'electrical',\n",
       " 'emamdadi',\n",
       " 'engineering',\n",
       " 'fifth',\n",
       " 'fourth',\n",
       " 'graph',\n",
       " 'hossein',\n",
       " 'in',\n",
       " 'intelligence',\n",
       " 'internet',\n",
       " 'mahdi',\n",
       " 'masoumeh',\n",
       " 'mehri',\n",
       " 'mir',\n",
       " 'mohammad',\n",
       " 'networking',\n",
       " 'nik',\n",
       " 'no',\n",
       " 'nofaresti',\n",
       " 'noferesti',\n",
       " 'operating',\n",
       " 'rajaee',\n",
       " 'reyhaneh',\n",
       " 'rezaei',\n",
       " 'samira',\n",
       " 'sargolzaei',\n",
       " 'semester',\n",
       " 'sixth',\n",
       " 'software',\n",
       " 'system',\n",
       " 'teach',\n",
       " 'teaches',\n",
       " 'the',\n",
       " 'theory',\n",
       " 'what',\n",
       " 'yes'}"
      ]
     },
     "execution_count": 16,
     "metadata": {},
     "output_type": "execute_result"
    }
   ],
   "source": [
    "vocab"
   ]
  },
  {
   "cell_type": "code",
   "execution_count": 17,
   "metadata": {},
   "outputs": [],
   "source": [
    "vocab_len = len(vocab) + 1"
   ]
  },
  {
   "cell_type": "code",
   "execution_count": 18,
   "metadata": {},
   "outputs": [
    {
     "data": {
      "text/plain": [
       "57"
      ]
     },
     "execution_count": 18,
     "metadata": {},
     "output_type": "execute_result"
    }
   ],
   "source": [
    "vocab_len"
   ]
  },
  {
   "cell_type": "code",
   "execution_count": 19,
   "metadata": {},
   "outputs": [],
   "source": [
    "max_story_len = max([len(data[0]) for data in train_data])"
   ]
  },
  {
   "cell_type": "code",
   "execution_count": 20,
   "metadata": {},
   "outputs": [
    {
     "data": {
      "text/plain": [
       "12"
      ]
     },
     "execution_count": 20,
     "metadata": {},
     "output_type": "execute_result"
    }
   ],
   "source": [
    "max_story_len"
   ]
  },
  {
   "cell_type": "code",
   "execution_count": 21,
   "metadata": {},
   "outputs": [],
   "source": [
    "max_question_len = max([len(data[1]) for data in train_data])"
   ]
  },
  {
   "cell_type": "code",
   "execution_count": 22,
   "metadata": {},
   "outputs": [
    {
     "data": {
      "text/plain": [
       "12"
      ]
     },
     "execution_count": 22,
     "metadata": {},
     "output_type": "execute_result"
    }
   ],
   "source": [
    "max_question_len"
   ]
  },
  {
   "cell_type": "code",
   "execution_count": 23,
   "metadata": {},
   "outputs": [],
   "source": [
    "max_answer_len = max([len(data[2]) for data in train_data])"
   ]
  },
  {
   "cell_type": "code",
   "execution_count": 24,
   "metadata": {},
   "outputs": [
    {
     "data": {
      "text/plain": [
       "2"
      ]
     },
     "execution_count": 24,
     "metadata": {},
     "output_type": "execute_result"
    }
   ],
   "source": [
    "max_answer_len"
   ]
  },
  {
   "cell_type": "code",
   "execution_count": 25,
   "metadata": {},
   "outputs": [],
   "source": [
    "from keras.preprocessing.sequence import pad_sequences\n",
    "from keras.preprocessing.text import Tokenizer"
   ]
  },
  {
   "cell_type": "code",
   "execution_count": 26,
   "metadata": {},
   "outputs": [],
   "source": [
    "tokenizer = Tokenizer(filters=[])\n",
    "tokenizer.fit_on_texts(vocab)"
   ]
  },
  {
   "cell_type": "code",
   "execution_count": 27,
   "metadata": {},
   "outputs": [
    {
     "data": {
      "text/plain": [
       "{'courses': 1,\n",
       " 'davood': 2,\n",
       " 'al': 3,\n",
       " 'database': 4,\n",
       " 'theory': 5,\n",
       " 'intelligence': 6,\n",
       " 'computational': 7,\n",
       " 'rajaee': 8,\n",
       " 'course': 9,\n",
       " 'hossein': 10,\n",
       " 'emamdadi': 11,\n",
       " 'construction': 12,\n",
       " 'semester': 13,\n",
       " 'teach': 14,\n",
       " 'discrete': 15,\n",
       " 'rezaei': 16,\n",
       " 'mir': 17,\n",
       " 'sixth': 18,\n",
       " 'engineering': 19,\n",
       " 'operating': 20,\n",
       " 'fourth': 21,\n",
       " 'teaches': 22,\n",
       " 'algorithm': 23,\n",
       " 'computer': 24,\n",
       " 'mahdi': 25,\n",
       " 'internet': 26,\n",
       " 'mehri': 27,\n",
       " 'baluchzehi': 28,\n",
       " 'system': 29,\n",
       " 'design': 30,\n",
       " 'reyhaneh': 31,\n",
       " 'nofaresti': 32,\n",
       " 'building': 33,\n",
       " 'masoumeh': 34,\n",
       " 'in': 35,\n",
       " 'databases': 36,\n",
       " 'nik': 37,\n",
       " 'yes': 38,\n",
       " 'electrical': 39,\n",
       " 'software': 40,\n",
       " 'fifth': 41,\n",
       " 'artificial': 42,\n",
       " 'circuits': 43,\n",
       " 'dr.': 44,\n",
       " 'what': 45,\n",
       " 'samira': 46,\n",
       " 'dr': 47,\n",
       " 'architecture': 48,\n",
       " 'no': 49,\n",
       " 'sargolzaei': 50,\n",
       " 'noferesti': 51,\n",
       " 'the': 52,\n",
       " 'mohammad': 53,\n",
       " 'does': 54,\n",
       " 'networking': 55,\n",
       " 'graph': 56}"
      ]
     },
     "execution_count": 27,
     "metadata": {},
     "output_type": "execute_result"
    }
   ],
   "source": [
    "tokenizer.word_index"
   ]
  },
  {
   "cell_type": "code",
   "execution_count": 28,
   "metadata": {},
   "outputs": [],
   "source": [
    "train_story_text = []\n",
    "train_question_text = []\n",
    "train_answers = []"
   ]
  },
  {
   "cell_type": "code",
   "execution_count": 29,
   "metadata": {},
   "outputs": [],
   "source": [
    "for story, question, answer in train_data:\n",
    "    train_story_text.append(story)\n",
    "    train_question_text.append(question)\n",
    "    train_answers.append(answer)"
   ]
  },
  {
   "cell_type": "code",
   "execution_count": 30,
   "metadata": {},
   "outputs": [],
   "source": [
    "train_story_seq = tokenizer.texts_to_sequences(train_story_text)"
   ]
  },
  {
   "cell_type": "code",
   "execution_count": 31,
   "metadata": {},
   "outputs": [
    {
     "data": {
      "text/plain": [
       "88"
      ]
     },
     "execution_count": 31,
     "metadata": {},
     "output_type": "execute_result"
    }
   ],
   "source": [
    "len(train_story_seq)"
   ]
  },
  {
   "cell_type": "code",
   "execution_count": 32,
   "metadata": {},
   "outputs": [],
   "source": [
    "def vectorize_stories(data, word_index=tokenizer.word_index, max_story_len=max_story_len, max_question_len=max_question_len, max_answer_len=max_answer_len):\n",
    "    \n",
    "    X = []\n",
    "    Xq = []\n",
    "    Y = []\n",
    "    \n",
    "    for story, query, answer in data:\n",
    "        \n",
    "        x = [word_index[word.lower()] for word in story]\n",
    "        xq = [word_index[word.lower()] for word in query]\n",
    "        \n",
    "        y = np.zeros(len(word_index) + 1)\n",
    "        \n",
    "        y[word_index[answer[0]]] = 1\n",
    "        \n",
    "        X.append(x)\n",
    "        Xq.append(xq)\n",
    "        Y.append(y)\n",
    "        \n",
    "    return (pad_sequences(X, maxlen=max_story_len), pad_sequences(Xq, maxlen=max_question_len), np.array(Y))"
   ]
  },
  {
   "cell_type": "code",
   "execution_count": 33,
   "metadata": {},
   "outputs": [],
   "source": [
    "inputs_train, queries_train, answers_train = vectorize_stories(train_data)"
   ]
  },
  {
   "cell_type": "code",
   "execution_count": 34,
   "metadata": {},
   "outputs": [
    {
     "data": {
      "text/plain": [
       "array([ 0,  0,  0,  0,  0,  0,  0, 44, 50, 22, 24, 48], dtype=int32)"
      ]
     },
     "execution_count": 34,
     "metadata": {},
     "output_type": "execute_result"
    }
   ],
   "source": [
    "inputs_train[10]"
   ]
  },
  {
   "cell_type": "code",
   "execution_count": 35,
   "metadata": {},
   "outputs": [
    {
     "data": {
      "text/plain": [
       "array([ 0,  0,  0,  0,  0, 45,  9, 54, 44, 46, 51, 14], dtype=int32)"
      ]
     },
     "execution_count": 35,
     "metadata": {},
     "output_type": "execute_result"
    }
   ],
   "source": [
    "queries_train[1]"
   ]
  },
  {
   "cell_type": "code",
   "execution_count": 36,
   "metadata": {},
   "outputs": [
    {
     "data": {
      "text/plain": [
       "array([[0., 0., 0., ..., 0., 0., 0.],\n",
       "       [0., 0., 0., ..., 0., 0., 0.],\n",
       "       [0., 0., 0., ..., 0., 0., 0.],\n",
       "       ...,\n",
       "       [0., 0., 0., ..., 0., 0., 0.],\n",
       "       [0., 0., 0., ..., 0., 0., 0.],\n",
       "       [0., 0., 0., ..., 0., 0., 0.]])"
      ]
     },
     "execution_count": 36,
     "metadata": {},
     "output_type": "execute_result"
    }
   ],
   "source": [
    "answers_train"
   ]
  },
  {
   "cell_type": "code",
   "execution_count": 37,
   "metadata": {},
   "outputs": [
    {
     "data": {
      "text/plain": [
       "array([ 0.,  0.,  0.,  0.,  2.,  0.,  0.,  2.,  0.,  0.,  0.,  0.,  0.,\n",
       "        0.,  0.,  4.,  0.,  0.,  2.,  0.,  2., 10.,  0.,  2.,  4.,  0.,\n",
       "        1.,  0.,  0.,  0.,  0.,  0.,  0.,  0.,  0.,  0.,  0.,  0., 28.,\n",
       "        1.,  0., 12.,  2.,  0.,  0.,  0.,  0.,  0.,  0., 14.,  0.,  0.,\n",
       "        0.,  0.,  0.,  0.,  2.])"
      ]
     },
     "execution_count": 37,
     "metadata": {},
     "output_type": "execute_result"
    }
   ],
   "source": [
    "sum(answers_train)"
   ]
  },
  {
   "cell_type": "code",
   "execution_count": 38,
   "metadata": {},
   "outputs": [],
   "source": [
    "from keras.models import Sequential, Model"
   ]
  },
  {
   "cell_type": "code",
   "execution_count": 39,
   "metadata": {},
   "outputs": [],
   "source": [
    "from keras.layers import Embedding"
   ]
  },
  {
   "cell_type": "code",
   "execution_count": 40,
   "metadata": {},
   "outputs": [],
   "source": [
    "from keras.layers import Input, Activation, Dense, Permute, Dropout, add, dot, concatenate, LSTM"
   ]
  },
  {
   "cell_type": "code",
   "execution_count": 41,
   "metadata": {},
   "outputs": [],
   "source": [
    "input_sequence = Input((max_story_len,))\n",
    "question = Input((max_question_len,))"
   ]
  },
  {
   "cell_type": "code",
   "execution_count": 42,
   "metadata": {},
   "outputs": [],
   "source": [
    "vocab_size = len(vocab) + 1"
   ]
  },
  {
   "cell_type": "code",
   "execution_count": 43,
   "metadata": {},
   "outputs": [],
   "source": [
    "input_encoder_m = Sequential()\n",
    "input_encoder_m.add(Embedding(input_dim=vocab_size, output_dim=64))\n",
    "input_encoder_m.add(Dropout(0.3))"
   ]
  },
  {
   "cell_type": "code",
   "execution_count": 44,
   "metadata": {},
   "outputs": [],
   "source": [
    "input_encoder_c = Sequential()\n",
    "input_encoder_c.add(Embedding(input_dim=vocab_size, output_dim=max_question_len))\n",
    "input_encoder_c.add(Dropout(0.3))"
   ]
  },
  {
   "cell_type": "code",
   "execution_count": 45,
   "metadata": {},
   "outputs": [],
   "source": [
    "question_encoder = Sequential()\n",
    "question_encoder.add(Embedding(input_dim=vocab_size, output_dim=64, input_length=max_question_len))\n",
    "question_encoder.add(Dropout(0.3))"
   ]
  },
  {
   "cell_type": "code",
   "execution_count": 46,
   "metadata": {},
   "outputs": [],
   "source": [
    "input_encoded_m = input_encoder_m(input_sequence)\n",
    "input_encoded_c = input_encoder_c(input_sequence)\n",
    "question_encoded = question_encoder(question)"
   ]
  },
  {
   "cell_type": "code",
   "execution_count": 47,
   "metadata": {},
   "outputs": [],
   "source": [
    "match = dot([input_encoded_m, question_encoded], axes=(2,2))\n",
    "match = Activation('softmax')(match)"
   ]
  },
  {
   "cell_type": "code",
   "execution_count": 48,
   "metadata": {},
   "outputs": [],
   "source": [
    "response = add([match, input_encoded_c])\n",
    "response = Permute((2, 1))(response)"
   ]
  },
  {
   "cell_type": "code",
   "execution_count": 49,
   "metadata": {},
   "outputs": [],
   "source": [
    "answer = concatenate([response, question_encoded])"
   ]
  },
  {
   "cell_type": "code",
   "execution_count": 50,
   "metadata": {},
   "outputs": [
    {
     "data": {
      "text/plain": [
       "<KerasTensor: shape=(None, 12, 76) dtype=float32 (created by layer 'concatenate')>"
      ]
     },
     "execution_count": 50,
     "metadata": {},
     "output_type": "execute_result"
    }
   ],
   "source": [
    "answer"
   ]
  },
  {
   "cell_type": "code",
   "execution_count": 51,
   "metadata": {},
   "outputs": [],
   "source": [
    "answer = LSTM(32)(answer)"
   ]
  },
  {
   "cell_type": "code",
   "execution_count": 52,
   "metadata": {},
   "outputs": [],
   "source": [
    "answer = Dropout(0.5)(answer)\n",
    "answer = Dense(vocab_size)(answer)"
   ]
  },
  {
   "cell_type": "code",
   "execution_count": 53,
   "metadata": {},
   "outputs": [],
   "source": [
    "answer = Activation('softmax')(answer)"
   ]
  },
  {
   "cell_type": "code",
   "execution_count": 54,
   "metadata": {},
   "outputs": [],
   "source": [
    "model = Model([input_sequence, question], answer)"
   ]
  },
  {
   "cell_type": "code",
   "execution_count": 55,
   "metadata": {},
   "outputs": [],
   "source": [
    "model.compile(optimizer='rmsprop', loss='categorical_crossentropy', metrics=['accuracy'])"
   ]
  },
  {
   "cell_type": "code",
   "execution_count": 56,
   "metadata": {},
   "outputs": [
    {
     "name": "stdout",
     "output_type": "stream",
     "text": [
      "Model: \"model\"\n",
      "__________________________________________________________________________________________________\n",
      "Layer (type)                    Output Shape         Param #     Connected to                     \n",
      "==================================================================================================\n",
      "input_1 (InputLayer)            [(None, 12)]         0                                            \n",
      "__________________________________________________________________________________________________\n",
      "input_2 (InputLayer)            [(None, 12)]         0                                            \n",
      "__________________________________________________________________________________________________\n",
      "sequential (Sequential)         (None, None, 64)     3648        input_1[0][0]                    \n",
      "__________________________________________________________________________________________________\n",
      "sequential_2 (Sequential)       (None, 12, 64)       3648        input_2[0][0]                    \n",
      "__________________________________________________________________________________________________\n",
      "dot (Dot)                       (None, 12, 12)       0           sequential[0][0]                 \n",
      "                                                                 sequential_2[0][0]               \n",
      "__________________________________________________________________________________________________\n",
      "activation (Activation)         (None, 12, 12)       0           dot[0][0]                        \n",
      "__________________________________________________________________________________________________\n",
      "sequential_1 (Sequential)       (None, None, 12)     684         input_1[0][0]                    \n",
      "__________________________________________________________________________________________________\n",
      "add (Add)                       (None, 12, 12)       0           activation[0][0]                 \n",
      "                                                                 sequential_1[0][0]               \n",
      "__________________________________________________________________________________________________\n",
      "permute (Permute)               (None, 12, 12)       0           add[0][0]                        \n",
      "__________________________________________________________________________________________________\n",
      "concatenate (Concatenate)       (None, 12, 76)       0           permute[0][0]                    \n",
      "                                                                 sequential_2[0][0]               \n",
      "__________________________________________________________________________________________________\n",
      "lstm (LSTM)                     (None, 32)           13952       concatenate[0][0]                \n",
      "__________________________________________________________________________________________________\n",
      "dropout_3 (Dropout)             (None, 32)           0           lstm[0][0]                       \n",
      "__________________________________________________________________________________________________\n",
      "dense (Dense)                   (None, 57)           1881        dropout_3[0][0]                  \n",
      "__________________________________________________________________________________________________\n",
      "activation_1 (Activation)       (None, 57)           0           dense[0][0]                      \n",
      "==================================================================================================\n",
      "Total params: 23,813\n",
      "Trainable params: 23,813\n",
      "Non-trainable params: 0\n",
      "__________________________________________________________________________________________________\n"
     ]
    }
   ],
   "source": [
    "model.summary()"
   ]
  },
  {
   "cell_type": "code",
   "execution_count": 57,
   "metadata": {
    "collapsed": true,
    "jupyter": {
     "outputs_hidden": true
    }
   },
   "outputs": [
    {
     "name": "stdout",
     "output_type": "stream",
     "text": [
      "Epoch 1/500\n",
      "3/3 [==============================] - 4s 704ms/step - loss: 4.0301 - accuracy: 0.0785 - val_loss: 3.9700 - val_accuracy: 0.3182\n",
      "Epoch 2/500\n",
      "3/3 [==============================] - 0s 47ms/step - loss: 3.9624 - accuracy: 0.2713 - val_loss: 3.8950 - val_accuracy: 0.3182\n",
      "Epoch 3/500\n",
      "3/3 [==============================] - 0s 70ms/step - loss: 3.8791 - accuracy: 0.3271 - val_loss: 3.7505 - val_accuracy: 0.3182\n",
      "Epoch 4/500\n",
      "3/3 [==============================] - 0s 60ms/step - loss: 3.7097 - accuracy: 0.3679 - val_loss: 3.4861 - val_accuracy: 0.3182\n",
      "Epoch 5/500\n",
      "3/3 [==============================] - 0s 50ms/step - loss: 3.4306 - accuracy: 0.3271 - val_loss: 3.1878 - val_accuracy: 0.3182\n",
      "Epoch 6/500\n",
      "3/3 [==============================] - 0s 62ms/step - loss: 3.2275 - accuracy: 0.2880 - val_loss: 2.9842 - val_accuracy: 0.3182\n",
      "Epoch 7/500\n",
      "3/3 [==============================] - 0s 46ms/step - loss: 3.0855 - accuracy: 0.2997 - val_loss: 2.8846 - val_accuracy: 0.3182\n",
      "Epoch 8/500\n",
      "3/3 [==============================] - 0s 78ms/step - loss: 2.8675 - accuracy: 0.3778 - val_loss: 2.8228 - val_accuracy: 0.3182\n",
      "Epoch 9/500\n",
      "3/3 [==============================] - 0s 79ms/step - loss: 3.0709 - accuracy: 0.2997 - val_loss: 2.7394 - val_accuracy: 0.3182\n",
      "Epoch 10/500\n",
      "3/3 [==============================] - 0s 62ms/step - loss: 2.7675 - accuracy: 0.3427 - val_loss: 2.6768 - val_accuracy: 0.3182\n",
      "Epoch 11/500\n",
      "3/3 [==============================] - 0s 46ms/step - loss: 2.7880 - accuracy: 0.2997 - val_loss: 2.6214 - val_accuracy: 0.3182\n",
      "Epoch 12/500\n",
      "3/3 [==============================] - 0s 46ms/step - loss: 2.7833 - accuracy: 0.3249 - val_loss: 2.5770 - val_accuracy: 0.3182\n",
      "Epoch 13/500\n",
      "3/3 [==============================] - 0s 45ms/step - loss: 2.5711 - accuracy: 0.3448 - val_loss: 2.5283 - val_accuracy: 0.3182\n",
      "Epoch 14/500\n",
      "3/3 [==============================] - 0s 51ms/step - loss: 2.7833 - accuracy: 0.2901 - val_loss: 2.4764 - val_accuracy: 0.3182\n",
      "Epoch 15/500\n",
      "3/3 [==============================] - 0s 59ms/step - loss: 2.6006 - accuracy: 0.2862 - val_loss: 2.4267 - val_accuracy: 0.3182\n",
      "Epoch 16/500\n",
      "3/3 [==============================] - 0s 87ms/step - loss: 2.5842 - accuracy: 0.2923 - val_loss: 2.3711 - val_accuracy: 0.3182\n",
      "Epoch 17/500\n",
      "3/3 [==============================] - 0s 79ms/step - loss: 2.5368 - accuracy: 0.2607 - val_loss: 2.3215 - val_accuracy: 0.3182\n",
      "Epoch 18/500\n",
      "3/3 [==============================] - 0s 40ms/step - loss: 2.4128 - accuracy: 0.3480 - val_loss: 2.2746 - val_accuracy: 0.3182\n",
      "Epoch 19/500\n",
      "3/3 [==============================] - 0s 46ms/step - loss: 2.3836 - accuracy: 0.3828 - val_loss: 2.2514 - val_accuracy: 0.3295\n",
      "Epoch 20/500\n",
      "3/3 [==============================] - 0s 57ms/step - loss: 2.4760 - accuracy: 0.2955 - val_loss: 2.1953 - val_accuracy: 0.3295\n",
      "Epoch 21/500\n",
      "3/3 [==============================] - 0s 40ms/step - loss: 2.2588 - accuracy: 0.4254 - val_loss: 2.1529 - val_accuracy: 0.4432\n",
      "Epoch 22/500\n",
      "3/3 [==============================] - 0s 39ms/step - loss: 2.2723 - accuracy: 0.3981 - val_loss: 2.1143 - val_accuracy: 0.4545\n",
      "Epoch 23/500\n",
      "3/3 [==============================] - 0s 47ms/step - loss: 2.3211 - accuracy: 0.3398 - val_loss: 2.0764 - val_accuracy: 0.4545\n",
      "Epoch 24/500\n",
      "3/3 [==============================] - 0s 33ms/step - loss: 2.4124 - accuracy: 0.3494 - val_loss: 2.0436 - val_accuracy: 0.4545\n",
      "Epoch 25/500\n",
      "3/3 [==============================] - 0s 46ms/step - loss: 2.0855 - accuracy: 0.4371 - val_loss: 2.0095 - val_accuracy: 0.4545\n",
      "Epoch 26/500\n",
      "3/3 [==============================] - 0s 64ms/step - loss: 2.2091 - accuracy: 0.4712 - val_loss: 1.9823 - val_accuracy: 0.4545\n",
      "Epoch 27/500\n",
      "3/3 [==============================] - 0s 55ms/step - loss: 2.1164 - accuracy: 0.4450 - val_loss: 1.9568 - val_accuracy: 0.4545\n",
      "Epoch 28/500\n",
      "3/3 [==============================] - 0s 45ms/step - loss: 2.1097 - accuracy: 0.3658 - val_loss: 1.9244 - val_accuracy: 0.4545\n",
      "Epoch 29/500\n",
      "3/3 [==============================] - 0s 84ms/step - loss: 1.8955 - accuracy: 0.5004 - val_loss: 1.8921 - val_accuracy: 0.4545\n",
      "Epoch 30/500\n",
      "3/3 [==============================] - 0s 32ms/step - loss: 2.1525 - accuracy: 0.4254 - val_loss: 1.8683 - val_accuracy: 0.4545\n",
      "Epoch 31/500\n",
      "3/3 [==============================] - 0s 32ms/step - loss: 2.1495 - accuracy: 0.3651 - val_loss: 1.8423 - val_accuracy: 0.4545\n",
      "Epoch 32/500\n",
      "3/3 [==============================] - 0s 33ms/step - loss: 2.1220 - accuracy: 0.4098 - val_loss: 1.8219 - val_accuracy: 0.4545\n",
      "Epoch 33/500\n",
      "3/3 [==============================] - 0s 37ms/step - loss: 1.8773 - accuracy: 0.5007 - val_loss: 1.7917 - val_accuracy: 0.4545\n",
      "Epoch 34/500\n",
      "3/3 [==============================] - 0s 33ms/step - loss: 2.0696 - accuracy: 0.4439 - val_loss: 1.7700 - val_accuracy: 0.4545\n",
      "Epoch 35/500\n",
      "3/3 [==============================] - 0s 32ms/step - loss: 1.8369 - accuracy: 0.5231 - val_loss: 1.7553 - val_accuracy: 0.4545\n",
      "Epoch 36/500\n",
      "3/3 [==============================] - 0s 32ms/step - loss: 1.8616 - accuracy: 0.4751 - val_loss: 1.7305 - val_accuracy: 0.4545\n",
      "Epoch 37/500\n",
      "3/3 [==============================] - 0s 34ms/step - loss: 1.9770 - accuracy: 0.4496 - val_loss: 1.6946 - val_accuracy: 0.4545\n",
      "Epoch 38/500\n",
      "3/3 [==============================] - 0s 32ms/step - loss: 1.7986 - accuracy: 0.5273 - val_loss: 1.6871 - val_accuracy: 0.4545\n",
      "Epoch 39/500\n",
      "3/3 [==============================] - 0s 34ms/step - loss: 1.9404 - accuracy: 0.4226 - val_loss: 1.6565 - val_accuracy: 0.4545\n",
      "Epoch 40/500\n",
      "3/3 [==============================] - 0s 33ms/step - loss: 1.8749 - accuracy: 0.4308 - val_loss: 1.7026 - val_accuracy: 0.4545\n",
      "Epoch 41/500\n",
      "3/3 [==============================] - 0s 34ms/step - loss: 1.7761 - accuracy: 0.5987 - val_loss: 1.6106 - val_accuracy: 0.4545\n",
      "Epoch 42/500\n",
      "3/3 [==============================] - 0s 32ms/step - loss: 1.7557 - accuracy: 0.4418 - val_loss: 1.5819 - val_accuracy: 0.4545\n",
      "Epoch 43/500\n",
      "3/3 [==============================] - 0s 33ms/step - loss: 1.8650 - accuracy: 0.5444 - val_loss: 1.5872 - val_accuracy: 0.5000\n",
      "Epoch 44/500\n",
      "3/3 [==============================] - 0s 32ms/step - loss: 1.7919 - accuracy: 0.4940 - val_loss: 1.5439 - val_accuracy: 0.4659\n",
      "Epoch 45/500\n",
      "3/3 [==============================] - 0s 32ms/step - loss: 1.6557 - accuracy: 0.5561 - val_loss: 1.5241 - val_accuracy: 0.4773\n",
      "Epoch 46/500\n",
      "3/3 [==============================] - 0s 33ms/step - loss: 1.5892 - accuracy: 0.4709 - val_loss: 1.5192 - val_accuracy: 0.5227\n",
      "Epoch 47/500\n",
      "3/3 [==============================] - 0s 33ms/step - loss: 1.7983 - accuracy: 0.4805 - val_loss: 1.5084 - val_accuracy: 0.4773\n",
      "Epoch 48/500\n",
      "3/3 [==============================] - 0s 32ms/step - loss: 1.7088 - accuracy: 0.4592 - val_loss: 1.4933 - val_accuracy: 0.4773\n",
      "Epoch 49/500\n",
      "3/3 [==============================] - 0s 33ms/step - loss: 1.7546 - accuracy: 0.5018 - val_loss: 1.4571 - val_accuracy: 0.5227\n",
      "Epoch 50/500\n",
      "3/3 [==============================] - 0s 32ms/step - loss: 1.6171 - accuracy: 0.5657 - val_loss: 1.4370 - val_accuracy: 0.5682\n",
      "Epoch 51/500\n",
      "3/3 [==============================] - 0s 32ms/step - loss: 1.5982 - accuracy: 0.5135 - val_loss: 1.4104 - val_accuracy: 0.5682\n",
      "Epoch 52/500\n",
      "3/3 [==============================] - 0s 34ms/step - loss: 1.7454 - accuracy: 0.4766 - val_loss: 1.4131 - val_accuracy: 0.5795\n",
      "Epoch 53/500\n",
      "3/3 [==============================] - 0s 34ms/step - loss: 1.6364 - accuracy: 0.5284 - val_loss: 1.3677 - val_accuracy: 0.6477\n",
      "Epoch 54/500\n",
      "3/3 [==============================] - 0s 34ms/step - loss: 1.4863 - accuracy: 0.6310 - val_loss: 1.3533 - val_accuracy: 0.5568\n",
      "Epoch 55/500\n",
      "3/3 [==============================] - 0s 33ms/step - loss: 1.5651 - accuracy: 0.5344 - val_loss: 1.3291 - val_accuracy: 0.5682\n",
      "Epoch 56/500\n",
      "3/3 [==============================] - 0s 32ms/step - loss: 1.5062 - accuracy: 0.6040 - val_loss: 1.3181 - val_accuracy: 0.5909\n",
      "Epoch 57/500\n",
      "3/3 [==============================] - 0s 34ms/step - loss: 1.5032 - accuracy: 0.5511 - val_loss: 1.2891 - val_accuracy: 0.6136\n",
      "Epoch 58/500\n",
      "3/3 [==============================] - 0s 33ms/step - loss: 1.5543 - accuracy: 0.5362 - val_loss: 1.2750 - val_accuracy: 0.7273\n",
      "Epoch 59/500\n",
      "3/3 [==============================] - 0s 33ms/step - loss: 1.5042 - accuracy: 0.5653 - val_loss: 1.2497 - val_accuracy: 0.7159\n",
      "Epoch 60/500\n",
      "3/3 [==============================] - 0s 32ms/step - loss: 1.3956 - accuracy: 0.6016 - val_loss: 1.2335 - val_accuracy: 0.7273\n",
      "Epoch 61/500\n",
      "3/3 [==============================] - 0s 32ms/step - loss: 1.4239 - accuracy: 0.5398 - val_loss: 1.2129 - val_accuracy: 0.6705\n",
      "Epoch 62/500\n",
      "3/3 [==============================] - 0s 32ms/step - loss: 1.3623 - accuracy: 0.5827 - val_loss: 1.2322 - val_accuracy: 0.5682\n",
      "Epoch 63/500\n",
      "3/3 [==============================] - 0s 32ms/step - loss: 1.4479 - accuracy: 0.5689 - val_loss: 1.1809 - val_accuracy: 0.7273\n",
      "Epoch 64/500\n",
      "3/3 [==============================] - 0s 33ms/step - loss: 1.4651 - accuracy: 0.5593 - val_loss: 1.1679 - val_accuracy: 0.7045\n",
      "Epoch 65/500\n",
      "3/3 [==============================] - 0s 82ms/step - loss: 1.2148 - accuracy: 0.6463 - val_loss: 1.1647 - val_accuracy: 0.7273\n",
      "Epoch 66/500\n",
      "3/3 [==============================] - 0s 32ms/step - loss: 1.3918 - accuracy: 0.6133 - val_loss: 1.1351 - val_accuracy: 0.7500\n",
      "Epoch 67/500\n",
      "3/3 [==============================] - 0s 33ms/step - loss: 1.2782 - accuracy: 0.6225 - val_loss: 1.1221 - val_accuracy: 0.7273\n",
      "Epoch 68/500\n",
      "3/3 [==============================] - 0s 32ms/step - loss: 1.3084 - accuracy: 0.6403 - val_loss: 1.1099 - val_accuracy: 0.7273\n",
      "Epoch 69/500\n",
      "3/3 [==============================] - 0s 32ms/step - loss: 1.3948 - accuracy: 0.6186 - val_loss: 1.0983 - val_accuracy: 0.6818\n",
      "Epoch 70/500\n",
      "3/3 [==============================] - 0s 32ms/step - loss: 1.3222 - accuracy: 0.6712 - val_loss: 1.1005 - val_accuracy: 0.7386\n",
      "Epoch 71/500\n",
      "3/3 [==============================] - 0s 32ms/step - loss: 1.1418 - accuracy: 0.6950 - val_loss: 1.0599 - val_accuracy: 0.7500\n",
      "Epoch 72/500\n",
      "3/3 [==============================] - 0s 32ms/step - loss: 1.1718 - accuracy: 0.6768 - val_loss: 1.0441 - val_accuracy: 0.7500\n",
      "Epoch 73/500\n",
      "3/3 [==============================] - 0s 32ms/step - loss: 1.1583 - accuracy: 0.6694 - val_loss: 1.0245 - val_accuracy: 0.7500\n",
      "Epoch 74/500\n",
      "3/3 [==============================] - 0s 32ms/step - loss: 1.2293 - accuracy: 0.6751 - val_loss: 1.0152 - val_accuracy: 0.7727\n",
      "Epoch 75/500\n",
      "3/3 [==============================] - 0s 32ms/step - loss: 1.1542 - accuracy: 0.6616 - val_loss: 0.9958 - val_accuracy: 0.7500\n",
      "Epoch 76/500\n",
      "3/3 [==============================] - 0s 32ms/step - loss: 1.1693 - accuracy: 0.6364 - val_loss: 0.9823 - val_accuracy: 0.7614\n",
      "Epoch 77/500\n",
      "3/3 [==============================] - 0s 32ms/step - loss: 1.2042 - accuracy: 0.6808 - val_loss: 0.9739 - val_accuracy: 0.7727\n",
      "Epoch 78/500\n",
      "3/3 [==============================] - 0s 32ms/step - loss: 1.2973 - accuracy: 0.6357 - val_loss: 0.9754 - val_accuracy: 0.7500\n",
      "Epoch 79/500\n",
      "3/3 [==============================] - 0s 32ms/step - loss: 1.1094 - accuracy: 0.6637 - val_loss: 0.9443 - val_accuracy: 0.7727\n",
      "Epoch 80/500\n",
      "3/3 [==============================] - 0s 32ms/step - loss: 1.1517 - accuracy: 0.6534 - val_loss: 0.9318 - val_accuracy: 0.7500\n",
      "Epoch 81/500\n",
      "3/3 [==============================] - 0s 33ms/step - loss: 1.1011 - accuracy: 0.7269 - val_loss: 0.9312 - val_accuracy: 0.7841\n",
      "Epoch 82/500\n",
      "3/3 [==============================] - 0s 32ms/step - loss: 1.1098 - accuracy: 0.6946 - val_loss: 0.9095 - val_accuracy: 0.7727\n",
      "Epoch 83/500\n",
      "3/3 [==============================] - 0s 32ms/step - loss: 1.0304 - accuracy: 0.7287 - val_loss: 0.9088 - val_accuracy: 0.7727\n",
      "Epoch 84/500\n",
      "3/3 [==============================] - 0s 32ms/step - loss: 1.1609 - accuracy: 0.6864 - val_loss: 0.8933 - val_accuracy: 0.7727\n",
      "Epoch 85/500\n",
      "3/3 [==============================] - 0s 33ms/step - loss: 1.0877 - accuracy: 0.6690 - val_loss: 0.9068 - val_accuracy: 0.7841\n",
      "Epoch 86/500\n",
      "3/3 [==============================] - 0s 32ms/step - loss: 0.9371 - accuracy: 0.7198 - val_loss: 0.8731 - val_accuracy: 0.7841\n",
      "Epoch 87/500\n",
      "3/3 [==============================] - 0s 32ms/step - loss: 0.9747 - accuracy: 0.7447 - val_loss: 0.8609 - val_accuracy: 0.8068\n",
      "Epoch 88/500\n",
      "3/3 [==============================] - 0s 32ms/step - loss: 1.0050 - accuracy: 0.7099 - val_loss: 0.8543 - val_accuracy: 0.7614\n",
      "Epoch 89/500\n",
      "3/3 [==============================] - 0s 33ms/step - loss: 0.9487 - accuracy: 0.7582 - val_loss: 0.8392 - val_accuracy: 0.7955\n",
      "Epoch 90/500\n",
      "3/3 [==============================] - 0s 31ms/step - loss: 1.0262 - accuracy: 0.6960 - val_loss: 0.9033 - val_accuracy: 0.7273\n",
      "Epoch 91/500\n",
      "3/3 [==============================] - 0s 34ms/step - loss: 1.0570 - accuracy: 0.6822 - val_loss: 0.8201 - val_accuracy: 0.7955\n",
      "Epoch 92/500\n",
      "3/3 [==============================] - 0s 32ms/step - loss: 0.9569 - accuracy: 0.7347 - val_loss: 0.8208 - val_accuracy: 0.8068\n",
      "Epoch 93/500\n",
      "3/3 [==============================] - 0s 33ms/step - loss: 1.0128 - accuracy: 0.7631 - val_loss: 0.8033 - val_accuracy: 0.7955\n",
      "Epoch 94/500\n",
      "3/3 [==============================] - 0s 33ms/step - loss: 0.9945 - accuracy: 0.7230 - val_loss: 0.7983 - val_accuracy: 0.8068\n",
      "Epoch 95/500\n",
      "3/3 [==============================] - 0s 32ms/step - loss: 0.8809 - accuracy: 0.7582 - val_loss: 0.7885 - val_accuracy: 0.8068\n",
      "Epoch 96/500\n",
      "3/3 [==============================] - 0s 33ms/step - loss: 0.9091 - accuracy: 0.7440 - val_loss: 0.7840 - val_accuracy: 0.8068\n",
      "Epoch 97/500\n",
      "3/3 [==============================] - 0s 32ms/step - loss: 0.8470 - accuracy: 0.7830 - val_loss: 0.7903 - val_accuracy: 0.7955\n",
      "Epoch 98/500\n",
      "3/3 [==============================] - 0s 32ms/step - loss: 0.7963 - accuracy: 0.8100 - val_loss: 0.7754 - val_accuracy: 0.7955\n",
      "Epoch 99/500\n",
      "3/3 [==============================] - 0s 32ms/step - loss: 0.9532 - accuracy: 0.7035 - val_loss: 0.7580 - val_accuracy: 0.8068\n",
      "Epoch 100/500\n",
      "3/3 [==============================] - 0s 32ms/step - loss: 0.9281 - accuracy: 0.7347 - val_loss: 0.7524 - val_accuracy: 0.8068\n",
      "Epoch 101/500\n",
      "3/3 [==============================] - 0s 81ms/step - loss: 0.8967 - accuracy: 0.7560 - val_loss: 0.7451 - val_accuracy: 0.8068\n",
      "Epoch 102/500\n",
      "3/3 [==============================] - 0s 32ms/step - loss: 0.8198 - accuracy: 0.7678 - val_loss: 0.7631 - val_accuracy: 0.8068\n",
      "Epoch 103/500\n",
      "3/3 [==============================] - 0s 33ms/step - loss: 0.7932 - accuracy: 0.7891 - val_loss: 0.7299 - val_accuracy: 0.8068\n",
      "Epoch 104/500\n",
      "3/3 [==============================] - 0s 32ms/step - loss: 0.7649 - accuracy: 0.7756 - val_loss: 0.7293 - val_accuracy: 0.8068\n",
      "Epoch 105/500\n",
      "3/3 [==============================] - 0s 32ms/step - loss: 0.9163 - accuracy: 0.7227 - val_loss: 0.7207 - val_accuracy: 0.8068\n",
      "Epoch 106/500\n",
      "3/3 [==============================] - 0s 32ms/step - loss: 0.8635 - accuracy: 0.7692 - val_loss: 0.7076 - val_accuracy: 0.8068\n",
      "Epoch 107/500\n",
      "3/3 [==============================] - 0s 32ms/step - loss: 0.7666 - accuracy: 0.7834 - val_loss: 0.7047 - val_accuracy: 0.8068\n",
      "Epoch 108/500\n",
      "3/3 [==============================] - 0s 32ms/step - loss: 0.8993 - accuracy: 0.7731 - val_loss: 0.6983 - val_accuracy: 0.8068\n",
      "Epoch 109/500\n",
      "3/3 [==============================] - 0s 32ms/step - loss: 0.8515 - accuracy: 0.7347 - val_loss: 0.6887 - val_accuracy: 0.8068\n",
      "Epoch 110/500\n",
      "3/3 [==============================] - 0s 33ms/step - loss: 0.8290 - accuracy: 0.7674 - val_loss: 0.6879 - val_accuracy: 0.8068\n",
      "Epoch 111/500\n",
      "3/3 [==============================] - 0s 33ms/step - loss: 0.7590 - accuracy: 0.7812 - val_loss: 0.7108 - val_accuracy: 0.8068\n",
      "Epoch 112/500\n",
      "3/3 [==============================] - 0s 33ms/step - loss: 0.7519 - accuracy: 0.7756 - val_loss: 0.6749 - val_accuracy: 0.8068\n",
      "Epoch 113/500\n",
      "3/3 [==============================] - 0s 33ms/step - loss: 0.8035 - accuracy: 0.7596 - val_loss: 0.6630 - val_accuracy: 0.8068\n",
      "Epoch 114/500\n",
      "3/3 [==============================] - 0s 33ms/step - loss: 0.8396 - accuracy: 0.7326 - val_loss: 0.6591 - val_accuracy: 0.8295\n",
      "Epoch 115/500\n",
      "3/3 [==============================] - 0s 33ms/step - loss: 0.8422 - accuracy: 0.7766 - val_loss: 0.6516 - val_accuracy: 0.8182\n",
      "Epoch 116/500\n",
      "3/3 [==============================] - 0s 34ms/step - loss: 0.8095 - accuracy: 0.7905 - val_loss: 0.6440 - val_accuracy: 0.8182\n",
      "Epoch 117/500\n",
      "3/3 [==============================] - 0s 33ms/step - loss: 0.8073 - accuracy: 0.7404 - val_loss: 0.6434 - val_accuracy: 0.8182\n",
      "Epoch 118/500\n",
      "3/3 [==============================] - 0s 33ms/step - loss: 0.7830 - accuracy: 0.8058 - val_loss: 0.6389 - val_accuracy: 0.8182\n",
      "Epoch 119/500\n",
      "3/3 [==============================] - 0s 32ms/step - loss: 0.7450 - accuracy: 0.8018 - val_loss: 0.6259 - val_accuracy: 0.8182\n",
      "Epoch 120/500\n",
      "3/3 [==============================] - 0s 33ms/step - loss: 0.7981 - accuracy: 0.7482 - val_loss: 0.6199 - val_accuracy: 0.8295\n",
      "Epoch 121/500\n",
      "3/3 [==============================] - 0s 32ms/step - loss: 0.7739 - accuracy: 0.7880 - val_loss: 0.6171 - val_accuracy: 0.8295\n",
      "Epoch 122/500\n",
      "3/3 [==============================] - 0s 32ms/step - loss: 0.7213 - accuracy: 0.7809 - val_loss: 0.6111 - val_accuracy: 0.8182\n",
      "Epoch 123/500\n",
      "3/3 [==============================] - 0s 33ms/step - loss: 0.7307 - accuracy: 0.8192 - val_loss: 0.6131 - val_accuracy: 0.8182\n",
      "Epoch 124/500\n",
      "3/3 [==============================] - 0s 33ms/step - loss: 0.8145 - accuracy: 0.7518 - val_loss: 0.6048 - val_accuracy: 0.8295\n",
      "Epoch 125/500\n",
      "3/3 [==============================] - 0s 32ms/step - loss: 0.6543 - accuracy: 0.8292 - val_loss: 0.6253 - val_accuracy: 0.8295\n",
      "Epoch 126/500\n",
      "3/3 [==============================] - 0s 34ms/step - loss: 0.7817 - accuracy: 0.7692 - val_loss: 0.5923 - val_accuracy: 0.8295\n",
      "Epoch 127/500\n",
      "3/3 [==============================] - 0s 35ms/step - loss: 0.7738 - accuracy: 0.7805 - val_loss: 0.5868 - val_accuracy: 0.8295\n",
      "Epoch 128/500\n",
      "3/3 [==============================] - 0s 32ms/step - loss: 0.7422 - accuracy: 0.7710 - val_loss: 0.5811 - val_accuracy: 0.8295\n",
      "Epoch 129/500\n",
      "3/3 [==============================] - 0s 34ms/step - loss: 0.6892 - accuracy: 0.7901 - val_loss: 0.5844 - val_accuracy: 0.8295\n",
      "Epoch 130/500\n",
      "3/3 [==============================] - 0s 32ms/step - loss: 0.6302 - accuracy: 0.8178 - val_loss: 0.5677 - val_accuracy: 0.8409\n",
      "Epoch 131/500\n",
      "3/3 [==============================] - 0s 32ms/step - loss: 0.6222 - accuracy: 0.8253 - val_loss: 0.5787 - val_accuracy: 0.8182\n",
      "Epoch 132/500\n",
      "3/3 [==============================] - 0s 37ms/step - loss: 0.6237 - accuracy: 0.8001 - val_loss: 0.5697 - val_accuracy: 0.8182\n",
      "Epoch 133/500\n",
      "3/3 [==============================] - 0s 52ms/step - loss: 0.6225 - accuracy: 0.8427 - val_loss: 0.5578 - val_accuracy: 0.8409\n",
      "Epoch 134/500\n",
      "3/3 [==============================] - 0s 47ms/step - loss: 0.7348 - accuracy: 0.7844 - val_loss: 0.5567 - val_accuracy: 0.8295\n",
      "Epoch 135/500\n",
      "3/3 [==============================] - 0s 32ms/step - loss: 0.7115 - accuracy: 0.7997 - val_loss: 0.5447 - val_accuracy: 0.8409\n",
      "Epoch 136/500\n",
      "3/3 [==============================] - 0s 33ms/step - loss: 0.6816 - accuracy: 0.7635 - val_loss: 0.5395 - val_accuracy: 0.8636\n",
      "Epoch 137/500\n",
      "3/3 [==============================] - 0s 93ms/step - loss: 0.5505 - accuracy: 0.8544 - val_loss: 0.5332 - val_accuracy: 0.8636\n",
      "Epoch 138/500\n",
      "3/3 [==============================] - 0s 33ms/step - loss: 0.7429 - accuracy: 0.8189 - val_loss: 0.5405 - val_accuracy: 0.8523\n",
      "Epoch 139/500\n",
      "3/3 [==============================] - 0s 33ms/step - loss: 0.7074 - accuracy: 0.8001 - val_loss: 0.5233 - val_accuracy: 0.8636\n",
      "Epoch 140/500\n",
      "3/3 [==============================] - 0s 34ms/step - loss: 0.5994 - accuracy: 0.8406 - val_loss: 0.5237 - val_accuracy: 0.8523\n",
      "Epoch 141/500\n",
      "3/3 [==============================] - 0s 44ms/step - loss: 0.7347 - accuracy: 0.8015 - val_loss: 0.5175 - val_accuracy: 0.8636\n",
      "Epoch 142/500\n",
      "3/3 [==============================] - 0s 41ms/step - loss: 0.7158 - accuracy: 0.7688 - val_loss: 0.5162 - val_accuracy: 0.8523\n",
      "Epoch 143/500\n",
      "3/3 [==============================] - 0s 44ms/step - loss: 0.6562 - accuracy: 0.7983 - val_loss: 0.5334 - val_accuracy: 0.8523\n",
      "Epoch 144/500\n",
      "3/3 [==============================] - 0s 37ms/step - loss: 0.6602 - accuracy: 0.7710 - val_loss: 0.5069 - val_accuracy: 0.8750\n",
      "Epoch 145/500\n",
      "3/3 [==============================] - 0s 36ms/step - loss: 0.5749 - accuracy: 0.8462 - val_loss: 0.5030 - val_accuracy: 0.8864\n",
      "Epoch 146/500\n",
      "3/3 [==============================] - 0s 33ms/step - loss: 0.6524 - accuracy: 0.7901 - val_loss: 0.4906 - val_accuracy: 0.8636\n",
      "Epoch 147/500\n",
      "3/3 [==============================] - 0s 34ms/step - loss: 0.6071 - accuracy: 0.7962 - val_loss: 0.4857 - val_accuracy: 0.8636\n",
      "Epoch 148/500\n",
      "3/3 [==============================] - 0s 59ms/step - loss: 0.5957 - accuracy: 0.8271 - val_loss: 0.4809 - val_accuracy: 0.8636\n",
      "Epoch 149/500\n",
      "3/3 [==============================] - 0s 34ms/step - loss: 0.5874 - accuracy: 0.8480 - val_loss: 0.4957 - val_accuracy: 0.8523\n",
      "Epoch 150/500\n",
      "3/3 [==============================] - 0s 36ms/step - loss: 0.6284 - accuracy: 0.8349 - val_loss: 0.4796 - val_accuracy: 0.8864\n",
      "Epoch 151/500\n",
      "3/3 [==============================] - 0s 34ms/step - loss: 0.5415 - accuracy: 0.8658 - val_loss: 0.4685 - val_accuracy: 0.8864\n",
      "Epoch 152/500\n",
      "3/3 [==============================] - 0s 35ms/step - loss: 0.6119 - accuracy: 0.8384 - val_loss: 0.4705 - val_accuracy: 0.8750\n",
      "Epoch 153/500\n",
      "3/3 [==============================] - 0s 34ms/step - loss: 0.5966 - accuracy: 0.8366 - val_loss: 0.4877 - val_accuracy: 0.8523\n",
      "Epoch 154/500\n",
      "3/3 [==============================] - 0s 42ms/step - loss: 0.6958 - accuracy: 0.7994 - val_loss: 0.4566 - val_accuracy: 0.8864\n",
      "Epoch 155/500\n",
      "3/3 [==============================] - 0s 32ms/step - loss: 0.5493 - accuracy: 0.8540 - val_loss: 0.4565 - val_accuracy: 0.8750\n",
      "Epoch 156/500\n",
      "3/3 [==============================] - 0s 32ms/step - loss: 0.5357 - accuracy: 0.8366 - val_loss: 0.4478 - val_accuracy: 0.8636\n",
      "Epoch 157/500\n",
      "3/3 [==============================] - 0s 33ms/step - loss: 0.5504 - accuracy: 0.8480 - val_loss: 0.4439 - val_accuracy: 0.8864\n",
      "Epoch 158/500\n",
      "3/3 [==============================] - 0s 39ms/step - loss: 0.5434 - accuracy: 0.8345 - val_loss: 0.4440 - val_accuracy: 0.8750\n",
      "Epoch 159/500\n",
      "3/3 [==============================] - 0s 61ms/step - loss: 0.6666 - accuracy: 0.7710 - val_loss: 0.4343 - val_accuracy: 0.8864\n",
      "Epoch 160/500\n",
      "3/3 [==============================] - 0s 33ms/step - loss: 0.6214 - accuracy: 0.8366 - val_loss: 0.4421 - val_accuracy: 0.8750\n",
      "Epoch 161/500\n",
      "3/3 [==============================] - 0s 34ms/step - loss: 0.5027 - accuracy: 0.8732 - val_loss: 0.4365 - val_accuracy: 0.8864\n",
      "Epoch 162/500\n",
      "3/3 [==============================] - 0s 32ms/step - loss: 0.5220 - accuracy: 0.8597 - val_loss: 0.4296 - val_accuracy: 0.8750\n",
      "Epoch 163/500\n",
      "3/3 [==============================] - 0s 33ms/step - loss: 0.5818 - accuracy: 0.8462 - val_loss: 0.4265 - val_accuracy: 0.8864\n",
      "Epoch 164/500\n",
      "3/3 [==============================] - 0s 33ms/step - loss: 0.5607 - accuracy: 0.8036 - val_loss: 0.4197 - val_accuracy: 0.8864\n",
      "Epoch 165/500\n",
      "3/3 [==============================] - 0s 32ms/step - loss: 0.4589 - accuracy: 0.8771 - val_loss: 0.4167 - val_accuracy: 0.8864\n",
      "Epoch 166/500\n",
      "3/3 [==============================] - 0s 32ms/step - loss: 0.5599 - accuracy: 0.8594 - val_loss: 0.4111 - val_accuracy: 0.8864\n",
      "Epoch 167/500\n",
      "3/3 [==============================] - 0s 33ms/step - loss: 0.5550 - accuracy: 0.8075 - val_loss: 0.4145 - val_accuracy: 0.8864\n",
      "Epoch 168/500\n",
      "3/3 [==============================] - 0s 32ms/step - loss: 0.4570 - accuracy: 0.8888 - val_loss: 0.4104 - val_accuracy: 0.8864\n",
      "Epoch 169/500\n",
      "3/3 [==============================] - 0s 32ms/step - loss: 0.5541 - accuracy: 0.8232 - val_loss: 0.3999 - val_accuracy: 0.8864\n",
      "Epoch 170/500\n",
      "3/3 [==============================] - 0s 33ms/step - loss: 0.5658 - accuracy: 0.8036 - val_loss: 0.3969 - val_accuracy: 0.8864\n",
      "Epoch 171/500\n",
      "3/3 [==============================] - 0s 32ms/step - loss: 0.4326 - accuracy: 0.9002 - val_loss: 0.3957 - val_accuracy: 0.8864\n",
      "Epoch 172/500\n",
      "3/3 [==============================] - 0s 34ms/step - loss: 0.5023 - accuracy: 0.8366 - val_loss: 0.3888 - val_accuracy: 0.8864\n",
      "Epoch 173/500\n",
      "3/3 [==============================] - 0s 82ms/step - loss: 0.5962 - accuracy: 0.8285 - val_loss: 0.3981 - val_accuracy: 0.8864\n",
      "Epoch 174/500\n",
      "3/3 [==============================] - 0s 32ms/step - loss: 0.6285 - accuracy: 0.8207 - val_loss: 0.3890 - val_accuracy: 0.8864\n",
      "Epoch 175/500\n",
      "3/3 [==============================] - 0s 32ms/step - loss: 0.5031 - accuracy: 0.8576 - val_loss: 0.3832 - val_accuracy: 0.8864\n",
      "Epoch 176/500\n",
      "3/3 [==============================] - 0s 32ms/step - loss: 0.4207 - accuracy: 0.9062 - val_loss: 0.3793 - val_accuracy: 0.8864\n",
      "Epoch 177/500\n",
      "3/3 [==============================] - 0s 32ms/step - loss: 0.4597 - accuracy: 0.9116 - val_loss: 0.3784 - val_accuracy: 0.8864\n",
      "Epoch 178/500\n",
      "3/3 [==============================] - 0s 33ms/step - loss: 0.4588 - accuracy: 0.8732 - val_loss: 0.3772 - val_accuracy: 0.8864\n",
      "Epoch 179/500\n",
      "3/3 [==============================] - 0s 32ms/step - loss: 0.5012 - accuracy: 0.8580 - val_loss: 0.3688 - val_accuracy: 0.8864\n",
      "Epoch 180/500\n",
      "3/3 [==============================] - 0s 32ms/step - loss: 0.4909 - accuracy: 0.8423 - val_loss: 0.3813 - val_accuracy: 0.8864\n",
      "Epoch 181/500\n",
      "3/3 [==============================] - 0s 33ms/step - loss: 0.4481 - accuracy: 0.8789 - val_loss: 0.3638 - val_accuracy: 0.8864\n",
      "Epoch 182/500\n",
      "3/3 [==============================] - 0s 32ms/step - loss: 0.5033 - accuracy: 0.8288 - val_loss: 0.3694 - val_accuracy: 0.8977\n",
      "Epoch 183/500\n",
      "3/3 [==============================] - 0s 32ms/step - loss: 0.4573 - accuracy: 0.8828 - val_loss: 0.3726 - val_accuracy: 0.8977\n",
      "Epoch 184/500\n",
      "3/3 [==============================] - 0s 65ms/step - loss: 0.5030 - accuracy: 0.8615 - val_loss: 0.3584 - val_accuracy: 0.8864\n",
      "Epoch 185/500\n",
      "3/3 [==============================] - 0s 52ms/step - loss: 0.4247 - accuracy: 0.8810 - val_loss: 0.3555 - val_accuracy: 0.8864\n",
      "Epoch 186/500\n",
      "3/3 [==============================] - 0s 46ms/step - loss: 0.3803 - accuracy: 0.8846 - val_loss: 0.3575 - val_accuracy: 0.8977\n",
      "Epoch 187/500\n",
      "3/3 [==============================] - 0s 48ms/step - loss: 0.4221 - accuracy: 0.9077 - val_loss: 0.3488 - val_accuracy: 0.8977\n",
      "Epoch 188/500\n",
      "3/3 [==============================] - 0s 54ms/step - loss: 0.4567 - accuracy: 0.8555 - val_loss: 0.3493 - val_accuracy: 0.8977\n",
      "Epoch 189/500\n",
      "3/3 [==============================] - 0s 49ms/step - loss: 0.4637 - accuracy: 0.8484 - val_loss: 0.3434 - val_accuracy: 0.8864\n",
      "Epoch 190/500\n",
      "3/3 [==============================] - 0s 54ms/step - loss: 0.4513 - accuracy: 0.8750 - val_loss: 0.3504 - val_accuracy: 0.9091\n",
      "Epoch 191/500\n",
      "3/3 [==============================] - 0s 42ms/step - loss: 0.4033 - accuracy: 0.8771 - val_loss: 0.3368 - val_accuracy: 0.8864\n",
      "Epoch 192/500\n",
      "3/3 [==============================] - 0s 32ms/step - loss: 0.5250 - accuracy: 0.8363 - val_loss: 0.3343 - val_accuracy: 0.9091\n",
      "Epoch 193/500\n",
      "3/3 [==============================] - 0s 33ms/step - loss: 0.3452 - accuracy: 0.8984 - val_loss: 0.3288 - val_accuracy: 0.8977\n",
      "Epoch 194/500\n",
      "3/3 [==============================] - 0s 34ms/step - loss: 0.4629 - accuracy: 0.8636 - val_loss: 0.3279 - val_accuracy: 0.8864\n",
      "Epoch 195/500\n",
      "3/3 [==============================] - 0s 33ms/step - loss: 0.4602 - accuracy: 0.8654 - val_loss: 0.3319 - val_accuracy: 0.8864\n",
      "Epoch 196/500\n",
      "3/3 [==============================] - 0s 34ms/step - loss: 0.4467 - accuracy: 0.8825 - val_loss: 0.3272 - val_accuracy: 0.9091\n",
      "Epoch 197/500\n",
      "3/3 [==============================] - 0s 50ms/step - loss: 0.3976 - accuracy: 0.8984 - val_loss: 0.3239 - val_accuracy: 0.9091\n",
      "Epoch 198/500\n",
      "3/3 [==============================] - 0s 60ms/step - loss: 0.4141 - accuracy: 0.9059 - val_loss: 0.3263 - val_accuracy: 0.8977\n",
      "Epoch 199/500\n",
      "3/3 [==============================] - 0s 57ms/step - loss: 0.4451 - accuracy: 0.8885 - val_loss: 0.3154 - val_accuracy: 0.9091\n",
      "Epoch 200/500\n",
      "3/3 [==============================] - 0s 40ms/step - loss: 0.4197 - accuracy: 0.8789 - val_loss: 0.3313 - val_accuracy: 0.9091\n",
      "Epoch 201/500\n",
      "3/3 [==============================] - 0s 46ms/step - loss: 0.4325 - accuracy: 0.9020 - val_loss: 0.3150 - val_accuracy: 0.9091\n",
      "Epoch 202/500\n",
      "3/3 [==============================] - 0s 55ms/step - loss: 0.4549 - accuracy: 0.8807 - val_loss: 0.3106 - val_accuracy: 0.8864\n",
      "Epoch 203/500\n",
      "3/3 [==============================] - 0s 52ms/step - loss: 0.4273 - accuracy: 0.8324 - val_loss: 0.3180 - val_accuracy: 0.8977\n",
      "Epoch 204/500\n",
      "3/3 [==============================] - 0s 47ms/step - loss: 0.4188 - accuracy: 0.9020 - val_loss: 0.3078 - val_accuracy: 0.9091\n",
      "Epoch 205/500\n",
      "3/3 [==============================] - 0s 54ms/step - loss: 0.3807 - accuracy: 0.8828 - val_loss: 0.3024 - val_accuracy: 0.9091\n",
      "Epoch 206/500\n",
      "3/3 [==============================] - 0s 58ms/step - loss: 0.3671 - accuracy: 0.8846 - val_loss: 0.3071 - val_accuracy: 0.9205\n",
      "Epoch 207/500\n",
      "3/3 [==============================] - 0s 48ms/step - loss: 0.3314 - accuracy: 0.9329 - val_loss: 0.2967 - val_accuracy: 0.9091\n",
      "Epoch 208/500\n",
      "3/3 [==============================] - 0s 53ms/step - loss: 0.3906 - accuracy: 0.8732 - val_loss: 0.2940 - val_accuracy: 0.9205\n",
      "Epoch 209/500\n",
      "3/3 [==============================] - 0s 85ms/step - loss: 0.4740 - accuracy: 0.8999 - val_loss: 0.2939 - val_accuracy: 0.9205\n",
      "Epoch 210/500\n",
      "3/3 [==============================] - 0s 33ms/step - loss: 0.3551 - accuracy: 0.9059 - val_loss: 0.2928 - val_accuracy: 0.9205\n",
      "Epoch 211/500\n",
      "3/3 [==============================] - 0s 33ms/step - loss: 0.4525 - accuracy: 0.8675 - val_loss: 0.2907 - val_accuracy: 0.9205\n",
      "Epoch 212/500\n",
      "3/3 [==============================] - 0s 33ms/step - loss: 0.3928 - accuracy: 0.8675 - val_loss: 0.2913 - val_accuracy: 0.9205\n",
      "Epoch 213/500\n",
      "3/3 [==============================] - 0s 33ms/step - loss: 0.4655 - accuracy: 0.8789 - val_loss: 0.2880 - val_accuracy: 0.9432\n",
      "Epoch 214/500\n",
      "3/3 [==============================] - 0s 32ms/step - loss: 0.4006 - accuracy: 0.9134 - val_loss: 0.2964 - val_accuracy: 0.9205\n",
      "Epoch 215/500\n",
      "3/3 [==============================] - 0s 32ms/step - loss: 0.3755 - accuracy: 0.8942 - val_loss: 0.2829 - val_accuracy: 0.9432\n",
      "Epoch 216/500\n",
      "3/3 [==============================] - 0s 33ms/step - loss: 0.3659 - accuracy: 0.8807 - val_loss: 0.2925 - val_accuracy: 0.9091\n",
      "Epoch 217/500\n",
      "3/3 [==============================] - 0s 37ms/step - loss: 0.3246 - accuracy: 0.9329 - val_loss: 0.2805 - val_accuracy: 0.9432\n",
      "Epoch 218/500\n",
      "3/3 [==============================] - 0s 37ms/step - loss: 0.3937 - accuracy: 0.9272 - val_loss: 0.2762 - val_accuracy: 0.9318\n",
      "Epoch 219/500\n",
      "3/3 [==============================] - 0s 35ms/step - loss: 0.3617 - accuracy: 0.8828 - val_loss: 0.2786 - val_accuracy: 0.9432\n",
      "Epoch 220/500\n",
      "3/3 [==============================] - 0s 33ms/step - loss: 0.4141 - accuracy: 0.8519 - val_loss: 0.2698 - val_accuracy: 0.9318\n",
      "Epoch 221/500\n",
      "3/3 [==============================] - 0s 33ms/step - loss: 0.3218 - accuracy: 0.8867 - val_loss: 0.2704 - val_accuracy: 0.9432\n",
      "Epoch 222/500\n",
      "3/3 [==============================] - 0s 32ms/step - loss: 0.3970 - accuracy: 0.8789 - val_loss: 0.2732 - val_accuracy: 0.9545\n",
      "Epoch 223/500\n",
      "3/3 [==============================] - 0s 33ms/step - loss: 0.3892 - accuracy: 0.8729 - val_loss: 0.2664 - val_accuracy: 0.9432\n",
      "Epoch 224/500\n",
      "3/3 [==============================] - 0s 32ms/step - loss: 0.3667 - accuracy: 0.8942 - val_loss: 0.2627 - val_accuracy: 0.9318\n",
      "Epoch 225/500\n",
      "3/3 [==============================] - 0s 34ms/step - loss: 0.3393 - accuracy: 0.9329 - val_loss: 0.2663 - val_accuracy: 0.9432\n",
      "Epoch 226/500\n",
      "3/3 [==============================] - 0s 32ms/step - loss: 0.3437 - accuracy: 0.9215 - val_loss: 0.2671 - val_accuracy: 0.9205\n",
      "Epoch 227/500\n",
      "3/3 [==============================] - 0s 32ms/step - loss: 0.3933 - accuracy: 0.8786 - val_loss: 0.2577 - val_accuracy: 0.9318\n",
      "Epoch 228/500\n",
      "3/3 [==============================] - 0s 33ms/step - loss: 0.2868 - accuracy: 0.8903 - val_loss: 0.2568 - val_accuracy: 0.9432\n",
      "Epoch 229/500\n",
      "3/3 [==============================] - 0s 33ms/step - loss: 0.3169 - accuracy: 0.9272 - val_loss: 0.2553 - val_accuracy: 0.9432\n",
      "Epoch 230/500\n",
      "3/3 [==============================] - 0s 33ms/step - loss: 0.3828 - accuracy: 0.8732 - val_loss: 0.2496 - val_accuracy: 0.9432\n",
      "Epoch 231/500\n",
      "3/3 [==============================] - 0s 32ms/step - loss: 0.3878 - accuracy: 0.8597 - val_loss: 0.2484 - val_accuracy: 0.9318\n",
      "Epoch 232/500\n",
      "3/3 [==============================] - 0s 32ms/step - loss: 0.3675 - accuracy: 0.9020 - val_loss: 0.2515 - val_accuracy: 0.9318\n",
      "Epoch 233/500\n",
      "3/3 [==============================] - 0s 33ms/step - loss: 0.3542 - accuracy: 0.9116 - val_loss: 0.2460 - val_accuracy: 0.9432\n",
      "Epoch 234/500\n",
      "3/3 [==============================] - 0s 32ms/step - loss: 0.3649 - accuracy: 0.9038 - val_loss: 0.2420 - val_accuracy: 0.9432\n",
      "Epoch 235/500\n",
      "3/3 [==============================] - 0s 33ms/step - loss: 0.3159 - accuracy: 0.9386 - val_loss: 0.2403 - val_accuracy: 0.9432\n",
      "Epoch 236/500\n",
      "3/3 [==============================] - 0s 35ms/step - loss: 0.3761 - accuracy: 0.8825 - val_loss: 0.2415 - val_accuracy: 0.9318\n",
      "Epoch 237/500\n",
      "3/3 [==============================] - 0s 33ms/step - loss: 0.2826 - accuracy: 0.9350 - val_loss: 0.2434 - val_accuracy: 0.9432\n",
      "Epoch 238/500\n",
      "3/3 [==============================] - 0s 33ms/step - loss: 0.3986 - accuracy: 0.8381 - val_loss: 0.2326 - val_accuracy: 0.9432\n",
      "Epoch 239/500\n",
      "3/3 [==============================] - 0s 33ms/step - loss: 0.3934 - accuracy: 0.9094 - val_loss: 0.2382 - val_accuracy: 0.9545\n",
      "Epoch 240/500\n",
      "3/3 [==============================] - 0s 32ms/step - loss: 0.2993 - accuracy: 0.9194 - val_loss: 0.2301 - val_accuracy: 0.9432\n",
      "Epoch 241/500\n",
      "3/3 [==============================] - 0s 33ms/step - loss: 0.3064 - accuracy: 0.9329 - val_loss: 0.2279 - val_accuracy: 0.9432\n",
      "Epoch 242/500\n",
      "3/3 [==============================] - 0s 33ms/step - loss: 0.3388 - accuracy: 0.9038 - val_loss: 0.2277 - val_accuracy: 0.9545\n",
      "Epoch 243/500\n",
      "3/3 [==============================] - 0s 33ms/step - loss: 0.2950 - accuracy: 0.9329 - val_loss: 0.2271 - val_accuracy: 0.9432\n",
      "Epoch 244/500\n",
      "3/3 [==============================] - 0s 32ms/step - loss: 0.3677 - accuracy: 0.9460 - val_loss: 0.2251 - val_accuracy: 0.9432\n",
      "Epoch 245/500\n",
      "3/3 [==============================] - 0s 87ms/step - loss: 0.2677 - accuracy: 0.9638 - val_loss: 0.2212 - val_accuracy: 0.9432\n",
      "Epoch 246/500\n",
      "3/3 [==============================] - 0s 47ms/step - loss: 0.3787 - accuracy: 0.8729 - val_loss: 0.2212 - val_accuracy: 0.9545\n",
      "Epoch 247/500\n",
      "3/3 [==============================] - 0s 38ms/step - loss: 0.3253 - accuracy: 0.8960 - val_loss: 0.2177 - val_accuracy: 0.9432\n",
      "Epoch 248/500\n",
      "3/3 [==============================] - 0s 39ms/step - loss: 0.3210 - accuracy: 0.9059 - val_loss: 0.2209 - val_accuracy: 0.9432\n",
      "Epoch 249/500\n",
      "3/3 [==============================] - 0s 39ms/step - loss: 0.3743 - accuracy: 0.8960 - val_loss: 0.2148 - val_accuracy: 0.9432\n",
      "Epoch 250/500\n",
      "3/3 [==============================] - 0s 45ms/step - loss: 0.2929 - accuracy: 0.9656 - val_loss: 0.2128 - val_accuracy: 0.9432\n",
      "Epoch 251/500\n",
      "3/3 [==============================] - 0s 45ms/step - loss: 0.2431 - accuracy: 0.9368 - val_loss: 0.2221 - val_accuracy: 0.9432\n",
      "Epoch 252/500\n",
      "3/3 [==============================] - 0s 36ms/step - loss: 0.2812 - accuracy: 0.9134 - val_loss: 0.2153 - val_accuracy: 0.9545\n",
      "Epoch 253/500\n",
      "3/3 [==============================] - 0s 33ms/step - loss: 0.3298 - accuracy: 0.9098 - val_loss: 0.2052 - val_accuracy: 0.9432\n",
      "Epoch 254/500\n",
      "3/3 [==============================] - 0s 33ms/step - loss: 0.2961 - accuracy: 0.9038 - val_loss: 0.2046 - val_accuracy: 0.9545\n",
      "Epoch 255/500\n",
      "3/3 [==============================] - 0s 33ms/step - loss: 0.3914 - accuracy: 0.9020 - val_loss: 0.2077 - val_accuracy: 0.9545\n",
      "Epoch 256/500\n",
      "3/3 [==============================] - 0s 32ms/step - loss: 0.3036 - accuracy: 0.8999 - val_loss: 0.2021 - val_accuracy: 0.9545\n",
      "Epoch 257/500\n",
      "3/3 [==============================] - 0s 33ms/step - loss: 0.3509 - accuracy: 0.8977 - val_loss: 0.2038 - val_accuracy: 0.9545\n",
      "Epoch 258/500\n",
      "3/3 [==============================] - 0s 33ms/step - loss: 0.2878 - accuracy: 0.9482 - val_loss: 0.2016 - val_accuracy: 0.9545\n",
      "Epoch 259/500\n",
      "3/3 [==============================] - 0s 33ms/step - loss: 0.2837 - accuracy: 0.9134 - val_loss: 0.1969 - val_accuracy: 0.9432\n",
      "Epoch 260/500\n",
      "3/3 [==============================] - 0s 33ms/step - loss: 0.3975 - accuracy: 0.8842 - val_loss: 0.2074 - val_accuracy: 0.9432\n",
      "Epoch 261/500\n",
      "3/3 [==============================] - 0s 32ms/step - loss: 0.3438 - accuracy: 0.8963 - val_loss: 0.1944 - val_accuracy: 0.9545\n",
      "Epoch 262/500\n",
      "3/3 [==============================] - 0s 35ms/step - loss: 0.2766 - accuracy: 0.9499 - val_loss: 0.1928 - val_accuracy: 0.9659\n",
      "Epoch 263/500\n",
      "3/3 [==============================] - 0s 36ms/step - loss: 0.2321 - accuracy: 0.9368 - val_loss: 0.1910 - val_accuracy: 0.9545\n",
      "Epoch 264/500\n",
      "3/3 [==============================] - 0s 36ms/step - loss: 0.2995 - accuracy: 0.9194 - val_loss: 0.1913 - val_accuracy: 0.9545\n",
      "Epoch 265/500\n",
      "3/3 [==============================] - 0s 33ms/step - loss: 0.2805 - accuracy: 0.9119 - val_loss: 0.1881 - val_accuracy: 0.9545\n",
      "Epoch 266/500\n",
      "3/3 [==============================] - 0s 32ms/step - loss: 0.2626 - accuracy: 0.9442 - val_loss: 0.1886 - val_accuracy: 0.9545\n",
      "Epoch 267/500\n",
      "3/3 [==============================] - 0s 33ms/step - loss: 0.2685 - accuracy: 0.9098 - val_loss: 0.1834 - val_accuracy: 0.9659\n",
      "Epoch 268/500\n",
      "3/3 [==============================] - 0s 32ms/step - loss: 0.3075 - accuracy: 0.9059 - val_loss: 0.1813 - val_accuracy: 0.9545\n",
      "Epoch 269/500\n",
      "3/3 [==============================] - 0s 40ms/step - loss: 0.2530 - accuracy: 0.9464 - val_loss: 0.1797 - val_accuracy: 0.9545\n",
      "Epoch 270/500\n",
      "3/3 [==============================] - 0s 32ms/step - loss: 0.2497 - accuracy: 0.9329 - val_loss: 0.1804 - val_accuracy: 0.9659\n",
      "Epoch 271/500\n",
      "3/3 [==============================] - 0s 33ms/step - loss: 0.2938 - accuracy: 0.9368 - val_loss: 0.1771 - val_accuracy: 0.9659\n",
      "Epoch 272/500\n",
      "3/3 [==============================] - 0s 33ms/step - loss: 0.2293 - accuracy: 0.9194 - val_loss: 0.1835 - val_accuracy: 0.9545\n",
      "Epoch 273/500\n",
      "3/3 [==============================] - 0s 33ms/step - loss: 0.2671 - accuracy: 0.9482 - val_loss: 0.1775 - val_accuracy: 0.9545\n",
      "Epoch 274/500\n",
      "3/3 [==============================] - 0s 32ms/step - loss: 0.2930 - accuracy: 0.9155 - val_loss: 0.1739 - val_accuracy: 0.9659\n",
      "Epoch 275/500\n",
      "3/3 [==============================] - 0s 32ms/step - loss: 0.2297 - accuracy: 0.9464 - val_loss: 0.1713 - val_accuracy: 0.9659\n",
      "Epoch 276/500\n",
      "3/3 [==============================] - 0s 31ms/step - loss: 0.2235 - accuracy: 0.9695 - val_loss: 0.1725 - val_accuracy: 0.9545\n",
      "Epoch 277/500\n",
      "3/3 [==============================] - 0s 36ms/step - loss: 0.2302 - accuracy: 0.9347 - val_loss: 0.1784 - val_accuracy: 0.9659\n",
      "Epoch 278/500\n",
      "3/3 [==============================] - 0s 33ms/step - loss: 0.3083 - accuracy: 0.8881 - val_loss: 0.1694 - val_accuracy: 0.9773\n",
      "Epoch 279/500\n",
      "3/3 [==============================] - 0s 32ms/step - loss: 0.2466 - accuracy: 0.9425 - val_loss: 0.1702 - val_accuracy: 0.9773\n",
      "Epoch 280/500\n",
      "3/3 [==============================] - 0s 32ms/step - loss: 0.3385 - accuracy: 0.8999 - val_loss: 0.1650 - val_accuracy: 0.9773\n",
      "Epoch 281/500\n",
      "3/3 [==============================] - 0s 82ms/step - loss: 0.2094 - accuracy: 0.9790 - val_loss: 0.1665 - val_accuracy: 0.9545\n",
      "Epoch 282/500\n",
      "3/3 [==============================] - 0s 34ms/step - loss: 0.2940 - accuracy: 0.9229 - val_loss: 0.1622 - val_accuracy: 1.0000\n",
      "Epoch 283/500\n",
      "3/3 [==============================] - 0s 32ms/step - loss: 0.2540 - accuracy: 0.9212 - val_loss: 0.1558 - val_accuracy: 1.0000\n",
      "Epoch 284/500\n",
      "3/3 [==============================] - 0s 32ms/step - loss: 0.2860 - accuracy: 0.9212 - val_loss: 0.1549 - val_accuracy: 1.0000\n",
      "Epoch 285/500\n",
      "3/3 [==============================] - 0s 34ms/step - loss: 0.2414 - accuracy: 0.9577 - val_loss: 0.1524 - val_accuracy: 1.0000\n",
      "Epoch 286/500\n",
      "3/3 [==============================] - 0s 34ms/step - loss: 0.2696 - accuracy: 0.9308 - val_loss: 0.1508 - val_accuracy: 0.9773\n",
      "Epoch 287/500\n",
      "3/3 [==============================] - 0s 32ms/step - loss: 0.2198 - accuracy: 0.9577 - val_loss: 0.1575 - val_accuracy: 0.9659\n",
      "Epoch 288/500\n",
      "3/3 [==============================] - 0s 32ms/step - loss: 0.2172 - accuracy: 0.9538 - val_loss: 0.1539 - val_accuracy: 0.9773\n",
      "Epoch 289/500\n",
      "3/3 [==============================] - 0s 33ms/step - loss: 0.1941 - accuracy: 0.9499 - val_loss: 0.1466 - val_accuracy: 0.9886\n",
      "Epoch 290/500\n",
      "3/3 [==============================] - 0s 33ms/step - loss: 0.2445 - accuracy: 0.9403 - val_loss: 0.1467 - val_accuracy: 1.0000\n",
      "Epoch 291/500\n",
      "3/3 [==============================] - 0s 33ms/step - loss: 0.2669 - accuracy: 0.9442 - val_loss: 0.1448 - val_accuracy: 0.9773\n",
      "Epoch 292/500\n",
      "3/3 [==============================] - 0s 33ms/step - loss: 0.3305 - accuracy: 0.8612 - val_loss: 0.1489 - val_accuracy: 0.9659\n",
      "Epoch 293/500\n",
      "3/3 [==============================] - 0s 32ms/step - loss: 0.2767 - accuracy: 0.9094 - val_loss: 0.1477 - val_accuracy: 0.9773\n",
      "Epoch 294/500\n",
      "3/3 [==============================] - 0s 34ms/step - loss: 0.2607 - accuracy: 0.9556 - val_loss: 0.1424 - val_accuracy: 0.9773\n",
      "Epoch 295/500\n",
      "3/3 [==============================] - 0s 34ms/step - loss: 0.2520 - accuracy: 0.9055 - val_loss: 0.1425 - val_accuracy: 0.9886\n",
      "Epoch 296/500\n",
      "3/3 [==============================] - 0s 32ms/step - loss: 0.2393 - accuracy: 0.9386 - val_loss: 0.1392 - val_accuracy: 0.9886\n",
      "Epoch 297/500\n",
      "3/3 [==============================] - 0s 33ms/step - loss: 0.2132 - accuracy: 0.9425 - val_loss: 0.1387 - val_accuracy: 0.9886\n",
      "Epoch 298/500\n",
      "3/3 [==============================] - 0s 33ms/step - loss: 0.2580 - accuracy: 0.9364 - val_loss: 0.1407 - val_accuracy: 0.9886\n",
      "Epoch 299/500\n",
      "3/3 [==============================] - 0s 32ms/step - loss: 0.2549 - accuracy: 0.9560 - val_loss: 0.1333 - val_accuracy: 1.0000\n",
      "Epoch 300/500\n",
      "3/3 [==============================] - 0s 33ms/step - loss: 0.1592 - accuracy: 0.9425 - val_loss: 0.1368 - val_accuracy: 0.9773\n",
      "Epoch 301/500\n",
      "3/3 [==============================] - 0s 32ms/step - loss: 0.2210 - accuracy: 0.9386 - val_loss: 0.1344 - val_accuracy: 0.9886\n",
      "Epoch 302/500\n",
      "3/3 [==============================] - 0s 33ms/step - loss: 0.2226 - accuracy: 0.9247 - val_loss: 0.1306 - val_accuracy: 1.0000\n",
      "Epoch 303/500\n",
      "3/3 [==============================] - 0s 34ms/step - loss: 0.1845 - accuracy: 0.9673 - val_loss: 0.1313 - val_accuracy: 1.0000\n",
      "Epoch 304/500\n",
      "3/3 [==============================] - 0s 32ms/step - loss: 0.2193 - accuracy: 0.9503 - val_loss: 0.1339 - val_accuracy: 0.9886\n",
      "Epoch 305/500\n",
      "3/3 [==============================] - 0s 32ms/step - loss: 0.1895 - accuracy: 0.9638 - val_loss: 0.1229 - val_accuracy: 1.0000\n",
      "Epoch 306/500\n",
      "3/3 [==============================] - 0s 33ms/step - loss: 0.2119 - accuracy: 0.9712 - val_loss: 0.1220 - val_accuracy: 1.0000\n",
      "Epoch 307/500\n",
      "3/3 [==============================] - 0s 32ms/step - loss: 0.2908 - accuracy: 0.9208 - val_loss: 0.1240 - val_accuracy: 1.0000\n",
      "Epoch 308/500\n",
      "3/3 [==============================] - 0s 34ms/step - loss: 0.2223 - accuracy: 0.9442 - val_loss: 0.1205 - val_accuracy: 1.0000\n",
      "Epoch 309/500\n",
      "3/3 [==============================] - 0s 33ms/step - loss: 0.1925 - accuracy: 0.9634 - val_loss: 0.1249 - val_accuracy: 0.9886\n",
      "Epoch 310/500\n",
      "3/3 [==============================] - 0s 33ms/step - loss: 0.1996 - accuracy: 0.9464 - val_loss: 0.1196 - val_accuracy: 1.0000\n",
      "Epoch 311/500\n",
      "3/3 [==============================] - 0s 33ms/step - loss: 0.2119 - accuracy: 0.9847 - val_loss: 0.1156 - val_accuracy: 1.0000\n",
      "Epoch 312/500\n",
      "3/3 [==============================] - 0s 33ms/step - loss: 0.2285 - accuracy: 0.9712 - val_loss: 0.1188 - val_accuracy: 1.0000\n",
      "Epoch 313/500\n",
      "3/3 [==============================] - 0s 32ms/step - loss: 0.2720 - accuracy: 0.9478 - val_loss: 0.1155 - val_accuracy: 1.0000\n",
      "Epoch 314/500\n",
      "3/3 [==============================] - 0s 32ms/step - loss: 0.2230 - accuracy: 0.9499 - val_loss: 0.1158 - val_accuracy: 1.0000\n",
      "Epoch 315/500\n",
      "3/3 [==============================] - 0s 32ms/step - loss: 0.1695 - accuracy: 0.9712 - val_loss: 0.1098 - val_accuracy: 1.0000\n",
      "Epoch 316/500\n",
      "3/3 [==============================] - 0s 32ms/step - loss: 0.1959 - accuracy: 0.9556 - val_loss: 0.1102 - val_accuracy: 1.0000\n",
      "Epoch 317/500\n",
      "3/3 [==============================] - 0s 81ms/step - loss: 0.2066 - accuracy: 0.9769 - val_loss: 0.1059 - val_accuracy: 1.0000\n",
      "Epoch 318/500\n",
      "3/3 [==============================] - 0s 32ms/step - loss: 0.1874 - accuracy: 0.9482 - val_loss: 0.1078 - val_accuracy: 1.0000\n",
      "Epoch 319/500\n",
      "3/3 [==============================] - 0s 32ms/step - loss: 0.2139 - accuracy: 0.9460 - val_loss: 0.1045 - val_accuracy: 1.0000\n",
      "Epoch 320/500\n",
      "3/3 [==============================] - 0s 33ms/step - loss: 0.2023 - accuracy: 0.9886 - val_loss: 0.1036 - val_accuracy: 1.0000\n",
      "Epoch 321/500\n",
      "3/3 [==============================] - 0s 33ms/step - loss: 0.2421 - accuracy: 0.9769 - val_loss: 0.1037 - val_accuracy: 1.0000\n",
      "Epoch 322/500\n",
      "3/3 [==============================] - 0s 33ms/step - loss: 0.1732 - accuracy: 0.9790 - val_loss: 0.1015 - val_accuracy: 1.0000\n",
      "Epoch 323/500\n",
      "3/3 [==============================] - 0s 33ms/step - loss: 0.1973 - accuracy: 0.9826 - val_loss: 0.0989 - val_accuracy: 1.0000\n",
      "Epoch 324/500\n",
      "3/3 [==============================] - 0s 32ms/step - loss: 0.1793 - accuracy: 0.9790 - val_loss: 0.1043 - val_accuracy: 1.0000\n",
      "Epoch 325/500\n",
      "3/3 [==============================] - 0s 32ms/step - loss: 0.1707 - accuracy: 0.9769 - val_loss: 0.1001 - val_accuracy: 1.0000\n",
      "Epoch 326/500\n",
      "3/3 [==============================] - 0s 32ms/step - loss: 0.1975 - accuracy: 0.9599 - val_loss: 0.0980 - val_accuracy: 1.0000\n",
      "Epoch 327/500\n",
      "3/3 [==============================] - 0s 32ms/step - loss: 0.2012 - accuracy: 0.9286 - val_loss: 0.0948 - val_accuracy: 1.0000\n",
      "Epoch 328/500\n",
      "3/3 [==============================] - 0s 33ms/step - loss: 0.1448 - accuracy: 0.9847 - val_loss: 0.1006 - val_accuracy: 1.0000\n",
      "Epoch 329/500\n",
      "3/3 [==============================] - 0s 32ms/step - loss: 0.2202 - accuracy: 0.9521 - val_loss: 0.0976 - val_accuracy: 1.0000\n",
      "Epoch 330/500\n",
      "3/3 [==============================] - 0s 32ms/step - loss: 0.1614 - accuracy: 0.9730 - val_loss: 0.0922 - val_accuracy: 1.0000\n",
      "Epoch 331/500\n",
      "3/3 [==============================] - 0s 32ms/step - loss: 0.2058 - accuracy: 0.9673 - val_loss: 0.0909 - val_accuracy: 1.0000\n",
      "Epoch 332/500\n",
      "3/3 [==============================] - 0s 33ms/step - loss: 0.1555 - accuracy: 0.9769 - val_loss: 0.0897 - val_accuracy: 1.0000\n",
      "Epoch 333/500\n",
      "3/3 [==============================] - 0s 32ms/step - loss: 0.1969 - accuracy: 0.9403 - val_loss: 0.0903 - val_accuracy: 1.0000\n",
      "Epoch 334/500\n",
      "3/3 [==============================] - 0s 33ms/step - loss: 0.2061 - accuracy: 0.9730 - val_loss: 0.0905 - val_accuracy: 1.0000\n",
      "Epoch 335/500\n",
      "3/3 [==============================] - 0s 32ms/step - loss: 0.1850 - accuracy: 0.9442 - val_loss: 0.0858 - val_accuracy: 1.0000\n",
      "Epoch 336/500\n",
      "3/3 [==============================] - 0s 33ms/step - loss: 0.1755 - accuracy: 0.9847 - val_loss: 0.0841 - val_accuracy: 1.0000\n",
      "Epoch 337/500\n",
      "3/3 [==============================] - 0s 32ms/step - loss: 0.1722 - accuracy: 0.9769 - val_loss: 0.0835 - val_accuracy: 1.0000\n",
      "Epoch 338/500\n",
      "3/3 [==============================] - 0s 33ms/step - loss: 0.1527 - accuracy: 0.9712 - val_loss: 0.0817 - val_accuracy: 1.0000\n",
      "Epoch 339/500\n",
      "3/3 [==============================] - 0s 32ms/step - loss: 0.1391 - accuracy: 0.9904 - val_loss: 0.0826 - val_accuracy: 1.0000\n",
      "Epoch 340/500\n",
      "3/3 [==============================] - 0s 32ms/step - loss: 0.1931 - accuracy: 0.9826 - val_loss: 0.0788 - val_accuracy: 1.0000\n",
      "Epoch 341/500\n",
      "3/3 [==============================] - 0s 33ms/step - loss: 0.1244 - accuracy: 1.0000 - val_loss: 0.0776 - val_accuracy: 1.0000\n",
      "Epoch 342/500\n",
      "3/3 [==============================] - 0s 32ms/step - loss: 0.1326 - accuracy: 0.9943 - val_loss: 0.0773 - val_accuracy: 1.0000\n",
      "Epoch 343/500\n",
      "3/3 [==============================] - 0s 32ms/step - loss: 0.1530 - accuracy: 0.9904 - val_loss: 0.0748 - val_accuracy: 1.0000\n",
      "Epoch 344/500\n",
      "3/3 [==============================] - 0s 33ms/step - loss: 0.1714 - accuracy: 0.9560 - val_loss: 0.0818 - val_accuracy: 1.0000\n",
      "Epoch 345/500\n",
      "3/3 [==============================] - 0s 33ms/step - loss: 0.1857 - accuracy: 0.9538 - val_loss: 0.0763 - val_accuracy: 1.0000\n",
      "Epoch 346/500\n",
      "3/3 [==============================] - 0s 33ms/step - loss: 0.1467 - accuracy: 0.9847 - val_loss: 0.0790 - val_accuracy: 1.0000\n",
      "Epoch 347/500\n",
      "3/3 [==============================] - 0s 32ms/step - loss: 0.1468 - accuracy: 0.9730 - val_loss: 0.0735 - val_accuracy: 1.0000\n",
      "Epoch 348/500\n",
      "3/3 [==============================] - 0s 32ms/step - loss: 0.1507 - accuracy: 0.9712 - val_loss: 0.0778 - val_accuracy: 1.0000\n",
      "Epoch 349/500\n",
      "3/3 [==============================] - 0s 33ms/step - loss: 0.1904 - accuracy: 0.9442 - val_loss: 0.0693 - val_accuracy: 1.0000\n",
      "Epoch 350/500\n",
      "3/3 [==============================] - 0s 32ms/step - loss: 0.1460 - accuracy: 0.9826 - val_loss: 0.0683 - val_accuracy: 1.0000\n",
      "Epoch 351/500\n",
      "3/3 [==============================] - 0s 33ms/step - loss: 0.1420 - accuracy: 0.9886 - val_loss: 0.0695 - val_accuracy: 1.0000\n",
      "Epoch 352/500\n",
      "3/3 [==============================] - 0s 32ms/step - loss: 0.1170 - accuracy: 1.0000 - val_loss: 0.0675 - val_accuracy: 1.0000\n",
      "Epoch 353/500\n",
      "3/3 [==============================] - 0s 82ms/step - loss: 0.2115 - accuracy: 0.9904 - val_loss: 0.0672 - val_accuracy: 1.0000\n",
      "Epoch 354/500\n",
      "3/3 [==============================] - 0s 32ms/step - loss: 0.1305 - accuracy: 0.9904 - val_loss: 0.0696 - val_accuracy: 1.0000\n",
      "Epoch 355/500\n",
      "3/3 [==============================] - 0s 32ms/step - loss: 0.1714 - accuracy: 0.9478 - val_loss: 0.0653 - val_accuracy: 1.0000\n",
      "Epoch 356/500\n",
      "3/3 [==============================] - 0s 32ms/step - loss: 0.1205 - accuracy: 0.9943 - val_loss: 0.0640 - val_accuracy: 1.0000\n",
      "Epoch 357/500\n",
      "3/3 [==============================] - 0s 34ms/step - loss: 0.1524 - accuracy: 0.9673 - val_loss: 0.0666 - val_accuracy: 1.0000\n",
      "Epoch 358/500\n",
      "3/3 [==============================] - 0s 33ms/step - loss: 0.1471 - accuracy: 0.9673 - val_loss: 0.0656 - val_accuracy: 1.0000\n",
      "Epoch 359/500\n",
      "3/3 [==============================] - 0s 32ms/step - loss: 0.1604 - accuracy: 0.9808 - val_loss: 0.0661 - val_accuracy: 1.0000\n",
      "Epoch 360/500\n",
      "3/3 [==============================] - 0s 33ms/step - loss: 0.1868 - accuracy: 0.9556 - val_loss: 0.0608 - val_accuracy: 1.0000\n",
      "Epoch 361/500\n",
      "3/3 [==============================] - 0s 33ms/step - loss: 0.1469 - accuracy: 0.9634 - val_loss: 0.0605 - val_accuracy: 1.0000\n",
      "Epoch 362/500\n",
      "3/3 [==============================] - 0s 33ms/step - loss: 0.1879 - accuracy: 0.9478 - val_loss: 0.0607 - val_accuracy: 1.0000\n",
      "Epoch 363/500\n",
      "3/3 [==============================] - 0s 33ms/step - loss: 0.1132 - accuracy: 0.9730 - val_loss: 0.0597 - val_accuracy: 1.0000\n",
      "Epoch 364/500\n",
      "3/3 [==============================] - 0s 32ms/step - loss: 0.1563 - accuracy: 0.9826 - val_loss: 0.0575 - val_accuracy: 1.0000\n",
      "Epoch 365/500\n",
      "3/3 [==============================] - 0s 33ms/step - loss: 0.1495 - accuracy: 0.9712 - val_loss: 0.0622 - val_accuracy: 1.0000\n",
      "Epoch 366/500\n",
      "3/3 [==============================] - 0s 33ms/step - loss: 0.1248 - accuracy: 0.9673 - val_loss: 0.0582 - val_accuracy: 1.0000\n",
      "Epoch 367/500\n",
      "3/3 [==============================] - 0s 32ms/step - loss: 0.1527 - accuracy: 0.9673 - val_loss: 0.0556 - val_accuracy: 1.0000\n",
      "Epoch 368/500\n",
      "3/3 [==============================] - 0s 32ms/step - loss: 0.1676 - accuracy: 0.9826 - val_loss: 0.0569 - val_accuracy: 1.0000\n",
      "Epoch 369/500\n",
      "3/3 [==============================] - 0s 32ms/step - loss: 0.1281 - accuracy: 0.9499 - val_loss: 0.0540 - val_accuracy: 1.0000\n",
      "Epoch 370/500\n",
      "3/3 [==============================] - 0s 34ms/step - loss: 0.1184 - accuracy: 0.9943 - val_loss: 0.0591 - val_accuracy: 1.0000\n",
      "Epoch 371/500\n",
      "3/3 [==============================] - 0s 33ms/step - loss: 0.1517 - accuracy: 0.9904 - val_loss: 0.0547 - val_accuracy: 1.0000\n",
      "Epoch 372/500\n",
      "3/3 [==============================] - 0s 32ms/step - loss: 0.1119 - accuracy: 1.0000 - val_loss: 0.0519 - val_accuracy: 1.0000\n",
      "Epoch 373/500\n",
      "3/3 [==============================] - 0s 33ms/step - loss: 0.1386 - accuracy: 0.9769 - val_loss: 0.0519 - val_accuracy: 1.0000\n",
      "Epoch 374/500\n",
      "3/3 [==============================] - 0s 32ms/step - loss: 0.1138 - accuracy: 0.9847 - val_loss: 0.0519 - val_accuracy: 1.0000\n",
      "Epoch 375/500\n",
      "3/3 [==============================] - 0s 32ms/step - loss: 0.1454 - accuracy: 0.9730 - val_loss: 0.0502 - val_accuracy: 1.0000\n",
      "Epoch 376/500\n",
      "3/3 [==============================] - 0s 32ms/step - loss: 0.1123 - accuracy: 0.9943 - val_loss: 0.0518 - val_accuracy: 1.0000\n",
      "Epoch 377/500\n",
      "3/3 [==============================] - 0s 32ms/step - loss: 0.1314 - accuracy: 0.9826 - val_loss: 0.0499 - val_accuracy: 1.0000\n",
      "Epoch 378/500\n",
      "3/3 [==============================] - 0s 32ms/step - loss: 0.1506 - accuracy: 0.9769 - val_loss: 0.0502 - val_accuracy: 1.0000\n",
      "Epoch 379/500\n",
      "3/3 [==============================] - 0s 32ms/step - loss: 0.1798 - accuracy: 0.9460 - val_loss: 0.0506 - val_accuracy: 1.0000\n",
      "Epoch 380/500\n",
      "3/3 [==============================] - 0s 33ms/step - loss: 0.0978 - accuracy: 0.9847 - val_loss: 0.0469 - val_accuracy: 1.0000\n",
      "Epoch 381/500\n",
      "3/3 [==============================] - 0s 32ms/step - loss: 0.1564 - accuracy: 0.9652 - val_loss: 0.0465 - val_accuracy: 1.0000\n",
      "Epoch 382/500\n",
      "3/3 [==============================] - 0s 33ms/step - loss: 0.1249 - accuracy: 0.9652 - val_loss: 0.0463 - val_accuracy: 1.0000\n",
      "Epoch 383/500\n",
      "3/3 [==============================] - 0s 34ms/step - loss: 0.1087 - accuracy: 0.9826 - val_loss: 0.0464 - val_accuracy: 1.0000\n",
      "Epoch 384/500\n",
      "3/3 [==============================] - 0s 33ms/step - loss: 0.1161 - accuracy: 0.9847 - val_loss: 0.0465 - val_accuracy: 1.0000\n",
      "Epoch 385/500\n",
      "3/3 [==============================] - 0s 32ms/step - loss: 0.1175 - accuracy: 0.9943 - val_loss: 0.0449 - val_accuracy: 1.0000\n",
      "Epoch 386/500\n",
      "3/3 [==============================] - 0s 33ms/step - loss: 0.1000 - accuracy: 0.9808 - val_loss: 0.0440 - val_accuracy: 1.0000\n",
      "Epoch 387/500\n",
      "3/3 [==============================] - 0s 32ms/step - loss: 0.1148 - accuracy: 0.9673 - val_loss: 0.0453 - val_accuracy: 1.0000\n",
      "Epoch 388/500\n",
      "3/3 [==============================] - 0s 33ms/step - loss: 0.1041 - accuracy: 0.9904 - val_loss: 0.0416 - val_accuracy: 1.0000\n",
      "Epoch 389/500\n",
      "3/3 [==============================] - 0s 82ms/step - loss: 0.1423 - accuracy: 0.9904 - val_loss: 0.0420 - val_accuracy: 1.0000\n",
      "Epoch 390/500\n",
      "3/3 [==============================] - 0s 32ms/step - loss: 0.1350 - accuracy: 0.9904 - val_loss: 0.0417 - val_accuracy: 1.0000\n",
      "Epoch 391/500\n",
      "3/3 [==============================] - 0s 33ms/step - loss: 0.1420 - accuracy: 0.9751 - val_loss: 0.0419 - val_accuracy: 1.0000\n",
      "Epoch 392/500\n",
      "3/3 [==============================] - 0s 33ms/step - loss: 0.1078 - accuracy: 0.9826 - val_loss: 0.0395 - val_accuracy: 1.0000\n",
      "Epoch 393/500\n",
      "3/3 [==============================] - 0s 43ms/step - loss: 0.1191 - accuracy: 0.9826 - val_loss: 0.0388 - val_accuracy: 1.0000\n",
      "Epoch 394/500\n",
      "3/3 [==============================] - 0s 33ms/step - loss: 0.1243 - accuracy: 0.9712 - val_loss: 0.0402 - val_accuracy: 1.0000\n",
      "Epoch 395/500\n",
      "3/3 [==============================] - 0s 32ms/step - loss: 0.1278 - accuracy: 0.9634 - val_loss: 0.0444 - val_accuracy: 1.0000\n",
      "Epoch 396/500\n",
      "3/3 [==============================] - 0s 33ms/step - loss: 0.1345 - accuracy: 0.9403 - val_loss: 0.0404 - val_accuracy: 1.0000\n",
      "Epoch 397/500\n",
      "3/3 [==============================] - 0s 32ms/step - loss: 0.1431 - accuracy: 0.9730 - val_loss: 0.0377 - val_accuracy: 1.0000\n",
      "Epoch 398/500\n",
      "3/3 [==============================] - 0s 33ms/step - loss: 0.1050 - accuracy: 0.9826 - val_loss: 0.0363 - val_accuracy: 1.0000\n",
      "Epoch 399/500\n",
      "3/3 [==============================] - 0s 33ms/step - loss: 0.0876 - accuracy: 1.0000 - val_loss: 0.0359 - val_accuracy: 1.0000\n",
      "Epoch 400/500\n",
      "3/3 [==============================] - 0s 33ms/step - loss: 0.1518 - accuracy: 0.9769 - val_loss: 0.0350 - val_accuracy: 1.0000\n",
      "Epoch 401/500\n",
      "3/3 [==============================] - 0s 33ms/step - loss: 0.0777 - accuracy: 1.0000 - val_loss: 0.0351 - val_accuracy: 1.0000\n",
      "Epoch 402/500\n",
      "3/3 [==============================] - 0s 32ms/step - loss: 0.1652 - accuracy: 0.9347 - val_loss: 0.0355 - val_accuracy: 1.0000\n",
      "Epoch 403/500\n",
      "3/3 [==============================] - 0s 33ms/step - loss: 0.1088 - accuracy: 0.9826 - val_loss: 0.0345 - val_accuracy: 1.0000\n",
      "Epoch 404/500\n",
      "3/3 [==============================] - 0s 32ms/step - loss: 0.1152 - accuracy: 0.9826 - val_loss: 0.0339 - val_accuracy: 1.0000\n",
      "Epoch 405/500\n",
      "3/3 [==============================] - 0s 33ms/step - loss: 0.1242 - accuracy: 0.9595 - val_loss: 0.0332 - val_accuracy: 1.0000\n",
      "Epoch 406/500\n",
      "3/3 [==============================] - 0s 34ms/step - loss: 0.1374 - accuracy: 0.9826 - val_loss: 0.0332 - val_accuracy: 1.0000\n",
      "Epoch 407/500\n",
      "3/3 [==============================] - 0s 34ms/step - loss: 0.1089 - accuracy: 0.9808 - val_loss: 0.0327 - val_accuracy: 1.0000\n",
      "Epoch 408/500\n",
      "3/3 [==============================] - 0s 32ms/step - loss: 0.0876 - accuracy: 0.9826 - val_loss: 0.0318 - val_accuracy: 1.0000\n",
      "Epoch 409/500\n",
      "3/3 [==============================] - 0s 33ms/step - loss: 0.1085 - accuracy: 0.9769 - val_loss: 0.0326 - val_accuracy: 1.0000\n",
      "Epoch 410/500\n",
      "3/3 [==============================] - 0s 33ms/step - loss: 0.1363 - accuracy: 0.9730 - val_loss: 0.0312 - val_accuracy: 1.0000\n",
      "Epoch 411/500\n",
      "3/3 [==============================] - 0s 32ms/step - loss: 0.1146 - accuracy: 0.9790 - val_loss: 0.0355 - val_accuracy: 1.0000\n",
      "Epoch 412/500\n",
      "3/3 [==============================] - 0s 33ms/step - loss: 0.1080 - accuracy: 0.9826 - val_loss: 0.0308 - val_accuracy: 1.0000\n",
      "Epoch 413/500\n",
      "3/3 [==============================] - 0s 32ms/step - loss: 0.1000 - accuracy: 1.0000 - val_loss: 0.0299 - val_accuracy: 1.0000\n",
      "Epoch 414/500\n",
      "3/3 [==============================] - 0s 32ms/step - loss: 0.1139 - accuracy: 0.9826 - val_loss: 0.0310 - val_accuracy: 1.0000\n",
      "Epoch 415/500\n",
      "3/3 [==============================] - 0s 32ms/step - loss: 0.1196 - accuracy: 0.9943 - val_loss: 0.0297 - val_accuracy: 1.0000\n",
      "Epoch 416/500\n",
      "3/3 [==============================] - 0s 32ms/step - loss: 0.1297 - accuracy: 1.0000 - val_loss: 0.0287 - val_accuracy: 1.0000\n",
      "Epoch 417/500\n",
      "3/3 [==============================] - 0s 33ms/step - loss: 0.0767 - accuracy: 0.9904 - val_loss: 0.0282 - val_accuracy: 1.0000\n",
      "Epoch 418/500\n",
      "3/3 [==============================] - 0s 34ms/step - loss: 0.0735 - accuracy: 0.9943 - val_loss: 0.0283 - val_accuracy: 1.0000\n",
      "Epoch 419/500\n",
      "3/3 [==============================] - 0s 32ms/step - loss: 0.1231 - accuracy: 0.9673 - val_loss: 0.0280 - val_accuracy: 1.0000\n",
      "Epoch 420/500\n",
      "3/3 [==============================] - 0s 33ms/step - loss: 0.1540 - accuracy: 0.9652 - val_loss: 0.0275 - val_accuracy: 1.0000\n",
      "Epoch 421/500\n",
      "3/3 [==============================] - 0s 33ms/step - loss: 0.1295 - accuracy: 0.9904 - val_loss: 0.0266 - val_accuracy: 1.0000\n",
      "Epoch 422/500\n",
      "3/3 [==============================] - 0s 32ms/step - loss: 0.0995 - accuracy: 1.0000 - val_loss: 0.0312 - val_accuracy: 1.0000\n",
      "Epoch 423/500\n",
      "3/3 [==============================] - 0s 32ms/step - loss: 0.0992 - accuracy: 0.9943 - val_loss: 0.0258 - val_accuracy: 1.0000\n",
      "Epoch 424/500\n",
      "3/3 [==============================] - 0s 32ms/step - loss: 0.0725 - accuracy: 1.0000 - val_loss: 0.0254 - val_accuracy: 1.0000\n",
      "Epoch 425/500\n",
      "3/3 [==============================] - 0s 80ms/step - loss: 0.0964 - accuracy: 0.9826 - val_loss: 0.0250 - val_accuracy: 1.0000\n",
      "Epoch 426/500\n",
      "3/3 [==============================] - 0s 33ms/step - loss: 0.0986 - accuracy: 0.9943 - val_loss: 0.0319 - val_accuracy: 1.0000\n",
      "Epoch 427/500\n",
      "3/3 [==============================] - 0s 35ms/step - loss: 0.1200 - accuracy: 0.9652 - val_loss: 0.0253 - val_accuracy: 1.0000\n",
      "Epoch 428/500\n",
      "3/3 [==============================] - 0s 32ms/step - loss: 0.0923 - accuracy: 0.9808 - val_loss: 0.0248 - val_accuracy: 1.0000\n",
      "Epoch 429/500\n",
      "3/3 [==============================] - 0s 33ms/step - loss: 0.1168 - accuracy: 0.9712 - val_loss: 0.0247 - val_accuracy: 1.0000\n",
      "Epoch 430/500\n",
      "3/3 [==============================] - 0s 33ms/step - loss: 0.0879 - accuracy: 0.9826 - val_loss: 0.0245 - val_accuracy: 1.0000\n",
      "Epoch 431/500\n",
      "3/3 [==============================] - 0s 34ms/step - loss: 0.0907 - accuracy: 1.0000 - val_loss: 0.0239 - val_accuracy: 1.0000\n",
      "Epoch 432/500\n",
      "3/3 [==============================] - 0s 32ms/step - loss: 0.1217 - accuracy: 0.9769 - val_loss: 0.0236 - val_accuracy: 1.0000\n",
      "Epoch 433/500\n",
      "3/3 [==============================] - 0s 33ms/step - loss: 0.1024 - accuracy: 0.9904 - val_loss: 0.0230 - val_accuracy: 1.0000\n",
      "Epoch 434/500\n",
      "3/3 [==============================] - 0s 33ms/step - loss: 0.0860 - accuracy: 0.9826 - val_loss: 0.0230 - val_accuracy: 1.0000\n",
      "Epoch 435/500\n",
      "3/3 [==============================] - 0s 32ms/step - loss: 0.0711 - accuracy: 1.0000 - val_loss: 0.0228 - val_accuracy: 1.0000\n",
      "Epoch 436/500\n",
      "3/3 [==============================] - 0s 32ms/step - loss: 0.1365 - accuracy: 0.9826 - val_loss: 0.0222 - val_accuracy: 1.0000\n",
      "Epoch 437/500\n",
      "3/3 [==============================] - 0s 32ms/step - loss: 0.0919 - accuracy: 0.9904 - val_loss: 0.0220 - val_accuracy: 1.0000\n",
      "Epoch 438/500\n",
      "3/3 [==============================] - 0s 33ms/step - loss: 0.1019 - accuracy: 0.9943 - val_loss: 0.0224 - val_accuracy: 1.0000\n",
      "Epoch 439/500\n",
      "3/3 [==============================] - 0s 32ms/step - loss: 0.1025 - accuracy: 0.9826 - val_loss: 0.0224 - val_accuracy: 1.0000\n",
      "Epoch 440/500\n",
      "3/3 [==============================] - 0s 32ms/step - loss: 0.0789 - accuracy: 0.9826 - val_loss: 0.0215 - val_accuracy: 1.0000\n",
      "Epoch 441/500\n",
      "3/3 [==============================] - 0s 33ms/step - loss: 0.0697 - accuracy: 1.0000 - val_loss: 0.0207 - val_accuracy: 1.0000\n",
      "Epoch 442/500\n",
      "3/3 [==============================] - 0s 32ms/step - loss: 0.0730 - accuracy: 0.9826 - val_loss: 0.0203 - val_accuracy: 1.0000\n",
      "Epoch 443/500\n",
      "3/3 [==============================] - 0s 32ms/step - loss: 0.0895 - accuracy: 0.9904 - val_loss: 0.0211 - val_accuracy: 1.0000\n",
      "Epoch 444/500\n",
      "3/3 [==============================] - 0s 34ms/step - loss: 0.0879 - accuracy: 0.9826 - val_loss: 0.0207 - val_accuracy: 1.0000\n",
      "Epoch 445/500\n",
      "3/3 [==============================] - 0s 32ms/step - loss: 0.1161 - accuracy: 0.9730 - val_loss: 0.0209 - val_accuracy: 1.0000\n",
      "Epoch 446/500\n",
      "3/3 [==============================] - 0s 33ms/step - loss: 0.0566 - accuracy: 1.0000 - val_loss: 0.0199 - val_accuracy: 1.0000\n",
      "Epoch 447/500\n",
      "3/3 [==============================] - 0s 33ms/step - loss: 0.0472 - accuracy: 1.0000 - val_loss: 0.0198 - val_accuracy: 1.0000\n",
      "Epoch 448/500\n",
      "3/3 [==============================] - 0s 33ms/step - loss: 0.0623 - accuracy: 1.0000 - val_loss: 0.0191 - val_accuracy: 1.0000\n",
      "Epoch 449/500\n",
      "3/3 [==============================] - 0s 33ms/step - loss: 0.1664 - accuracy: 0.9460 - val_loss: 0.0204 - val_accuracy: 1.0000\n",
      "Epoch 450/500\n",
      "3/3 [==============================] - 0s 32ms/step - loss: 0.0785 - accuracy: 0.9769 - val_loss: 0.0189 - val_accuracy: 1.0000\n",
      "Epoch 451/500\n",
      "3/3 [==============================] - 0s 33ms/step - loss: 0.0677 - accuracy: 1.0000 - val_loss: 0.0186 - val_accuracy: 1.0000\n",
      "Epoch 452/500\n",
      "3/3 [==============================] - 0s 32ms/step - loss: 0.0749 - accuracy: 0.9904 - val_loss: 0.0180 - val_accuracy: 1.0000\n",
      "Epoch 453/500\n",
      "3/3 [==============================] - 0s 32ms/step - loss: 0.0878 - accuracy: 0.9652 - val_loss: 0.0177 - val_accuracy: 1.0000\n",
      "Epoch 454/500\n",
      "3/3 [==============================] - 0s 32ms/step - loss: 0.0672 - accuracy: 1.0000 - val_loss: 0.0179 - val_accuracy: 1.0000\n",
      "Epoch 455/500\n",
      "3/3 [==============================] - 0s 33ms/step - loss: 0.0590 - accuracy: 1.0000 - val_loss: 0.0171 - val_accuracy: 1.0000\n",
      "Epoch 456/500\n",
      "3/3 [==============================] - 0s 32ms/step - loss: 0.0916 - accuracy: 0.9904 - val_loss: 0.0169 - val_accuracy: 1.0000\n",
      "Epoch 457/500\n",
      "3/3 [==============================] - 0s 33ms/step - loss: 0.0459 - accuracy: 1.0000 - val_loss: 0.0165 - val_accuracy: 1.0000\n",
      "Epoch 458/500\n",
      "3/3 [==============================] - 0s 33ms/step - loss: 0.0602 - accuracy: 1.0000 - val_loss: 0.0165 - val_accuracy: 1.0000\n",
      "Epoch 459/500\n",
      "3/3 [==============================] - 0s 32ms/step - loss: 0.0740 - accuracy: 0.9904 - val_loss: 0.0163 - val_accuracy: 1.0000\n",
      "Epoch 460/500\n",
      "3/3 [==============================] - 0s 33ms/step - loss: 0.0666 - accuracy: 0.9769 - val_loss: 0.0169 - val_accuracy: 1.0000\n",
      "Epoch 461/500\n",
      "3/3 [==============================] - 0s 80ms/step - loss: 0.0700 - accuracy: 1.0000 - val_loss: 0.0163 - val_accuracy: 1.0000\n",
      "Epoch 462/500\n",
      "3/3 [==============================] - 0s 33ms/step - loss: 0.0508 - accuracy: 1.0000 - val_loss: 0.0168 - val_accuracy: 1.0000\n",
      "Epoch 463/500\n",
      "3/3 [==============================] - 0s 32ms/step - loss: 0.1047 - accuracy: 0.9769 - val_loss: 0.0184 - val_accuracy: 1.0000\n",
      "Epoch 464/500\n",
      "3/3 [==============================] - 0s 32ms/step - loss: 0.0525 - accuracy: 1.0000 - val_loss: 0.0163 - val_accuracy: 1.0000\n",
      "Epoch 465/500\n",
      "3/3 [==============================] - 0s 32ms/step - loss: 0.0488 - accuracy: 0.9943 - val_loss: 0.0153 - val_accuracy: 1.0000\n",
      "Epoch 466/500\n",
      "3/3 [==============================] - 0s 33ms/step - loss: 0.1030 - accuracy: 0.9808 - val_loss: 0.0153 - val_accuracy: 1.0000\n",
      "Epoch 467/500\n",
      "3/3 [==============================] - 0s 33ms/step - loss: 0.0738 - accuracy: 1.0000 - val_loss: 0.0148 - val_accuracy: 1.0000\n",
      "Epoch 468/500\n",
      "3/3 [==============================] - 0s 33ms/step - loss: 0.0426 - accuracy: 1.0000 - val_loss: 0.0152 - val_accuracy: 1.0000\n",
      "Epoch 469/500\n",
      "3/3 [==============================] - 0s 33ms/step - loss: 0.0531 - accuracy: 1.0000 - val_loss: 0.0145 - val_accuracy: 1.0000\n",
      "Epoch 470/500\n",
      "3/3 [==============================] - 0s 32ms/step - loss: 0.0724 - accuracy: 0.9769 - val_loss: 0.0144 - val_accuracy: 1.0000\n",
      "Epoch 471/500\n",
      "3/3 [==============================] - 0s 33ms/step - loss: 0.0725 - accuracy: 1.0000 - val_loss: 0.0145 - val_accuracy: 1.0000\n",
      "Epoch 472/500\n",
      "3/3 [==============================] - 0s 33ms/step - loss: 0.0621 - accuracy: 1.0000 - val_loss: 0.0140 - val_accuracy: 1.0000\n",
      "Epoch 473/500\n",
      "3/3 [==============================] - 0s 33ms/step - loss: 0.0653 - accuracy: 0.9826 - val_loss: 0.0142 - val_accuracy: 1.0000\n",
      "Epoch 474/500\n",
      "3/3 [==============================] - 0s 33ms/step - loss: 0.0641 - accuracy: 1.0000 - val_loss: 0.0143 - val_accuracy: 1.0000\n",
      "Epoch 475/500\n",
      "3/3 [==============================] - 0s 32ms/step - loss: 0.0836 - accuracy: 0.9826 - val_loss: 0.0137 - val_accuracy: 1.0000\n",
      "Epoch 476/500\n",
      "3/3 [==============================] - 0s 32ms/step - loss: 0.0716 - accuracy: 1.0000 - val_loss: 0.0138 - val_accuracy: 1.0000\n",
      "Epoch 477/500\n",
      "3/3 [==============================] - 0s 32ms/step - loss: 0.0518 - accuracy: 0.9826 - val_loss: 0.0135 - val_accuracy: 1.0000\n",
      "Epoch 478/500\n",
      "3/3 [==============================] - 0s 33ms/step - loss: 0.0545 - accuracy: 0.9904 - val_loss: 0.0137 - val_accuracy: 1.0000\n",
      "Epoch 479/500\n",
      "3/3 [==============================] - 0s 33ms/step - loss: 0.0730 - accuracy: 0.9943 - val_loss: 0.0138 - val_accuracy: 1.0000\n",
      "Epoch 480/500\n",
      "3/3 [==============================] - 0s 33ms/step - loss: 0.0700 - accuracy: 0.9826 - val_loss: 0.0138 - val_accuracy: 1.0000\n",
      "Epoch 481/500\n",
      "3/3 [==============================] - 0s 34ms/step - loss: 0.0492 - accuracy: 1.0000 - val_loss: 0.0130 - val_accuracy: 1.0000\n",
      "Epoch 482/500\n",
      "3/3 [==============================] - 0s 33ms/step - loss: 0.0552 - accuracy: 1.0000 - val_loss: 0.0132 - val_accuracy: 1.0000\n",
      "Epoch 483/500\n",
      "3/3 [==============================] - 0s 33ms/step - loss: 0.0642 - accuracy: 1.0000 - val_loss: 0.0126 - val_accuracy: 1.0000\n",
      "Epoch 484/500\n",
      "3/3 [==============================] - 0s 32ms/step - loss: 0.0609 - accuracy: 0.9826 - val_loss: 0.0121 - val_accuracy: 1.0000\n",
      "Epoch 485/500\n",
      "3/3 [==============================] - 0s 32ms/step - loss: 0.0746 - accuracy: 0.9943 - val_loss: 0.0126 - val_accuracy: 1.0000\n",
      "Epoch 486/500\n",
      "3/3 [==============================] - 0s 33ms/step - loss: 0.0354 - accuracy: 1.0000 - val_loss: 0.0119 - val_accuracy: 1.0000\n",
      "Epoch 487/500\n",
      "3/3 [==============================] - 0s 32ms/step - loss: 0.1008 - accuracy: 1.0000 - val_loss: 0.0145 - val_accuracy: 1.0000\n",
      "Epoch 488/500\n",
      "3/3 [==============================] - 0s 33ms/step - loss: 0.0732 - accuracy: 0.9808 - val_loss: 0.0123 - val_accuracy: 1.0000\n",
      "Epoch 489/500\n",
      "3/3 [==============================] - 0s 33ms/step - loss: 0.1093 - accuracy: 0.9769 - val_loss: 0.0122 - val_accuracy: 1.0000\n",
      "Epoch 490/500\n",
      "3/3 [==============================] - 0s 33ms/step - loss: 0.0422 - accuracy: 1.0000 - val_loss: 0.0120 - val_accuracy: 1.0000\n",
      "Epoch 491/500\n",
      "3/3 [==============================] - 0s 32ms/step - loss: 0.0413 - accuracy: 1.0000 - val_loss: 0.0116 - val_accuracy: 1.0000\n",
      "Epoch 492/500\n",
      "3/3 [==============================] - 0s 32ms/step - loss: 0.0289 - accuracy: 1.0000 - val_loss: 0.0116 - val_accuracy: 1.0000\n",
      "Epoch 493/500\n",
      "3/3 [==============================] - 0s 32ms/step - loss: 0.0676 - accuracy: 1.0000 - val_loss: 0.0114 - val_accuracy: 1.0000\n",
      "Epoch 494/500\n",
      "3/3 [==============================] - 0s 33ms/step - loss: 0.0419 - accuracy: 1.0000 - val_loss: 0.0144 - val_accuracy: 1.0000\n",
      "Epoch 495/500\n",
      "3/3 [==============================] - 0s 32ms/step - loss: 0.0536 - accuracy: 1.0000 - val_loss: 0.0111 - val_accuracy: 1.0000\n",
      "Epoch 496/500\n",
      "3/3 [==============================] - 0s 33ms/step - loss: 0.0769 - accuracy: 0.9904 - val_loss: 0.0112 - val_accuracy: 1.0000\n",
      "Epoch 497/500\n",
      "3/3 [==============================] - 0s 83ms/step - loss: 0.0759 - accuracy: 0.9904 - val_loss: 0.0109 - val_accuracy: 1.0000\n",
      "Epoch 498/500\n",
      "3/3 [==============================] - 0s 32ms/step - loss: 0.0588 - accuracy: 1.0000 - val_loss: 0.0105 - val_accuracy: 1.0000\n",
      "Epoch 499/500\n",
      "3/3 [==============================] - 0s 36ms/step - loss: 0.0582 - accuracy: 1.0000 - val_loss: 0.0103 - val_accuracy: 1.0000\n",
      "Epoch 500/500\n",
      "3/3 [==============================] - 0s 34ms/step - loss: 0.0903 - accuracy: 0.9751 - val_loss: 0.0102 - val_accuracy: 1.0000\n"
     ]
    }
   ],
   "source": [
    "history = model.fit([inputs_train, queries_train], answers_train, batch_size=32, epochs=500, validation_data=([inputs_train, queries_train], answers_train))"
   ]
  },
  {
   "cell_type": "code",
   "execution_count": 58,
   "metadata": {},
   "outputs": [
    {
     "name": "stdout",
     "output_type": "stream",
     "text": [
      "dict_keys(['loss', 'accuracy', 'val_loss', 'val_accuracy'])\n"
     ]
    },
    {
     "data": {
      "image/png": "[encoded data removed]",
      "text/plain": [
       "<Figure size 432x288 with 1 Axes>"
      ]
     },
     "metadata": {
      "needs_background": "light"
     },
     "output_type": "display_data"
    }
   ],
   "source": [
    "import matplotlib.pyplot as plt\n",
    "%matplotlib inline\n",
    "print(history.history.keys())\n",
    "\n",
    "plt.plot(history.history['accuracy'])\n",
    "plt.plot(history.history['val_accuracy'])\n",
    "plt.title('model accuracy')\n",
    "plt.ylabel('accuracy')\n",
    "plt.xlabel('epoch')\n",
    "plt.legend(['train', 'test'], loc='upper left')\n",
    "plt.show()"
   ]
  },
  {
   "cell_type": "code",
   "execution_count": 59,
   "metadata": {},
   "outputs": [],
   "source": [
    "pred_results = model.predict(([inputs_train, queries_train]))"
   ]
  },
  {
   "cell_type": "code",
   "execution_count": 60,
   "metadata": {},
   "outputs": [
    {
     "data": {
      "text/plain": [
       "'does dr. noferesti teach artificial intelligence'"
      ]
     },
     "execution_count": 60,
     "metadata": {},
     "output_type": "execute_result"
    }
   ],
   "source": [
    "' '.join(train_data[30][1])"
   ]
  },
  {
   "cell_type": "code",
   "execution_count": 61,
   "metadata": {},
   "outputs": [
    {
     "data": {
      "text/plain": [
       "array([2.37452680e-09, 3.56347885e-09, 2.75264522e-09, 2.67624234e-09,\n",
       "       3.70016693e-07, 3.29221117e-09, 1.13311449e-09, 7.12068777e-06,\n",
       "       1.70516423e-09, 1.77724135e-09, 1.71722414e-09, 2.70388734e-09,\n",
       "       1.96068650e-09, 2.88092061e-09, 1.01437758e-09, 3.76586650e-05,\n",
       "       2.11719509e-09, 2.71991185e-09, 7.52353060e-07, 3.17571702e-09,\n",
       "       2.50399125e-06, 9.18519072e-06, 1.62881797e-09, 1.06015905e-05,\n",
       "       4.69846418e-06, 1.37065814e-09, 5.03705451e-06, 1.61847447e-09,\n",
       "       2.54155030e-09, 4.68514116e-09, 2.63037769e-09, 3.88582277e-09,\n",
       "       2.73786371e-09, 1.29690647e-09, 1.40135703e-09, 1.86156335e-09,\n",
       "       2.54564969e-09, 2.10990647e-09, 9.99780118e-01, 4.09312264e-07,\n",
       "       9.15082843e-10, 3.50366208e-05, 6.25659140e-06, 2.27126273e-09,\n",
       "       2.95776270e-09, 2.16936313e-09, 2.80948576e-09, 1.34979417e-09,\n",
       "       2.65413447e-09, 9.94530710e-05, 1.49869250e-09, 1.86466576e-09,\n",
       "       2.29450126e-09, 1.06755305e-09, 7.89741883e-10, 1.70267478e-09,\n",
       "       6.69399242e-07], dtype=float32)"
      ]
     },
     "execution_count": 61,
     "metadata": {},
     "output_type": "execute_result"
    }
   ],
   "source": [
    "pred_results[30]"
   ]
  },
  {
   "cell_type": "code",
   "execution_count": 62,
   "metadata": {},
   "outputs": [],
   "source": [
    "val_max = np.argmax(pred_results[30])"
   ]
  },
  {
   "cell_type": "code",
   "execution_count": 63,
   "metadata": {},
   "outputs": [],
   "source": [
    "for key, val in tokenizer.word_index.items():\n",
    "    if val == val_max:\n",
    "        k = key"
   ]
  },
  {
   "cell_type": "code",
   "execution_count": 64,
   "metadata": {},
   "outputs": [
    {
     "data": {
      "text/plain": [
       "'yes'"
      ]
     },
     "execution_count": 64,
     "metadata": {},
     "output_type": "execute_result"
    }
   ],
   "source": [
    "k"
   ]
  },
  {
   "cell_type": "code",
   "execution_count": 65,
   "metadata": {},
   "outputs": [
    {
     "data": {
      "text/plain": [
       "0.9997801"
      ]
     },
     "execution_count": 65,
     "metadata": {},
     "output_type": "execute_result"
    }
   ],
   "source": [
    "pred_results[30][val_max]"
   ]
  },
  {
   "cell_type": "code",
   "execution_count": 66,
   "metadata": {},
   "outputs": [],
   "source": [
    "my_story = \"Dr. Noferesti teaches artificial intelligence\""
   ]
  },
  {
   "cell_type": "code",
   "execution_count": 67,
   "metadata": {},
   "outputs": [
    {
     "data": {
      "text/plain": [
       "['Dr.', 'Noferesti', 'teaches', 'artificial', 'intelligence']"
      ]
     },
     "execution_count": 67,
     "metadata": {},
     "output_type": "execute_result"
    }
   ],
   "source": [
    "my_story.split()"
   ]
  },
  {
   "cell_type": "code",
   "execution_count": 68,
   "metadata": {},
   "outputs": [],
   "source": [
    "my_question = \"Dr. Noferesti teach electrical circuits\""
   ]
  },
  {
   "cell_type": "code",
   "execution_count": 69,
   "metadata": {},
   "outputs": [
    {
     "data": {
      "text/plain": [
       "['Dr.', 'Noferesti', 'teach', 'electrical', 'circuits']"
      ]
     },
     "execution_count": 69,
     "metadata": {},
     "output_type": "execute_result"
    }
   ],
   "source": [
    "my_question.split()"
   ]
  },
  {
   "cell_type": "code",
   "execution_count": 70,
   "metadata": {},
   "outputs": [],
   "source": [
    "mydata = [(my_story.split(), my_question.split(), ['no'])]"
   ]
  },
  {
   "cell_type": "code",
   "execution_count": 71,
   "metadata": {},
   "outputs": [],
   "source": [
    "my_story, my_ques, my_ans = vectorize_stories(mydata)"
   ]
  },
  {
   "cell_type": "code",
   "execution_count": 72,
   "metadata": {},
   "outputs": [],
   "source": [
    "pred_results = model.predict(([my_story, my_ques]))"
   ]
  },
  {
   "cell_type": "code",
   "execution_count": 73,
   "metadata": {},
   "outputs": [
    {
     "data": {
      "text/plain": [
       "array([3.61351127e-08, 4.49304949e-08, 5.22435997e-08, 2.56982737e-08,\n",
       "       3.33107278e-06, 6.79457770e-08, 1.79982074e-08, 4.05766732e-05,\n",
       "       2.63219455e-08, 2.94845783e-08, 2.01441619e-08, 3.42602320e-08,\n",
       "       2.09450963e-08, 2.94334459e-08, 1.15951000e-08, 3.87315304e-05,\n",
       "       2.75215193e-08, 5.20761638e-08, 5.94594121e-06, 4.13738341e-08,\n",
       "       1.80616153e-05, 1.37704228e-05, 2.70335114e-08, 1.83181055e-05,\n",
       "       8.98843427e-06, 1.89145961e-08, 5.74387923e-05, 2.18877698e-08,\n",
       "       3.49288882e-08, 6.83276014e-08, 3.05639389e-08, 5.16868717e-08,\n",
       "       3.77193352e-08, 1.68143277e-08, 1.62669131e-08, 2.71214642e-08,\n",
       "       3.27420722e-08, 3.26531371e-08, 9.99514580e-01, 7.84542010e-07,\n",
       "       1.30874955e-08, 1.48712206e-04, 6.85051709e-05, 2.46972007e-08,\n",
       "       5.37204272e-08, 2.75322289e-08, 4.68776911e-08, 1.61549831e-08,\n",
       "       4.25306546e-08, 6.02210639e-05, 2.31682371e-08, 3.47091991e-08,\n",
       "       3.40772317e-08, 1.27114292e-08, 1.16391945e-08, 3.44766171e-08,\n",
       "       7.41721294e-07], dtype=float32)"
      ]
     },
     "execution_count": 73,
     "metadata": {},
     "output_type": "execute_result"
    }
   ],
   "source": [
    "pred_results[0]"
   ]
  },
  {
   "cell_type": "code",
   "execution_count": 74,
   "metadata": {},
   "outputs": [
    {
     "name": "stdout",
     "output_type": "stream",
     "text": [
      "38\n"
     ]
    }
   ],
   "source": [
    "val_max = np.argmax(pred_results[0])\n",
    "print(val_max)"
   ]
  },
  {
   "cell_type": "code",
   "execution_count": 75,
   "metadata": {},
   "outputs": [],
   "source": [
    "for key, val in tokenizer.word_index.items():\n",
    "    if val == val_max:\n",
    "        k = key"
   ]
  },
  {
   "cell_type": "code",
   "execution_count": 76,
   "metadata": {},
   "outputs": [
    {
     "data": {
      "text/plain": [
       "'yes'"
      ]
     },
     "execution_count": 76,
     "metadata": {},
     "output_type": "execute_result"
    }
   ],
   "source": [
    "k"
   ]
  },
  {
   "cell_type": "code",
   "execution_count": null,
   "metadata": {},
   "outputs": [],
   "source": []
  }
 ],
 "metadata": {
  "kernelspec": {
   "display_name": "Python 3",
   "language": "python",
   "name": "python3"
  },
  "language_info": {
   "codemirror_mode": {
    "name": "ipython",
    "version": 3
   },
   "file_extension": ".py",
   "mimetype": "text/x-python",
   "name": "python",
   "nbconvert_exporter": "python",
   "pygments_lexer": "ipython3",
   "version": "3.8.1"
  }
 },
 "nbformat": 4,
 "nbformat_minor": 4
}
